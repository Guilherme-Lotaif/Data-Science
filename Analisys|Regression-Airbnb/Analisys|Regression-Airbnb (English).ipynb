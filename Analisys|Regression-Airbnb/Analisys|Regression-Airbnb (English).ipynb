{
 "cells": [
  {
   "cell_type": "markdown",
   "metadata": {},
   "source": [
    "\n",
    "#### ____\n",
    "\n",
    "# &nbsp;&nbsp;&nbsp;&nbsp;&nbsp;&nbsp;&nbsp;&nbsp;&nbsp;&nbsp;&nbsp;&nbsp;&nbsp;&nbsp;&nbsp;&nbsp;&nbsp;&nbsp;&nbsp;&nbsp;&nbsp;&nbsp;&nbsp;&nbsp;&nbsp;&nbsp;&nbsp;&nbsp;&nbsp;&nbsp;&nbsp;&nbsp;&nbsp; &nbsp;                        Airbnb Analisys - Data Science\n",
    "### &nbsp;&nbsp;&nbsp;&nbsp;&nbsp;&nbsp;&nbsp;&nbsp;&nbsp;&nbsp;&nbsp;&nbsp;&nbsp;&nbsp;&nbsp;&nbsp;&nbsp;&nbsp;&nbsp;&nbsp;&nbsp;&nbsp;&nbsp;&nbsp;&nbsp;&nbsp;&nbsp;&nbsp;&nbsp;&nbsp;&nbsp;&nbsp;&nbsp;&nbsp;&nbsp;&nbsp;&nbsp;&nbsp;&nbsp;&nbsp;&nbsp;&nbsp;&nbsp;&nbsp;&nbsp;&nbsp;&nbsp;&nbsp;&nbsp;&nbsp;&nbsp;&nbsp;&nbsp;&nbsp;&nbsp;&nbsp;&nbsp;&nbsp;&nbsp;&nbsp;&nbsp;&nbsp;&nbsp;&nbsp;&nbsp;&nbsp; Guilherme Tamer Lotaif\n",
    "\n",
    "<br>\n"
   ]
  },
  {
   "cell_type": "markdown",
   "metadata": {},
   "source": [
    "\n",
    "## 1. Introdução"
   ]
  },
  {
   "cell_type": "markdown",
   "metadata": {},
   "source": [
    "&nbsp;&nbsp;&nbsp;&nbsp;&nbsp;   In this study, we will delve into an investigation of Airbnb data in the United States, focusing on relevant aspects. Based on this data, we will employ various **prediction techniques** to estimate rental prices, considering the specific features provided. The variety of methods used will allow for a comparative analysis of the results obtained.\n",
    "\n",
    "**Airbnb:** It is a global platform for renting houses and apartments, offering a wide range of options in 192 countries. In the United States alone, there are approximately 600,000 potential rental places, highlighting the extent and diversity of the platform. Given so many options, users' decisions about where to stay are influenced by the information provided by the hosts, ranging from details like the number of bathrooms to the availability of Wi-Fi. \n",
    "\n",
    "**1<sup>o</sup> part**: Seeks to uncover patterns and insights through the analysis of this data, enabling a deeper understanding of the Airbnb rental market in the United States.\n",
    "\n",
    "**2<sup>o</sup> part**: It aims to compare the effectiveness of different regression models based on datasets of various sizes to predict Airbnb rental prices, thus arriving at the most suitable model for the problem."
   ]
  },
  {
   "cell_type": "markdown",
   "metadata": {},
   "source": [
    "**Dataset:** www.kaggle.com/rudymizrahi/airbnb-listings-in-major-us-cities-deloitte-ml"
   ]
  },
  {
   "cell_type": "markdown",
   "metadata": {},
   "source": [
    "___\n",
    "## 2. Data mining"
   ]
  },
  {
   "cell_type": "markdown",
   "metadata": {},
   "source": [
    "The dataset we will use in this project has various columns with information about Airbnb in the United States, with qualitative and quantitative variables. Therefore, we need to go through all these columns to clean the data, leaving only the information that will be relevant to our analysis."
   ]
  },
  {
   "cell_type": "code",
   "execution_count": 1,
   "metadata": {},
   "outputs": [],
   "source": [
    "#Importing libraries:\n",
    "import os\n",
    "import sys\n",
    "import warnings\n",
    "import numpy as np\n",
    "import pandas as pd\n",
    "import seaborn as sns\n",
    "import matplotlib.pyplot as plt\n",
    "from scipy.stats import norm, probplot\n",
    "from IPython.display import Markdown, display\n",
    "from sklearn.model_selection import train_test_split\n",
    "from sklearn.metrics import accuracy_score, r2_score\n",
    "from statsmodels.formula.api import ols\n",
    "\n",
    "plt.style.use('ggplot')"
   ]
  },
  {
   "cell_type": "code",
   "execution_count": 2,
   "metadata": {},
   "outputs": [],
   "source": [
    "#Let's remove warnings to keep the display cleaner:\n",
    "warnings.filterwarnings(\"ignore\")"
   ]
  },
  {
   "cell_type": "markdown",
   "metadata": {},
   "source": [
    "___\n",
    "\n",
    "### 2.1 Database\n",
    "\n",
    "So that we can work with the data obtained from the website www.kaggle.com, we first need to open the file. In this case, we will only open the training file (which will be split into training and testing in the future), as it already has a sufficient amount of data for us to do our work."
   ]
  },
  {
   "cell_type": "code",
   "execution_count": 3,
   "metadata": {},
   "outputs": [],
   "source": [
    "#Importing training file:\n",
    "df = pd.read_csv('Data/train.csv')"
   ]
  },
  {
   "cell_type": "code",
   "execution_count": 4,
   "metadata": {},
   "outputs": [
    {
     "name": "stdout",
     "output_type": "stream",
     "text": [
      "The dataframe has 74111 rows by 29 columns\n"
     ]
    }
   ],
   "source": [
    "#Analyzing the size of the training dataframe:\n",
    "lines, columns = df.shape\n",
    "print(\"The dataframe has {0} rows by {1} columns\".format(lines, columns))"
   ]
  },
  {
   "cell_type": "code",
   "execution_count": 5,
   "metadata": {},
   "outputs": [],
   "source": [
    "linhas, colunas = df.shape"
   ]
  },
  {
   "cell_type": "markdown",
   "metadata": {},
   "source": [
    "...\n",
    "\n",
    "#### Cleaning the dataframe for analysis\n",
    "This step consists of preparing the dataframe to facilitate its analysis, thus avoiding occurrences of complications or errors that may hinder the performance of our classifiers in the future. Therefore, we will: clean the spaces from the titles of each column; remove null values from each category, as well as delete columns that we consider unnecessary for our work."
   ]
  },
  {
   "cell_type": "code",
   "execution_count": 6,
   "metadata": {},
   "outputs": [],
   "source": [
    "#Removing white spaces from column titles:\n",
    "df.columns = [spaces.strip() for spaces in df.columns.tolist()]"
   ]
  },
  {
   "cell_type": "code",
   "execution_count": 7,
   "metadata": {},
   "outputs": [],
   "source": [
    "#Converting a percentage string to float:\n",
    "df['host_response_rate'] = df['host_response_rate'].str.rstrip('%').astype('float')"
   ]
  },
  {
   "cell_type": "code",
   "execution_count": 8,
   "metadata": {},
   "outputs": [],
   "source": [
    "#Removing columns that are not relevant to the study:\n",
    "df = df.drop([\"latitude\",\"longitude\",\"name\",\"thumbnail_url\",\"id\",\"description\",\"amenities\",\"zipcode\",\n",
    "              \"host_since\",\"first_review\",\"last_review\"],axis=1);"
   ]
  },
  {
   "cell_type": "code",
   "execution_count": 9,
   "metadata": {},
   "outputs": [],
   "source": [
    "#Deleting null values that can cause issues later:\n",
    "df = df.dropna(axis=0, subset=['log_price', 'property_type', 'room_type', 'accommodates', 'bathrooms','bed_type',\n",
    "                               'cancellation_policy', 'cleaning_fee', 'city', 'host_has_profile_pic', 'beds', \n",
    "                               'host_identity_verified','host_response_rate', 'instant_bookable', 'neighbourhood',\n",
    "                               'review_scores_rating','bedrooms'])"
   ]
  },
  {
   "cell_type": "code",
   "execution_count": 10,
   "metadata": {},
   "outputs": [],
   "source": [
    "#Correcting simplification in the file:\n",
    "df.loc[(df[\"instant_bookable\"] == \"f\"),\"instant_bookable\"] = \"False\"\n",
    "df.loc[(df[\"instant_bookable\"] == \"t\"),\"instant_bookable\"] = \"True\"\n",
    "\n",
    "df.loc[(df[\"host_has_profile_pic\"] == \"f\"),\"host_has_profile_pic\"] = \"False\"\n",
    "df.loc[(df[\"host_has_profile_pic\"] == \"t\"),\"host_has_profile_pic\"] = \"True\"\n",
    "\n",
    "df.loc[(df[\"host_identity_verified\"] == \"f\"),\"host_identity_verified\"] = \"False\"\n",
    "df.loc[(df[\"host_identity_verified\"] == \"t\"),\"host_identity_verified\"] = \"True\""
   ]
  },
  {
   "cell_type": "code",
   "execution_count": 11,
   "metadata": {},
   "outputs": [
    {
     "data": {
      "text/html": [
       "<div>\n",
       "<style scoped>\n",
       "    .dataframe tbody tr th:only-of-type {\n",
       "        vertical-align: middle;\n",
       "    }\n",
       "\n",
       "    .dataframe tbody tr th {\n",
       "        vertical-align: top;\n",
       "    }\n",
       "\n",
       "    .dataframe thead th {\n",
       "        text-align: right;\n",
       "    }\n",
       "</style>\n",
       "<table border=\"1\" class=\"dataframe\">\n",
       "  <thead>\n",
       "    <tr style=\"text-align: right;\">\n",
       "      <th></th>\n",
       "      <th>log_price</th>\n",
       "      <th>property_type</th>\n",
       "      <th>room_type</th>\n",
       "      <th>accommodates</th>\n",
       "      <th>bathrooms</th>\n",
       "      <th>bed_type</th>\n",
       "      <th>cancellation_policy</th>\n",
       "      <th>cleaning_fee</th>\n",
       "      <th>city</th>\n",
       "      <th>host_has_profile_pic</th>\n",
       "      <th>host_identity_verified</th>\n",
       "      <th>host_response_rate</th>\n",
       "      <th>instant_bookable</th>\n",
       "      <th>neighbourhood</th>\n",
       "      <th>number_of_reviews</th>\n",
       "      <th>review_scores_rating</th>\n",
       "      <th>bedrooms</th>\n",
       "      <th>beds</th>\n",
       "    </tr>\n",
       "  </thead>\n",
       "  <tbody>\n",
       "    <tr>\n",
       "      <th>56954</th>\n",
       "      <td>4.499810</td>\n",
       "      <td>House</td>\n",
       "      <td>Private room</td>\n",
       "      <td>2</td>\n",
       "      <td>1.0</td>\n",
       "      <td>Real Bed</td>\n",
       "      <td>moderate</td>\n",
       "      <td>True</td>\n",
       "      <td>SF</td>\n",
       "      <td>True</td>\n",
       "      <td>True</td>\n",
       "      <td>100.0</td>\n",
       "      <td>True</td>\n",
       "      <td>Bernal Heights</td>\n",
       "      <td>6</td>\n",
       "      <td>100.0</td>\n",
       "      <td>1.0</td>\n",
       "      <td>1.0</td>\n",
       "    </tr>\n",
       "    <tr>\n",
       "      <th>43221</th>\n",
       "      <td>4.691348</td>\n",
       "      <td>Guest suite</td>\n",
       "      <td>Entire home/apt</td>\n",
       "      <td>3</td>\n",
       "      <td>1.0</td>\n",
       "      <td>Real Bed</td>\n",
       "      <td>moderate</td>\n",
       "      <td>True</td>\n",
       "      <td>DC</td>\n",
       "      <td>True</td>\n",
       "      <td>True</td>\n",
       "      <td>100.0</td>\n",
       "      <td>True</td>\n",
       "      <td>Columbia Heights</td>\n",
       "      <td>139</td>\n",
       "      <td>89.0</td>\n",
       "      <td>1.0</td>\n",
       "      <td>1.0</td>\n",
       "    </tr>\n",
       "  </tbody>\n",
       "</table>\n",
       "</div>"
      ],
      "text/plain": [
       "       log_price property_type        room_type  accommodates  bathrooms  \\\n",
       "56954   4.499810         House     Private room             2        1.0   \n",
       "43221   4.691348   Guest suite  Entire home/apt             3        1.0   \n",
       "\n",
       "       bed_type cancellation_policy  cleaning_fee city host_has_profile_pic  \\\n",
       "56954  Real Bed            moderate          True   SF                 True   \n",
       "43221  Real Bed            moderate          True   DC                 True   \n",
       "\n",
       "      host_identity_verified  host_response_rate instant_bookable  \\\n",
       "56954                   True               100.0             True   \n",
       "43221                   True               100.0             True   \n",
       "\n",
       "          neighbourhood  number_of_reviews  review_scores_rating  bedrooms  \\\n",
       "56954    Bernal Heights                  6                 100.0       1.0   \n",
       "43221  Columbia Heights                139                  89.0       1.0   \n",
       "\n",
       "       beds  \n",
       "56954   1.0  \n",
       "43221   1.0  "
      ]
     },
     "execution_count": 11,
     "metadata": {},
     "output_type": "execute_result"
    }
   ],
   "source": [
    "df.sample(2)"
   ]
  },
  {
   "cell_type": "code",
   "execution_count": 12,
   "metadata": {},
   "outputs": [
    {
     "name": "stdout",
     "output_type": "stream",
     "text": [
      "After cleaning the dataframe has 41.9% fewer rows and 37.9% fewer columns\n"
     ]
    }
   ],
   "source": [
    "#Analyzing the size of the training dataframe:\n",
    "clean_lines, clean_columns = df.shape\n",
    "print(\"After cleaning the dataframe has {0:.1f}% fewer rows and {1:.1f}% fewer columns\".format(((lines-clean_lines)/lines)*100, ((columns-clean_columns)/columns)*100))"
   ]
  },
  {
   "cell_type": "markdown",
   "metadata": {},
   "source": [
    "...\n",
    "\n",
    "\n",
    "#### Transforming qualitative categories into quantitative ones:\n",
    "As our predictive models require quantitative variables, it is necessary to perform a conversion to enable the functioning of the tools.<br>\n",
    "\n",
    "The method used to perform this conversion is called **One Hot Encoding**, which transforms categorical variables into binary vectors. This method transforms all variables into 0 unless the item (column) analyzed has a positive response, thus allowing us to perform analyses on this data.\n",
    "<br>\n",
    "<br>"
   ]
  },
  {
   "cell_type": "code",
   "execution_count": 13,
   "metadata": {},
   "outputs": [],
   "source": [
    "#Função para chamar o get_dummies e remover a coluna base:\n",
    "def dummify(data, column_name):\n",
    "    df1 = data.copy()\n",
    "    df2 = pd.concat([df1.drop(column_name, axis=1), pd.get_dummies(data[column_name], prefix=column_name)], axis=1)\n",
    "    return df2\n",
    "\n",
    "#Fazendo as conversões das nossas colunas:\n",
    "df_models = dummify( df, \"property_type\")\n",
    "df_models = dummify( df_models, \"room_type\")\n",
    "df_models = dummify( df_models, \"bed_type\")\n",
    "df_models = dummify( df_models, \"cancellation_policy\")\n",
    "df_models = dummify( df_models, \"cleaning_fee\")\n",
    "df_models = dummify( df_models, \"city\")\n",
    "df_models = dummify( df_models, \"host_has_profile_pic\")\n",
    "df_models = dummify( df_models, \"host_identity_verified\")\n",
    "df_models = dummify( df_models, \"instant_bookable\")\n",
    "df_models = dummify( df_models, \"neighbourhood\")"
   ]
  },
  {
   "cell_type": "markdown",
   "metadata": {},
   "source": [
    "Now, we have a `df` that we will use for descriptive analysis, which is composed of both qualitative and quantitative variables. We also have the`df_models` that will be used for our regression models."
   ]
  },
  {
   "cell_type": "markdown",
   "metadata": {},
   "source": [
    "...\n",
    "<br>\n",
    "\n",
    "### 2.2 Exploratory Analysis:"
   ]
  },
  {
   "cell_type": "markdown",
   "metadata": {},
   "source": [
    "With the intention of deepening the understanding of the factors that impact rental prices, this study aims to investigate the correlation between various variables and rental values. The analysis will encompass a set of specific attributes, providing insights into the influence of these variables on property rental prices.\n"
   ]
  },
  {
   "cell_type": "markdown",
   "metadata": {},
   "source": [
    "#### Let's analyze the types of rooms:\n",
    "\n",
    "First, let's discover the most common types of rooms, and then the average log value of the rental for each type."
   ]
  },
  {
   "cell_type": "code",
   "execution_count": 14,
   "metadata": {},
   "outputs": [],
   "source": [
    "#Let's find out the quantity of each room type in the data:\n",
    "Tp_room = df.room_type.value_counts()"
   ]
  },
  {
   "cell_type": "code",
   "execution_count": 15,
   "metadata": {},
   "outputs": [],
   "source": [
    "#Creating empty lists for each room type:\n",
    "entire, private, shared = [],[],[]\n",
    "\n",
    "#Let's use a loop to iterate through our dataframe:\n",
    "for tp, price in zip(df['room_type'],df['log_price']):\n",
    "    if tp == \"Entire home/apt\":\n",
    "        entire.append(price)\n",
    "    elif tp == \"Private room\":\n",
    "        private.append(price)\n",
    "    elif tp == \"Shared room\":\n",
    "        shared.append(price)"
   ]
  },
  {
   "cell_type": "code",
   "execution_count": 16,
   "metadata": {},
   "outputs": [],
   "source": [
    "colors = sns.color_palette('gist_heat')"
   ]
  },
  {
   "cell_type": "code",
   "execution_count": 17,
   "metadata": {},
   "outputs": [
    {
     "data": {
      "image/png": "[encoded data removed]",
      "text/plain": [
       "<Figure size 720x432 with 1 Axes>"
      ]
     },
     "metadata": {},
     "output_type": "display_data"
    }
   ],
   "source": [
    "# Criando um gráfico com os dados:\n",
    "plot = Tp_room.plot(kind='barh', figsize=(10, 6), color=colors, alpha =0.8, align='center')\n",
    "plt.title(\"\\nMost frequent room types on Airbnb\\n\", fontsize=18)\n",
    "plt.xlabel('Quantity')\n",
    "plt.tight_layout()\n",
    "\n",
    "#Creating the information table next to the chart:\n",
    "plt.figtext(1.01, 0.8, \"Average Prices (log):\", fontsize=16, va='center', ha='left')\n",
    "plt.figtext(1.01, 0.7, \"Shared room: {:.2f}\".format(np.mean(shared)), fontsize=14, va='center', ha='left')\n",
    "plt.figtext(1.01, 0.62, \"Private room: {:.2f}\".format(np.mean(private)), fontsize=14, va='center', ha='left')\n",
    "plt.figtext(1.01, 0.54, \"Entire room: {:.2f}\".format(np.mean(entire)), fontsize=14, va='center', ha='left')\n",
    "plt.show()"
   ]
  },
  {
   "cell_type": "markdown",
   "metadata": {},
   "source": [
    "The available quantity of each room type is related to the average price, so that the higher the average price, the greater the quantity of Airbnb."
   ]
  },
  {
   "cell_type": "markdown",
   "metadata": {},
   "source": [
    "...<br>\n",
    "\n",
    "\n",
    "#### Let's analyze the property types:\n",
    "\n",
    "Similar to the previous item, it will studied the most frequent types and their average rental values."
   ]
  },
  {
   "cell_type": "code",
   "execution_count": 18,
   "metadata": {},
   "outputs": [],
   "source": [
    "#Creating empty lists for each property type:\n",
    "apartment, house, condominium, townhouse, loft = [],[],[],[],[]\n",
    "#Creating null variables for each property type:\n",
    "apartment_count, house_count, condominium_count, townhouse_count, loft_count = 0,0,0,0,0\n",
    "\n",
    "#Let's use a loop to iterate through our dataframe:\n",
    "for tp, price in zip(df['property_type'],df['log_price']):\n",
    "    if tp == \"Apartment\":\n",
    "        apartment.append(price)\n",
    "        apartment_count += 1\n",
    "    elif tp == \"House\":\n",
    "        house.append(price)\n",
    "        house_count += 1\n",
    "    elif tp == \"Condominium\":\n",
    "        condominium.append(price)\n",
    "        condominium_count += 1\n",
    "    elif tp == \"Townhouse\":\n",
    "        townhouse.append(price)\n",
    "        townhouse_count += 1\n",
    "    elif tp == \"Loft\":\n",
    "        loft.append(price)\n",
    "        loft_count += 1\n",
    "        \n",
    "#Creating a variable to assign the total value among the 5 most common types:\n",
    "Total_propriety = apartment_count + house_count + condominium_count + townhouse_count + loft_count"
   ]
  },
  {
   "cell_type": "code",
   "execution_count": 19,
   "metadata": {
    "scrolled": true
   },
   "outputs": [
    {
     "data": {
      "text/markdown": [
       "### Average prices for each type (log):"
      ],
      "text/plain": [
       "<IPython.core.display.Markdown object>"
      ]
     },
     "metadata": {},
     "output_type": "display_data"
    },
    {
     "name": "stdout",
     "output_type": "stream",
     "text": [
      " Apartment:  4.76\n",
      " House:      4.77\n",
      " Condominium:4.96\n",
      " Townhouse:  4.81\n",
      " Loft:       5.00\n"
     ]
    },
    {
     "data": {
      "text/markdown": [
       "### Percentage of the 5 most common types:"
      ],
      "text/plain": [
       "<IPython.core.display.Markdown object>"
      ]
     },
     "metadata": {},
     "output_type": "display_data"
    },
    {
     "name": "stdout",
     "output_type": "stream",
     "text": [
      " Apartment:  67.6%\n",
      " House:      24.1%\n",
      " Condominium:3.8%\n",
      " Townhouse:  2.6%\n",
      " Loft:       1.9%\n"
     ]
    }
   ],
   "source": [
    "#Let's print the average prices:\n",
    "markdown_text = \"### Average prices for each type (log):\"\n",
    "display(Markdown(markdown_text))\n",
    "print(\" Apartment:  {:.2f}\\n\".format(np.mean(apartment)),\n",
    "      \"House:      {:.2f}\\n\".format(np.mean(house)),\n",
    "      \"Condominium:{:.2f}\\n\".format(np.mean(condominium)),\n",
    "      \"Townhouse:  {:.2f}\\n\".format(np.mean(townhouse)),\n",
    "      \"Loft:       {:.2f}\".format(np.mean(loft)))\n",
    "\n",
    "#Let's print the percentage of each type:\n",
    "markdown_text = \"### Percentage of the 5 most common types:\"\n",
    "display(Markdown(markdown_text))\n",
    "print(\" Apartment:  {0:.1f}%\\n\".format((apartment_count/Total_propriety)*100),\n",
    "      \"House:      {0:.1f}%\\n\".format((house_count/Total_propriety)*100),\n",
    "      \"Condominium:{0:.1f}%\\n\".format((condominium_count/Total_propriety)*100),\n",
    "      \"Townhouse:  {0:.1f}%\\n\".format((townhouse_count/Total_propriety)*100),\n",
    "      \"Loft:       {0:.1f}%\".format((loft_count/Total_propriety)*100))"
   ]
  },
  {
   "cell_type": "markdown",
   "metadata": {},
   "source": [
    "Thus, it is possible to identify the 5 most common property types, and also that the higher the quantity of Airbnbs for each property type, the lower the average price."
   ]
  },
  {
   "cell_type": "markdown",
   "metadata": {},
   "source": [
    "...\n",
    "\n",
    "#### Let's analyze if the cities with more Airbnb have a price disparity\n",
    "\n",
    "The following code already assumes the execution of a `value_counts()` method to identify the five cities with the highest supply."
   ]
  },
  {
   "cell_type": "code",
   "execution_count": 20,
   "metadata": {},
   "outputs": [],
   "source": [
    "#Creating empty lists for each city:\n",
    "city_nyc, city_la, city_sf, city_dc, city_chicago = [],[],[],[],[]\n",
    "\n",
    "#Let's use a loop to iterate through our dataframe:\n",
    "for city, price in zip(df['city'],df['log_price']):\n",
    "    if city == \"NYC\":\n",
    "        city_nyc.append(price)\n",
    "    elif city == \"LA\":\n",
    "        city_la.append(price)\n",
    "    elif city == \"SF\":\n",
    "        city_sf.append(price)\n",
    "    elif city == \"DC\":\n",
    "        city_dc.append(price)\n",
    "    elif city == \"Chicago\":\n",
    "        city_chicago.append(price)"
   ]
  },
  {
   "cell_type": "code",
   "execution_count": 21,
   "metadata": {},
   "outputs": [
    {
     "data": {
      "image/png": "[encoded data removed]",
      "text/plain": [
       "<Figure size 720x432 with 1 Axes>"
      ]
     },
     "metadata": {},
     "output_type": "display_data"
    }
   ],
   "source": [
    "#Creating a chart with the data:\n",
    "fig, ax = plt.subplots(figsize=(10, 6))\n",
    "sns.kdeplot(data=[city_nyc, city_la, city_sf, city_dc, city_chicago], fill=True, ax=ax,\n",
    "            palette=[colors[0], colors[1], colors[2], colors[3], colors[4]], multiple='stack')\n",
    "ax.set_xlim(2, 8)\n",
    "plt.title(\"\\nPrices in the cities with the most Airbnb\\n\", fontsize=18)\n",
    "plt.ylabel('Density')\n",
    "plt.xlabel('Price (log)')\n",
    "ax.legend(['CHI', 'DC', 'SF', 'LA', 'NYC'])\n",
    "plt.tight_layout()\n",
    "\n",
    "#Creating the information table next to the chart:\n",
    "plt.figtext(1.01, 0.8, \"Number of Airbnbs:\", fontsize=16, va='center', ha='left')\n",
    "plt.figtext(1.01, 0.7, \"NYC: {:.0f}\".format(df.city.value_counts()[0]), fontsize=14, va='center', ha='left')\n",
    "plt.figtext(1.01, 0.62, \"LA: {:.0f}\".format(df.city.value_counts()[1]), fontsize=14, va='center', ha='left')\n",
    "plt.figtext(1.01, 0.54, \"SF: {:.0f}\".format(df.city.value_counts()[2]), fontsize=14, va='center', ha='left')\n",
    "plt.figtext(1.01, 0.46, \"DC: {:.0f}\".format(df.city.value_counts()[3]), fontsize=14, va='center', ha='left')\n",
    "plt.figtext(1.01, 0.38, \"CHI: {:.0f}\".format(df.city.value_counts()[4]), fontsize=14, va='center', ha='left')\n",
    "plt.show()"
   ]
  },
  {
   "cell_type": "markdown",
   "metadata": {},
   "source": [
    "In this comparative analysis of the top five cities with the highest presence of Airbnbs, we observed a notable difference in the density of lodging locations on the platform. When studying the distributions, it can be stated that the fourth and fifth cities exhibit greater symmetry, while the first three have a slight skew to the left, but still quite symmetric.\n",
    "\n",
    "Furthermore, the significant number of Airbnbs in a particular city does not necessarily imply a substantial variation in rental prices. This finding challenges expectations and highlights the complexity of the factors influencing rental prices, going beyond simple supply and demand."
   ]
  },
  {
   "cell_type": "markdown",
   "metadata": {},
   "source": [
    "...\n",
    "\n",
    "\n",
    "#### Let's analyze if reviews have an influence on the price:"
   ]
  },
  {
   "cell_type": "code",
   "execution_count": 22,
   "metadata": {},
   "outputs": [],
   "source": [
    "#reating 5 lists for the reviews:\n",
    "review1, review2, review3, review4, review5 = [],[],[],[],[]\n",
    "rcount1, rcount2, rcount3, rcount4, rcount5 = 0,0,0,0,0\n",
    "\n",
    "#Let's use a loop to iterate through our dataframe:\n",
    "for r, price in zip(df['review_scores_rating'],df['log_price']):\n",
    "    if r <= 20:\n",
    "        review1.append(price)\n",
    "        rcount1 += 1\n",
    "    elif r > 20 and r <= 40:\n",
    "        review2.append(price)\n",
    "        rcount2 += 1\n",
    "    elif r > 40 and r <= 60:\n",
    "        review3.append(price)\n",
    "        rcount3 += 1\n",
    "    elif r > 60 and r <= 80:\n",
    "        review4.append(price)\n",
    "        rcount4 += 1\n",
    "    elif r > 80 and r <= 100:\n",
    "        review5.append(price)\n",
    "        rcount5 += 1"
   ]
  },
  {
   "cell_type": "code",
   "execution_count": 23,
   "metadata": {},
   "outputs": [
    {
     "data": {
      "image/png": "[encoded data removed]",
      "text/plain": [
       "<Figure size 720x432 with 1 Axes>"
      ]
     },
     "metadata": {},
     "output_type": "display_data"
    }
   ],
   "source": [
    "#Creating a list to assign prices in each category:\n",
    "reviews = [review1, review2, review3, review4, review5]\n",
    "#Creating a list with the quantity of reviews in each category:\n",
    "rcounts = [rcount1, rcount2, rcount3, rcount4, rcount5]\n",
    "#Creating a list with the labels:\n",
    "stars = [\"1 Star\", \"2 Stars\", \"3 Stars\", \"4 Stars\", \"5 Stars\"]\n",
    "\n",
    "#Creating a chart with the data:\n",
    "plt.figure(figsize=(10, 6))\n",
    "sns.boxplot(data=reviews, orient=\"h\", palette='gist_heat')\n",
    "plt.yticks(ticks=range(5), labels=stars)\n",
    "plt.title('\\nBox Plot - Price x Reviews\\n', fontsize=18)\n",
    "plt.xlabel(\"Price (em log)\")\n",
    "plt.tight_layout()\n",
    "\n",
    "# Adding transparency:\n",
    "for patch in plt.gca().artists:\n",
    "    patch.set_alpha(0.8)\n",
    "\n",
    "#Creating the information table next to the chart:\n",
    "plt.figtext(1.01, 0.8, \"Amount of reviews:\", fontsize=16, va='center', ha='left')\n",
    "plt.figtext(1.01, 0.7, \"1 Star: {:.0f}\".format(np.mean(rcount1)), fontsize=14, va='center', ha='left')\n",
    "plt.figtext(1.01, 0.62, \"2 Star: {:.0f}\".format(np.mean(rcount2)), fontsize=14, va='center', ha='left')\n",
    "plt.figtext(1.01, 0.54, \"3 Star: {:.0f}\".format(np.mean(rcount3)), fontsize=14, va='center', ha='left')\n",
    "plt.figtext(1.01, 0.46, \"4 Star: {:.0f}\".format(np.mean(rcount4)), fontsize=14, va='center', ha='left')\n",
    "plt.figtext(1.01, 0.38, \"5 Star: {:.0f}\".format(np.mean(rcount5)), fontsize=14, va='center', ha='left')\n",
    "plt.show()"
   ]
  },
  {
   "cell_type": "markdown",
   "metadata": {},
   "source": [
    "In this analysis through boxplots, prices related to corresponding ratings from 1 to 5 stars were explored. Remarkably, there is a relative uniformity in the values presented by the boxplots, indicating limited variation in prices associated with different ratings. This consistency suggests that the rating scores are not a significant determining factor in rental prices.\n",
    "\n",
    "Furthermore, when analyzing the quantity of reviews, it can be observed that the lower the number of stars, the lower the likelihood of leaving a review."
   ]
  },
  {
   "cell_type": "markdown",
   "metadata": {},
   "source": [
    "...<br>\n",
    "\n",
    "#### Let's analyze the cancellation policies:\n",
    "\n",
    "The dataframe has 5 different policies, each varying in strictness. The goal of this section is to identify if there is any influence of this variable on the price of Airbnb."
   ]
  },
  {
   "cell_type": "code",
   "execution_count": 24,
   "metadata": {},
   "outputs": [],
   "source": [
    "#Creating empty lists for each policy:\n",
    "\n",
    "flexible, moderate, strict, super_strict_30, super_strict_60 = [],[],[],[],[]\n",
    "\n",
    "#Let's use a loop to iterate through our dataframe:\n",
    "for policy, price in zip(df['cancellation_policy'], df['log_price']):\n",
    "    if policy == \"flexible\":\n",
    "        flexible.append(price)\n",
    "    elif policy == \"moderate\":\n",
    "        moderate.append(price)\n",
    "    elif policy == \"strict\":\n",
    "        strict.append(price)\n",
    "    elif policy == \"super_strict_30\":\n",
    "        super_strict_30.append(price)\n",
    "    elif policy == \"super_strict_60\":\n",
    "        super_strict_60.append(price)\n",
    "\n",
    "#Creating lists with the information for the plot:\n",
    "cancellation_names = [\"Flexible\", \"Moderate\", \"Strict\", \"1st Super Strict\", \"2nd Super Strict\"]\n",
    "cancellation_data = [flexible, moderate, strict, super_strict_30, super_strict_60]"
   ]
  },
  {
   "cell_type": "code",
   "execution_count": 25,
   "metadata": {},
   "outputs": [
    {
     "data": {
      "image/png": "[encoded data removed]",
      "text/plain": [
       "<Figure size 720x432 with 1 Axes>"
      ]
     },
     "metadata": {},
     "output_type": "display_data"
    }
   ],
   "source": [
    "#Creating a plot with the data:\n",
    "plt.figure(figsize=(10, 6))\n",
    "sns.boxplot(data=cancellation_data, orient=\"h\", palette='gist_heat')\n",
    "plt.yticks(ticks=range(5), labels=cancellation_names)\n",
    "plt.title('\\nCancellation Policy X Average Price (log)\\n', fontsize=18)\n",
    "plt.xlabel(\"Price (log)\")\n",
    "plt.tight_layout()\n",
    "\n",
    "#Adding transparency:\n",
    "for patch in plt.gca().artists:\n",
    "    patch.set_alpha(0.8)\n",
    "\n",
    "#Creating the information table next to the plot:\n",
    "plt.figtext(1.01, 0.8, \"Number of Airbnbs:\", fontsize=18, va='center', ha='left')\n",
    "plt.figtext(1.01, 0.7, \"Flexible: {:.0f}\".format(df[\"cancellation_policy\"].value_counts()[2]), fontsize=14, va='center', ha='left')\n",
    "plt.figtext(1.01, 0.62, \"Moderate: {:.0f}\".format(df[\"cancellation_policy\"].value_counts()[1]), fontsize=14, va='center', ha='left')\n",
    "plt.figtext(1.01, 0.54, \"Strict: {:.0f}\".format(df[\"cancellation_policy\"].value_counts()[0]), fontsize=14, va='center', ha='left')\n",
    "plt.figtext(1.01, 0.46, \"1st Super Strict: {:.0f}\".format(df[\"cancellation_policy\"].value_counts()[3]), fontsize=14, va='center', ha='left')\n",
    "plt.figtext(1.01, 0.38, \"2nd Super Strict: {:.0f}\".format(df[\"cancellation_policy\"].value_counts()[4]), fontsize=14, va='center', ha='left')\n",
    "plt.show()"
   ]
  },
  {
   "cell_type": "markdown",
   "metadata": {},
   "source": [
    "The analysis of the boxplot above reveals that as the price increases, cancellation policies tend to become stricter. Additionally, it is observed that there is a predominance of Airbnbs adopting stricter policies. These findings suggest a direct relationship between rental price and the strictness of cancellation policies, indicating that policy flexibility may be more common in properties with lower prices."
   ]
  },
  {
   "cell_type": "markdown",
   "metadata": {},
   "source": [
    "...<br>\n",
    "\n",
    "\n",
    "#### Let's discover some correlations:"
   ]
  },
  {
   "cell_type": "code",
   "execution_count": 26,
   "metadata": {},
   "outputs": [
    {
     "data": {
      "image/png": "[encoded data removed]",
      "text/plain": [
       "<Figure size 432x288 with 2 Axes>"
      ]
     },
     "metadata": {},
     "output_type": "display_data"
    }
   ],
   "source": [
    "#Performing the correlation:\n",
    "corr = df.corr()\n",
    "#Let's use seaborn to analyze the correlations:\n",
    "sns.heatmap(corr, xticklabels=corr.columns.values, yticklabels=corr.columns.values, cmap = 'RdBu_r', center=0);"
   ]
  },
  {
   "cell_type": "code",
   "execution_count": 27,
   "metadata": {},
   "outputs": [
    {
     "data": {
      "text/html": [
       "<div>\n",
       "<style scoped>\n",
       "    .dataframe tbody tr th:only-of-type {\n",
       "        vertical-align: middle;\n",
       "    }\n",
       "\n",
       "    .dataframe tbody tr th {\n",
       "        vertical-align: top;\n",
       "    }\n",
       "\n",
       "    .dataframe thead th {\n",
       "        text-align: right;\n",
       "    }\n",
       "</style>\n",
       "<table border=\"1\" class=\"dataframe\">\n",
       "  <thead>\n",
       "    <tr style=\"text-align: right;\">\n",
       "      <th></th>\n",
       "      <th>log_price</th>\n",
       "      <th>accommodates</th>\n",
       "      <th>bathrooms</th>\n",
       "      <th>cleaning_fee</th>\n",
       "      <th>beds</th>\n",
       "      <th>host_response_rate</th>\n",
       "      <th>bedrooms</th>\n",
       "    </tr>\n",
       "  </thead>\n",
       "  <tbody>\n",
       "    <tr>\n",
       "      <th>log_price</th>\n",
       "      <td>1.0</td>\n",
       "      <td>0.594578</td>\n",
       "      <td>0.345265</td>\n",
       "      <td>0.170305</td>\n",
       "      <td>0.462411</td>\n",
       "      <td>0.002971</td>\n",
       "      <td>0.502518</td>\n",
       "    </tr>\n",
       "  </tbody>\n",
       "</table>\n",
       "</div>"
      ],
      "text/plain": [
       "           log_price  accommodates  bathrooms  cleaning_fee      beds  \\\n",
       "log_price        1.0      0.594578   0.345265      0.170305  0.462411   \n",
       "\n",
       "           host_response_rate  bedrooms  \n",
       "log_price            0.002971  0.502518  "
      ]
     },
     "execution_count": 27,
     "metadata": {},
     "output_type": "execute_result"
    }
   ],
   "source": [
    "#Creating a dataframe with our quantitative variables to calculate the correlation between them:\n",
    "corr_log = df[['log_price', 'accommodates', 'bathrooms', 'cleaning_fee', 'beds','host_response_rate','bedrooms']]\n",
    "#Performing the correlation:\n",
    "corr_log.corr().head(1)"
   ]
  },
  {
   "cell_type": "markdown",
   "metadata": {},
   "source": [
    "<br>\n",
    "\n",
    "The table above reveals moderate correlations between price and variables such as the quantity of beds, the quantity of bathrooms, and the accommodation capacity. These are the most important variables as they have a direct influence on prices. In contrast, other correlations appear to be less relevant, such as those with reviews, as evidenced in the previous boxplot."
   ]
  },
  {
   "cell_type": "markdown",
   "metadata": {},
   "source": [
    "...\n",
    "\n",
    "\n",
    "### 2.3 Using Sweetviz for analysis:\n",
    "\n",
    "Normally used to perform a more comprehensive exploratory analysis quickly and intuitively, creating an analysis of the DataFrame data through Pandas. Then it is opened as a new tab in the browser.\n",
    "\n",
    "The tool requires an installation:"
   ]
  },
  {
   "cell_type": "markdown",
   "metadata": {},
   "source": [
    "**PIP INSTALL**<br>\n",
    "To install via PIP, uncomment the command:\n"
   ]
  },
  {
   "cell_type": "code",
   "execution_count": 28,
   "metadata": {},
   "outputs": [],
   "source": [
    "#pip install sweetviz"
   ]
  },
  {
   "cell_type": "markdown",
   "metadata": {},
   "source": [
    "#### To access the tool's analysis, uncomment the following lines:"
   ]
  },
  {
   "cell_type": "code",
   "execution_count": 29,
   "metadata": {},
   "outputs": [],
   "source": [
    "#import sweetviz as sv\n",
    "\n",
    "#my_report = sv.analyze(df)\n",
    "#my_report.show_notebook()"
   ]
  },
  {
   "cell_type": "markdown",
   "metadata": {},
   "source": [
    "___\n",
    "## 3. Prediction Models:"
   ]
  },
  {
   "cell_type": "markdown",
   "metadata": {},
   "source": [
    "Adapting our dataframe for predictions:"
   ]
  },
  {
   "cell_type": "code",
   "execution_count": 30,
   "metadata": {},
   "outputs": [],
   "source": [
    "#Removing columns:\n",
    "df_pred = df_models.drop([\"log_price\"],axis=1)"
   ]
  },
  {
   "cell_type": "code",
   "execution_count": 31,
   "metadata": {},
   "outputs": [],
   "source": [
    "#Importing libraries to use in statsmodel:\n",
    "from sklearn.linear_model import LinearRegression\n",
    "with warnings.catch_warnings():\n",
    "    warnings.simplefilter('ignore')\n",
    "    import statsmodels.api as sm\n",
    "\n",
    "#Establishing the random_seed variable:\n",
    "RANDOM_SEED = 10\n",
    "np.random.seed(RANDOM_SEED)"
   ]
  },
  {
   "cell_type": "code",
   "execution_count": 32,
   "metadata": {},
   "outputs": [],
   "source": [
    "#Splitting the dataframe data into test and train:\n",
    "X_train, X_test, y_train, y_test = train_test_split(df_pred, df_models.log_price, test_size = 0.33,random_state = RANDOM_SEED)"
   ]
  },
  {
   "cell_type": "markdown",
   "metadata": {
    "collapsed": true
   },
   "source": [
    "<br>\n",
    "<br>`\n",
    "\n",
    "- **`AVERAGE PREDICTION MODEL`**` (No use of explanatory variable)`"
   ]
  },
  {
   "cell_type": "code",
   "execution_count": 33,
   "metadata": {},
   "outputs": [],
   "source": [
    "#Separating the database into training and testing sets once specifically because we need them all to have the price.\n",
    "X_train_2, X_test_2, y_train_2, y_test_2 = train_test_split(df, df, test_size = 0.33,random_state = RANDOM_SEED)\n",
    "#Creating a function to calculate the r_squared:\n",
    "def r_2(y_test, y_train):\n",
    "    a = 0\n",
    "    b = 0\n",
    "    #Let's use a loop to assign values to the variables:\n",
    "    for i in y_train[\"log_price\"]:\n",
    "        a += (i - np.mean(y_train[\"log_price\"]))**2\n",
    "        b += (i - np.mean(y_test[\"log_price\"]))**2\n",
    "    #Returning the r squared value:\n",
    "    return 1-(a/b)"
   ]
  },
  {
   "cell_type": "code",
   "execution_count": 34,
   "metadata": {},
   "outputs": [
    {
     "name": "stdout",
     "output_type": "stream",
     "text": [
      "R2: 0.0000019\n",
      "RMS: 0.0014\n"
     ]
    }
   ],
   "source": [
    "#Let's use the function to calculate the r squared::\n",
    "R2_MEAN = r_2(y_test_2,y_train_2)\n",
    "#From our r squared, let's calculate the rms:\n",
    "RMS_Mean = np.sqrt(R2_MEAN)\n",
    "#Discovering the quality of the prediction model:\n",
    "print(\"R2: {:.7f}\".format(R2_MEAN))\n",
    "\n",
    "print(\"RMS: {:.4f}\".format(RMS_Mean))"
   ]
  },
  {
   "cell_type": "markdown",
   "metadata": {
    "collapsed": true
   },
   "source": [
    "<br>\n",
    "<br>\n",
    "\n",
    "- **`K-Nearest Neighbors Regression`**"
   ]
  },
  {
   "cell_type": "code",
   "execution_count": 35,
   "metadata": {},
   "outputs": [],
   "source": [
    "#Importing the necessary libraries for this model:\n",
    "from sklearn.neighbors import KNeighborsRegressor"
   ]
  },
  {
   "cell_type": "code",
   "execution_count": 36,
   "metadata": {
    "scrolled": true
   },
   "outputs": [],
   "source": [
    "#Calling the classifier:\n",
    "knn = KNeighborsRegressor(n_neighbors=3)\n",
    "\n",
    "#Fitting the training data (training the algorithm):\n",
    "knn.fit(X_train, y_train)\n",
    "\n",
    "knn_pred = knn.predict(X_test)"
   ]
  },
  {
   "cell_type": "code",
   "execution_count": 37,
   "metadata": {},
   "outputs": [
    {
     "name": "stdout",
     "output_type": "stream",
     "text": [
      "R2: 0.44\n",
      "RMS: 0.66\n"
     ]
    }
   ],
   "source": [
    "#Discovering the quality of the prediction model:\n",
    "knn_test = r2_score(y_test, knn_pred)\n",
    "print('R2: {:.2f}'.format(knn_test))\n",
    "\n",
    "\n",
    "RMS_K_Nearest = np.sqrt(np.mean(knn_test))\n",
    "print(\"RMS: {:.2f}\".format(RMS_K_Nearest))"
   ]
  },
  {
   "cell_type": "markdown",
   "metadata": {
    "collapsed": true
   },
   "source": [
    "<br>\n",
    "<br>\n",
    "\n",
    "- **`Multiple Linear Regression`**"
   ]
  },
  {
   "cell_type": "code",
   "execution_count": 38,
   "metadata": {},
   "outputs": [],
   "source": [
    "#Importing the necessary libraries for this model:\n",
    "from sklearn.linear_model import LinearRegression"
   ]
  },
  {
   "cell_type": "code",
   "execution_count": 39,
   "metadata": {},
   "outputs": [],
   "source": [
    "#Calling the classifier with statsmodel:\n",
    "linear = LinearRegression()\n",
    "Xc = sm.add_constant(X_test)\n",
    "model = sm.OLS(y_test,Xc)\n",
    "#Fitting the training data (training the algorithm):\n",
    "results = model.fit()\n",
    "\n",
    "linear_test=results.rsquared"
   ]
  },
  {
   "cell_type": "code",
   "execution_count": 40,
   "metadata": {},
   "outputs": [
    {
     "name": "stdout",
     "output_type": "stream",
     "text": [
      "R2: 0.75\n",
      "RMS: 0.86\n"
     ]
    }
   ],
   "source": [
    "#Discovering the quality of the prediction model:\n",
    "print(\"R2: {:.2f}\".format(results.rsquared))\n",
    "\n",
    "RMS_Linear_Regression = np.sqrt(np.mean(results.rsquared))\n",
    "print(\"RMS: {:.2f}\".format(RMS_Linear_Regression))"
   ]
  },
  {
   "cell_type": "markdown",
   "metadata": {
    "collapsed": true
   },
   "source": [
    "<br>\n",
    "<br>\n",
    "\n",
    "- **`Decision Tree Regression`**"
   ]
  },
  {
   "cell_type": "code",
   "execution_count": 41,
   "metadata": {},
   "outputs": [],
   "source": [
    "#Importing the necessary libraries for this model:\n",
    "from sklearn.tree import DecisionTreeRegressor"
   ]
  },
  {
   "cell_type": "code",
   "execution_count": 42,
   "metadata": {
    "scrolled": true
   },
   "outputs": [],
   "source": [
    "#Calling the classifier:\n",
    "tree = DecisionTreeRegressor()\n",
    "\n",
    "#Fitting the training data (training the algorithm):\n",
    "tree.fit(X_train, y_train)   \n",
    "\n",
    "tree_pred = tree.predict(X_test)"
   ]
  },
  {
   "cell_type": "code",
   "execution_count": 43,
   "metadata": {},
   "outputs": [
    {
     "name": "stdout",
     "output_type": "stream",
     "text": [
      "R2: 0.50\n",
      "RMS: 0.71\n"
     ]
    }
   ],
   "source": [
    "#Discovering the quality of the prediction model:\n",
    "tree_test = r2_score(y_test, tree_pred)\n",
    "print(\"R2: {:.2f}\".format(tree_test))\n",
    "\n",
    "\n",
    "RMS_Tree_Regression = np.sqrt(np.mean(tree_test))\n",
    "print(\"RMS: {:.2f}\".format(RMS_Tree_Regression))"
   ]
  },
  {
   "cell_type": "markdown",
   "metadata": {},
   "source": [
    "<br>\n",
    "<br>\n",
    "\n",
    "- **`MODELO RANDOM FOREST`**"
   ]
  },
  {
   "cell_type": "code",
   "execution_count": 44,
   "metadata": {},
   "outputs": [],
   "source": [
    "#Importing the necessary libraries for this model:\n",
    "from sklearn.ensemble import RandomForestRegressor"
   ]
  },
  {
   "cell_type": "code",
   "execution_count": 45,
   "metadata": {},
   "outputs": [],
   "source": [
    "#Calling the RandomForestClassifier:\n",
    "model = RandomForestRegressor()\n",
    "\n",
    "#Fitting the training data (training the algorithm):\n",
    "model.fit(X_train, y_train)\n",
    "\n",
    "random_pred = model.predict(X_test)"
   ]
  },
  {
   "cell_type": "code",
   "execution_count": 46,
   "metadata": {},
   "outputs": [
    {
     "name": "stdout",
     "output_type": "stream",
     "text": [
      "R2: 0.71\n",
      "RMS: 0.84\n"
     ]
    }
   ],
   "source": [
    "#Discovering the quality of the prediction model:\n",
    "random_test = r2_score(y_test, random_pred)\n",
    "print('R2: {:.2f}'.format(random_test))\n",
    "\n",
    "\n",
    "RMS_RANDOM_FOREST = np.sqrt(np.mean(random_test))\n",
    "print(\"RMS: {:.2f}\".format(RMS_RANDOM_FOREST))"
   ]
  },
  {
   "cell_type": "markdown",
   "metadata": {},
   "source": [
    "### 3.1 Model Comparison\n",
    "\n",
    "This section is dedicated to comparing regression models with the goal of facilitating the evaluation and analysis of the performance of different regression algorithms to determine which one offers the best solution for the problem at hand."
   ]
  },
  {
   "cell_type": "code",
   "execution_count": 47,
   "metadata": {},
   "outputs": [],
   "source": [
    "#Assigning values to lists to plot a table later:\n",
    "Values_r2 = [R2_MEAN, knn_test,linear_test,tree_test,random_test]\n",
    "Values_rms = [RMS_Mean, RMS_K_Nearest,RMS_Linear_Regression,RMS_Tree_Regression,RMS_RANDOM_FOREST]"
   ]
  },
  {
   "cell_type": "code",
   "execution_count": 48,
   "metadata": {},
   "outputs": [],
   "source": [
    "#Creating a dictionary with the lists:\n",
    "TABLE = {\"Regressions\":[\"AVERAGE\",\"KNN\",\"LINEAR\",\"TREE\",\"FOREST\"],'$R^2$':Values_r2,\"$RMS$\":Values_rms}"
   ]
  },
  {
   "cell_type": "code",
   "execution_count": 49,
   "metadata": {},
   "outputs": [
    {
     "data": {
      "text/html": [
       "<div>\n",
       "<style scoped>\n",
       "    .dataframe tbody tr th:only-of-type {\n",
       "        vertical-align: middle;\n",
       "    }\n",
       "\n",
       "    .dataframe tbody tr th {\n",
       "        vertical-align: top;\n",
       "    }\n",
       "\n",
       "    .dataframe thead th {\n",
       "        text-align: right;\n",
       "    }\n",
       "</style>\n",
       "<table border=\"1\" class=\"dataframe\">\n",
       "  <thead>\n",
       "    <tr style=\"text-align: right;\">\n",
       "      <th></th>\n",
       "      <th>$R^2$</th>\n",
       "      <th>$RMS$</th>\n",
       "    </tr>\n",
       "    <tr>\n",
       "      <th>Regressions</th>\n",
       "      <th></th>\n",
       "      <th></th>\n",
       "    </tr>\n",
       "  </thead>\n",
       "  <tbody>\n",
       "    <tr>\n",
       "      <th>AVERAGE</th>\n",
       "      <td>0.000002</td>\n",
       "      <td>0.001363</td>\n",
       "    </tr>\n",
       "    <tr>\n",
       "      <th>KNN</th>\n",
       "      <td>0.436151</td>\n",
       "      <td>0.660418</td>\n",
       "    </tr>\n",
       "    <tr>\n",
       "      <th>LINEAR</th>\n",
       "      <td>0.746610</td>\n",
       "      <td>0.864066</td>\n",
       "    </tr>\n",
       "    <tr>\n",
       "      <th>TREE</th>\n",
       "      <td>0.502708</td>\n",
       "      <td>0.709019</td>\n",
       "    </tr>\n",
       "    <tr>\n",
       "      <th>FOREST</th>\n",
       "      <td>0.712353</td>\n",
       "      <td>0.844010</td>\n",
       "    </tr>\n",
       "  </tbody>\n",
       "</table>\n",
       "</div>"
      ],
      "text/plain": [
       "                $R^2$     $RMS$\n",
       "Regressions                    \n",
       "AVERAGE      0.000002  0.001363\n",
       "KNN          0.436151  0.660418\n",
       "LINEAR       0.746610  0.864066\n",
       "TREE         0.502708  0.709019\n",
       "FOREST       0.712353  0.844010"
      ]
     },
     "execution_count": 49,
     "metadata": {},
     "output_type": "execute_result"
    }
   ],
   "source": [
    "#Transforming the dictionary into a table:\n",
    "table = pd.DataFrame.from_dict(TABLE)\n",
    "table.set_index(\"Regressions\", inplace=True)\n",
    "#Viewing the results:\n",
    "table"
   ]
  },
  {
   "cell_type": "markdown",
   "metadata": {},
   "source": [
    "___\n",
    "## 4. Conclusion"
   ]
  },
  {
   "cell_type": "markdown",
   "metadata": {},
   "source": [
    "Due to the exploratory analysis, it was observed that the price shows significant positive correlations with features such as accommodates, bathrooms, beds, and bedrooms. These results indicate that as these specific characteristics increase, there is a corresponding tendency for an increase in recorded rental prices.\n",
    "\n",
    "Furthermore, after completing each prediction, crucial indicators were calculated in choosing the best predictive model. Highlighting linear regression as the preferred option, with $R^2$ and $RMS$ values of 0.75 and 0.86, respectively. This model, according to the dataframe analysis, takes into consideration more comprehensively the variables that impact the problem.\n",
    "\n",
    "The other models exhibit lower $R^2$ and $RMS$ values compared to linear regression. The average-based model is identified as the least effective, with indicators close to zero, as it does not consider any variable other than the price itself. Regression tree and random forest prediction models are similar and reliable, presenting $R^2$ and $RMS$ values close to linear regression, although slightly affected by the lack of an exact rule in the dataframe's data. The k-neighbors model is acceptable but less precise due to the increased number of variables, resulting in excessive calculations of vectors used by the model and making it challenging to identify relevant patterns in the data."
   ]
  },
  {
   "cell_type": "markdown",
   "metadata": {},
   "source": [
    "___\n",
    "## 5. Bibliographic References\n",
    "\n",
    "- https://www.mldata.io/tutorials/scikit_knn/\n",
    "- https://www.kaggle.com/pratsiuk/valueerror-unknown-label-type-continuous\n",
    "- https://jakevdp.github.io/PythonDataScienceHandbook/04.14-visualization-with-seaborn.html"
   ]
  }
 ],
 "metadata": {
  "anaconda-cloud": {},
  "kernelspec": {
   "display_name": "Python 3 (ipykernel)",
   "language": "python",
   "name": "python3"
  },
  "language_info": {
   "codemirror_mode": {
    "name": "ipython",
    "version": 3
   },
   "file_extension": ".py",
   "mimetype": "text/x-python",
   "name": "python",
   "nbconvert_exporter": "python",
   "pygments_lexer": "ipython3",
   "version": "3.9.7"
  }
 },
 "nbformat": 4,
 "nbformat_minor": 1
}

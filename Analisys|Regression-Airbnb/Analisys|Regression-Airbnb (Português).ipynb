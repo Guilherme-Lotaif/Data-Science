{
 "cells": [
  {
   "cell_type": "markdown",
   "metadata": {},
   "source": [
    "\n",
    "#### ____\n",
    "\n",
    "<h1 align="center">OECD Analysis - Data Science</h1>",
    "<h3 align="center">Guilherme Tamer Lotaif</h3>",
    "\n",
    "<br>\n"
   ]
  },
  {
   "cell_type": "markdown",
   "metadata": {},
   "source": [
    "\n",
    "## 1. Introdução"
   ]
  },
  {
   "cell_type": "markdown",
   "metadata": {},
   "source": [
    "&nbsp;&nbsp;&nbsp;&nbsp;&nbsp;   Neste estudo, aprofundaremos uma investigação nos dados do Airbnb nos Estados Unidos, focalizando em aspectos que sejam relevantes. Com base nesses dados, empregaremos diversas **técnicas de predição** para estimar os preços de aluguel, considerando as características específicas fornecidas. A variedade de métodos utilizados permitirá uma análise comparativa dos resultados obtidos.\n",
    "\n",
    "**Airbnb**: É uma plataforma global de aluguel de casas e apartamentos, oferece uma ampla gama de opções em 192 países. Nos Estados Unidos sozinhos, existem aproximadamente 600.000 locais potenciais para aluguel, destacando a extensão e a diversidade da plataforma. Diante de tantas opções, a decisão dos usuários sobre onde se hospedar é influenciada pelas informações fornecidas pelos proprietários, que variam desde detalhes como o número de banheiros até a disponibilidade de uma rede Wi-Fi. \n",
    "\n",
    "**1<sup>a</sup> parte**: Procura desvendar padrões e insights por meio da análise desses dados, possibilitando uma compreensão mais aprofundada do mercado de locação do Airbnb nos Estados Unidos.\n",
    "\n",
    "**2<sup>a</sup> parte**: Tem como objetivo comparar a eficacea de diferentes modelos de regressão com base dados de tamanhos diferentes, para descobrir o preço de locação de Airbnb. Assim chegando no modelo mais adequado para o problema."
   ]
  },
  {
   "cell_type": "markdown",
   "metadata": {},
   "source": [
    "**Fonte do dataset:** www.kaggle.com/rudymizrahi/airbnb-listings-in-major-us-cities-deloitte-ml"
   ]
  },
  {
   "cell_type": "markdown",
   "metadata": {},
   "source": [
    "___\n",
    "## 2. Minerando a base de dados"
   ]
  },
  {
   "cell_type": "markdown",
   "metadata": {},
   "source": [
    "O dataset que vamos utilizar nesse projeto possui diversas colunas com informações dos Airbnb nos Estados Unidos, com variáveis qualitativas e quantitativas, portanto temos que percorrer todas essas colunas para fazer uma limpeza, e deixar somente as informações que serão pertinentes a nossa análise."
   ]
  },
  {
   "cell_type": "code",
   "execution_count": 1,
   "metadata": {},
   "outputs": [],
   "source": [
    "#Importando bibliotecas:\n",
    "import os\n",
    "import sys\n",
    "import warnings\n",
    "import numpy as np\n",
    "import pandas as pd\n",
    "import seaborn as sns\n",
    "import matplotlib.pyplot as plt\n",
    "from scipy.stats import norm, probplot\n",
    "from IPython.display import Markdown, display\n",
    "from sklearn.model_selection import train_test_split\n",
    "from sklearn.metrics import accuracy_score, r2_score\n",
    "from statsmodels.formula.api import ols\n",
    "\n",
    "plt.style.use('ggplot')"
   ]
  },
  {
   "cell_type": "code",
   "execution_count": 2,
   "metadata": {},
   "outputs": [],
   "source": [
    "#Vamos remover os avisos para manter a exibição mais limpa:\n",
    "warnings.filterwarnings(\"ignore\")"
   ]
  },
  {
   "cell_type": "markdown",
   "metadata": {},
   "source": [
    "___\n",
    "\n",
    "### 2.1 Base de dados\n",
    "\n",
    "Para que possamos trabalhar com os dados que obtidos a partir do site: www.kaggle.com, primeiro precisamos abrir o arquivo. No caso estaremos abrindo somente o arquivo de treino (que no futuro será dividido em treino e teste), uma vez que ele ja tem uma quantidade de dados suficiente para que façamos nosso trabalho."
   ]
  },
  {
   "cell_type": "code",
   "execution_count": 3,
   "metadata": {},
   "outputs": [],
   "source": [
    "#Importado o arquivo de treinamento:\n",
    "df = pd.read_csv('Data/train.csv')"
   ]
  },
  {
   "cell_type": "code",
   "execution_count": 4,
   "metadata": {},
   "outputs": [
    {
     "name": "stdout",
     "output_type": "stream",
     "text": [
      "O Dataframe possui 74111 linhas por 29 colunas\n"
     ]
    }
   ],
   "source": [
    "#Análisando o tamanho do dataframe de treino:\n",
    "linhas, colunas = df.shape\n",
    "print(\"O Dataframe possui {0} linhas por {1} colunas\".format(linhas, colunas))"
   ]
  },
  {
   "cell_type": "markdown",
   "metadata": {},
   "source": [
    "...\n",
    "\n",
    "#### Limpando o dataframe para ser análisado:\n",
    "Esta etapa consiste em uma preparação do dataframe para facilitar a análise do mesmo, assim evitando ocorrências de complicações ou erros que possam atrapalhar o desempenho dos nosssos classificadores no futuro. Portanto iremos: limpar os epaços dos títulos de cada coluna; remover os valores nulos de cada categoria, assim como deletar colunas que julgarmos desnecessárias para o nosso trabalho."
   ]
  },
  {
   "cell_type": "code",
   "execution_count": 5,
   "metadata": {},
   "outputs": [],
   "source": [
    "#Removendo os espaços em branco dos títulos das colunas:\n",
    "df.columns = [espaços.strip() for espaços in df.columns.tolist()]"
   ]
  },
  {
   "cell_type": "code",
   "execution_count": 6,
   "metadata": {},
   "outputs": [],
   "source": [
    "#Convertendo uma string de porcentagem para float:\n",
    "df['host_response_rate'] = df['host_response_rate'].str.rstrip('%').astype('float')"
   ]
  },
  {
   "cell_type": "code",
   "execution_count": 7,
   "metadata": {},
   "outputs": [],
   "source": [
    "#Removendo colunas que não são pertinentes ao estudo:\n",
    "df = df.drop([\"latitude\",\"longitude\",\"name\",\"thumbnail_url\",\"id\",\"description\",\"amenities\",\"zipcode\",\n",
    "              \"host_since\",\"first_review\",\"last_review\"],axis=1);"
   ]
  },
  {
   "cell_type": "code",
   "execution_count": 8,
   "metadata": {},
   "outputs": [],
   "source": [
    "#Apagando valores nulos que podem causar problemas posteriores:\n",
    "df = df.dropna(axis=0, subset=['log_price', 'property_type', 'room_type', 'accommodates', 'bathrooms','bed_type',\n",
    "                               'cancellation_policy', 'cleaning_fee', 'city', 'host_has_profile_pic', 'beds', \n",
    "                               'host_identity_verified','host_response_rate', 'instant_bookable', 'neighbourhood',\n",
    "                               'review_scores_rating','bedrooms'])"
   ]
  },
  {
   "cell_type": "code",
   "execution_count": 9,
   "metadata": {},
   "outputs": [],
   "source": [
    "#Corrigindo simplificação no arquivo:\n",
    "df.loc[(df[\"instant_bookable\"] == \"f\"),\"instant_bookable\"] = \"False\"\n",
    "df.loc[(df[\"instant_bookable\"] == \"t\"),\"instant_bookable\"] = \"True\"\n",
    "\n",
    "df.loc[(df[\"host_has_profile_pic\"] == \"f\"),\"host_has_profile_pic\"] = \"False\"\n",
    "df.loc[(df[\"host_has_profile_pic\"] == \"t\"),\"host_has_profile_pic\"] = \"True\"\n",
    "\n",
    "df.loc[(df[\"host_identity_verified\"] == \"f\"),\"host_identity_verified\"] = \"False\"\n",
    "df.loc[(df[\"host_identity_verified\"] == \"t\"),\"host_identity_verified\"] = \"True\""
   ]
  },
  {
   "cell_type": "code",
   "execution_count": 10,
   "metadata": {},
   "outputs": [
    {
     "data": {
      "text/html": [
       "<div>\n",
       "<style scoped>\n",
       "    .dataframe tbody tr th:only-of-type {\n",
       "        vertical-align: middle;\n",
       "    }\n",
       "\n",
       "    .dataframe tbody tr th {\n",
       "        vertical-align: top;\n",
       "    }\n",
       "\n",
       "    .dataframe thead th {\n",
       "        text-align: right;\n",
       "    }\n",
       "</style>\n",
       "<table border=\"1\" class=\"dataframe\">\n",
       "  <thead>\n",
       "    <tr style=\"text-align: right;\">\n",
       "      <th></th>\n",
       "      <th>log_price</th>\n",
       "      <th>property_type</th>\n",
       "      <th>room_type</th>\n",
       "      <th>accommodates</th>\n",
       "      <th>bathrooms</th>\n",
       "      <th>bed_type</th>\n",
       "      <th>cancellation_policy</th>\n",
       "      <th>cleaning_fee</th>\n",
       "      <th>city</th>\n",
       "      <th>host_has_profile_pic</th>\n",
       "      <th>host_identity_verified</th>\n",
       "      <th>host_response_rate</th>\n",
       "      <th>instant_bookable</th>\n",
       "      <th>neighbourhood</th>\n",
       "      <th>number_of_reviews</th>\n",
       "      <th>review_scores_rating</th>\n",
       "      <th>bedrooms</th>\n",
       "      <th>beds</th>\n",
       "    </tr>\n",
       "  </thead>\n",
       "  <tbody>\n",
       "    <tr>\n",
       "      <th>72757</th>\n",
       "      <td>5.170484</td>\n",
       "      <td>Apartment</td>\n",
       "      <td>Entire home/apt</td>\n",
       "      <td>8</td>\n",
       "      <td>1.0</td>\n",
       "      <td>Real Bed</td>\n",
       "      <td>strict</td>\n",
       "      <td>True</td>\n",
       "      <td>NYC</td>\n",
       "      <td>True</td>\n",
       "      <td>True</td>\n",
       "      <td>100.0</td>\n",
       "      <td>False</td>\n",
       "      <td>Greenpoint</td>\n",
       "      <td>42</td>\n",
       "      <td>100.0</td>\n",
       "      <td>3.0</td>\n",
       "      <td>4.0</td>\n",
       "    </tr>\n",
       "    <tr>\n",
       "      <th>15273</th>\n",
       "      <td>5.652489</td>\n",
       "      <td>Apartment</td>\n",
       "      <td>Entire home/apt</td>\n",
       "      <td>4</td>\n",
       "      <td>1.0</td>\n",
       "      <td>Real Bed</td>\n",
       "      <td>strict</td>\n",
       "      <td>True</td>\n",
       "      <td>NYC</td>\n",
       "      <td>True</td>\n",
       "      <td>True</td>\n",
       "      <td>90.0</td>\n",
       "      <td>False</td>\n",
       "      <td>Lower East Side</td>\n",
       "      <td>59</td>\n",
       "      <td>87.0</td>\n",
       "      <td>2.0</td>\n",
       "      <td>3.0</td>\n",
       "    </tr>\n",
       "  </tbody>\n",
       "</table>\n",
       "</div>"
      ],
      "text/plain": [
       "       log_price property_type        room_type  accommodates  bathrooms  \\\n",
       "72757   5.170484     Apartment  Entire home/apt             8        1.0   \n",
       "15273   5.652489     Apartment  Entire home/apt             4        1.0   \n",
       "\n",
       "       bed_type cancellation_policy  cleaning_fee city host_has_profile_pic  \\\n",
       "72757  Real Bed              strict          True  NYC                 True   \n",
       "15273  Real Bed              strict          True  NYC                 True   \n",
       "\n",
       "      host_identity_verified  host_response_rate instant_bookable  \\\n",
       "72757                   True               100.0            False   \n",
       "15273                   True                90.0            False   \n",
       "\n",
       "         neighbourhood  number_of_reviews  review_scores_rating  bedrooms  \\\n",
       "72757       Greenpoint                 42                 100.0       3.0   \n",
       "15273  Lower East Side                 59                  87.0       2.0   \n",
       "\n",
       "       beds  \n",
       "72757   4.0  \n",
       "15273   3.0  "
      ]
     },
     "execution_count": 10,
     "metadata": {},
     "output_type": "execute_result"
    }
   ],
   "source": [
    "df.sample(2)"
   ]
  },
  {
   "cell_type": "code",
   "execution_count": 11,
   "metadata": {},
   "outputs": [
    {
     "name": "stdout",
     "output_type": "stream",
     "text": [
      "Após a limpeza do Dataframe, ele possui 41.9% linhas a menos e 37.9% colunas a menos\n"
     ]
    }
   ],
   "source": [
    "#Análisando o tamanho do dataframe de treino:\n",
    "linhas_limpas, colunas_limpas = df.shape\n",
    "print(\"Após a limpeza do Dataframe, ele possui {0:.1f}% linhas a menos e {1:.1f}% colunas a menos\".format(((linhas-linhas_limpas)/linhas)*100, ((colunas-colunas_limpas)/colunas)*100))"
   ]
  },
  {
   "cell_type": "markdown",
   "metadata": {},
   "source": [
    "...\n",
    "\n",
    "\n",
    "#### Transformando categorias qualiativas em quantitativas:\n",
    "Como os nosso modelos preditivos necessitam de variáveis quantitativas, é necessário que uma conversão seja efetuada para possibilitar o funcionamento das ferramentas.<br>\n",
    "O método usado para efetuar essa conversão é chamado de **One Hot Encoding**, que transforma variáveis categóricas em vetores binários. Tal método transforma todas as variáveis em 0 menos quando o item(coluna) analisado tiver resposta positiva, desse modo, podemos dizer que estamos transofrpermitindo a realização de análises em cima desse dados.\n",
    "<br>\n",
    "<br>"
   ]
  },
  {
   "cell_type": "code",
   "execution_count": 12,
   "metadata": {},
   "outputs": [],
   "source": [
    "#Função para chamar o get_dummies e remover a coluna base:\n",
    "def dummify(data, column_name):\n",
    "    df1 = data.copy()\n",
    "    df2 = pd.concat([df1.drop(column_name, axis=1), pd.get_dummies(data[column_name], prefix=column_name)], axis=1)\n",
    "    return df2\n",
    "\n",
    "#Fazendo as conversões das nossas colunas:\n",
    "df_modelos = dummify( df, \"property_type\")\n",
    "df_modelos = dummify( df_modelos, \"room_type\")\n",
    "df_modelos = dummify( df_modelos, \"bed_type\")\n",
    "df_modelos = dummify( df_modelos, \"cancellation_policy\")\n",
    "df_modelos = dummify( df_modelos, \"cleaning_fee\")\n",
    "df_modelos = dummify( df_modelos, \"city\")\n",
    "df_modelos = dummify( df_modelos, \"host_has_profile_pic\")\n",
    "df_modelos = dummify( df_modelos, \"host_identity_verified\")\n",
    "df_modelos = dummify( df_modelos, \"instant_bookable\")\n",
    "df_modelos = dummify( df_modelos, \"neighbourhood\")"
   ]
  },
  {
   "cell_type": "markdown",
   "metadata": {},
   "source": [
    " Agora, possuímos um `df` que usaremos para a análise descritiva, que é composto por tanto as variáveis qualitativas quanto pelas quantitativas. Também temos o `df_modelos` que será usado para nossos modelos de regressão. "
   ]
  },
  {
   "cell_type": "markdown",
   "metadata": {},
   "source": [
    "...\n",
    "<br>\n",
    "\n",
    "### 2.2 Análise exploratória"
   ]
  },
  {
   "cell_type": "markdown",
   "metadata": {},
   "source": [
    "Visando aprofundar a compreensão dos fatores que impactam os preços de locação, este estudo se propõe a investigar a correlação entre diversas variáveis e os valores de aluguel. A análise abrangerá um conjunto de atributos específicos, proporcionando insights sobre a influência dessas variáveis nos preços de locação das propriedades.\n"
   ]
  },
  {
   "cell_type": "markdown",
   "metadata": {},
   "source": [
    "#### Vamos analisar os tipos de quarto:\n",
    "\n",
    "Primeiro vamos descobrir quais são os tipos mais recorrentes de quarto e em seguida o valor médio em log da locação de cada tipo. "
   ]
  },
  {
   "cell_type": "code",
   "execution_count": 13,
   "metadata": {},
   "outputs": [],
   "source": [
    "#Vamos descobrir a quantidade de cada tipo de quarto existe nos dados:\n",
    "Tipo_quarto = df.room_type.value_counts()"
   ]
  },
  {
   "cell_type": "code",
   "execution_count": 14,
   "metadata": {},
   "outputs": [],
   "source": [
    "#Criando listas vazias para cada tipo de quarto:\n",
    "entire, private, shared = [],[],[]\n",
    "\n",
    "#Vamos usar um loop para percorrer nosso dataframe:\n",
    "for tipo, preco in zip(df['room_type'],df['log_price']):\n",
    "    if tipo == \"Entire home/apt\":\n",
    "        entire.append(preco)\n",
    "    elif tipo == \"Private room\":\n",
    "        private.append(preco)\n",
    "    elif tipo == \"Shared room\":\n",
    "        shared.append(preco)"
   ]
  },
  {
   "cell_type": "code",
   "execution_count": 15,
   "metadata": {},
   "outputs": [
    {
     "data": {
      "image/png": "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\n",
      "text/plain": [
       "<Figure size 720x432 with 1 Axes>"
      ]
     },
     "metadata": {},
     "output_type": "display_data"
    }
   ],
   "source": [
    "#Criando um gráfico com os dados:\n",
    "plot = Tipo_quarto.plot(kind='barh', figsize=(10, 6), color = \"firebrick\",align='center')\n",
    "plt.title(\"\\nTipos de quarto mais frequentes de Airbnb\\n\", fontsize=18)\n",
    "plt.xlabel('Quantidade')\n",
    "plt.tight_layout()\n",
    "\n",
    "#Criando a tabela de informações ao lado do gráfico:\n",
    "plt.figtext(1.01, 0.8, \"Preços médios (log):\", fontsize=16, va='center', ha='left')\n",
    "plt.figtext(1.01, 0.7, \"Shared room: {:.2f}\".format(np.mean(shared)), fontsize=14, va='center', ha='left')\n",
    "plt.figtext(1.01, 0.6, \"Private room: {:.2f}\".format(np.mean(private)), fontsize=14, va='center', ha='left')\n",
    "plt.figtext(1.01, 0.5, \"Entire room: {:.2f}\".format(np.mean(entire)), fontsize=14, va='center', ha='left')\n",
    "plt.show()"
   ]
  },
  {
   "cell_type": "markdown",
   "metadata": {},
   "source": [
    "Percebemos que a quantidade disponível de cada tipo de quarto está relacionada com o preço médio, de forma que, quanto maior for o preço médio maior a quantidade de Airbnb."
   ]
  },
  {
   "cell_type": "markdown",
   "metadata": {},
   "source": [
    "...<br>\n",
    "\n",
    "\n",
    "#### Vamos análisar nos tipos de propriedade:\n",
    "\n",
    "Assim como no item anterior, será estudado os tipos mais frequentes e seus valores médios de locação."
   ]
  },
  {
   "cell_type": "code",
   "execution_count": 16,
   "metadata": {},
   "outputs": [],
   "source": [
    "#Criando listas vazias para cada tipo de propriedade:\n",
    "apartment, house, condominium, townhouse, loft = [],[],[],[],[]\n",
    "#Criando Variáveis nulas para cada tipo de propriedade:\n",
    "apartment_contador, house_contador, condominium_contador, townhouse_contador, loft_contador = 0,0,0,0,0\n",
    "\n",
    "#Vamos usar um loop para percorrer nosso dataframe:\n",
    "for tipo, preco in zip(df['property_type'],df['log_price']):\n",
    "    if tipo == \"Apartment\":\n",
    "        apartment.append(preco)\n",
    "        apartment_contador+=1\n",
    "    elif tipo == \"House\":\n",
    "        house.append(preco)\n",
    "        house_contador+=1\n",
    "    elif tipo == \"Condominium\":\n",
    "        condominium.append(preco)\n",
    "        condominium_contador+=1\n",
    "    elif tipo == \"Townhouse\":\n",
    "        townhouse.append(preco)\n",
    "        townhouse_contador+=1\n",
    "    elif tipo == \"Loft\":\n",
    "        loft.append(preco)\n",
    "        loft_contador+=1\n",
    "        \n",
    "#Criando uma variável para atribuir o valor de total dentre os 5 tipos mais recorrentes:\n",
    "Total_propriedades = apartment_contador + house_contador + condominium_contador + townhouse_contador + loft_contador"
   ]
  },
  {
   "cell_type": "code",
   "execution_count": 17,
   "metadata": {
    "scrolled": true
   },
   "outputs": [
    {
     "data": {
      "text/markdown": [
       "### Preços médios de cada tipo (log):"
      ],
      "text/plain": [
       "<IPython.core.display.Markdown object>"
      ]
     },
     "metadata": {},
     "output_type": "display_data"
    },
    {
     "name": "stdout",
     "output_type": "stream",
     "text": [
      " Apartment:  4.76\n",
      " House:      4.77\n",
      " Condominium:4.96\n",
      " Townhouse:  4.81\n",
      " Loft:       5.00\n"
     ]
    },
    {
     "data": {
      "text/markdown": [
       "### Porcentagem dos 5 tipos mais comuns:"
      ],
      "text/plain": [
       "<IPython.core.display.Markdown object>"
      ]
     },
     "metadata": {},
     "output_type": "display_data"
    },
    {
     "name": "stdout",
     "output_type": "stream",
     "text": [
      " Apartment:  67.6%\n",
      " House:      24.1%\n",
      " Condominium:3.8%\n",
      " Townhouse:  2.6%\n",
      " Loft:       1.9%\n"
     ]
    }
   ],
   "source": [
    "#Vamos imprimir os preços médios:\n",
    "markdown_text = \"### Preços médios de cada tipo (log):\"\n",
    "display(Markdown(markdown_text))\n",
    "print(\" Apartment:  {:.2f}\\n\".format(np.mean(apartment)),\n",
    "      \"House:      {:.2f}\\n\".format(np.mean(house)),\n",
    "      \"Condominium:{:.2f}\\n\".format(np.mean(condominium)),\n",
    "      \"Townhouse:  {:.2f}\\n\".format(np.mean(townhouse)),\n",
    "      \"Loft:       {:.2f}\".format(np.mean(loft)))\n",
    "\n",
    "#Vamos imprimir a porcentagem de cada tipo:\n",
    "markdown_text = \"### Porcentagem dos 5 tipos mais comuns:\"\n",
    "display(Markdown(markdown_text))\n",
    "print(\" Apartment:  {0:.1f}%\\n\".format((apartment_contador/Total_propriedades)*100),\n",
    "      \"House:      {0:.1f}%\\n\".format((house_contador/Total_propriedades)*100),\n",
    "      \"Condominium:{0:.1f}%\\n\".format((condominium_contador/Total_propriedades)*100),\n",
    "      \"Townhouse:  {0:.1f}%\\n\".format((townhouse_contador/Total_propriedades)*100),\n",
    "      \"Loft:       {0:.1f}%\".format((loft_contador/Total_propriedades)*100))"
   ]
  },
  {
   "cell_type": "markdown",
   "metadata": {},
   "source": [
    "Desse modo, é possível identificar os 5 tipos de propriedade mais comuns, também que quanto maior a quantidade de Airbnbs de cada tipo de propriedade, menor vai ser o preço médio."
   ]
  },
  {
   "cell_type": "markdown",
   "metadata": {},
   "source": [
    "...\n",
    "\n",
    "#### Vamos analisar se as cidades com mais Airbnb tem disparidade de preço:\n",
    "\n",
    "O código a seguir já pressupõe a execução de um método `value_counts()` para identificar as cinco cidades com maior oferta."
   ]
  },
  {
   "cell_type": "code",
   "execution_count": 18,
   "metadata": {},
   "outputs": [],
   "source": [
    "#Criando listas vazias para cada  cidade:\n",
    "city_nyc, city_la, city_sf, city_dc, city_chicago = [],[],[],[],[]\n",
    "\n",
    "#Vamos usar um loop para percorrer nosso dataframe:\n",
    "for city, price in zip(df['city'],df['log_price']):\n",
    "    if city == \"NYC\":\n",
    "        city_nyc.append(price)\n",
    "    elif city == \"LA\":\n",
    "        city_la.append(price)\n",
    "    elif city == \"SF\":\n",
    "        city_sf.append(price)\n",
    "    elif city == \"DC\":\n",
    "        city_dc.append(price)\n",
    "    elif city == \"Chicago\":\n",
    "        city_chicago.append(price)"
   ]
  },
  {
   "cell_type": "code",
   "execution_count": 19,
   "metadata": {},
   "outputs": [
    {
     "data": {
      "image/png": "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\n",
      "text/plain": [
       "<Figure size 720x432 with 1 Axes>"
      ]
     },
     "metadata": {},
     "output_type": "display_data"
    }
   ],
   "source": [
    "#Criando um gráfico com os dados:\n",
    "colors = sns.color_palette('gist_heat')\n",
    "fig, ax = plt.subplots(figsize=(10, 6))\n",
    "sns.kdeplot(data=city_nyc, label='NYC', fill=True, ax=ax, color=colors[0])\n",
    "sns.kdeplot(data=city_la, label='LA', fill=True, ax=ax, color=colors[1])\n",
    "sns.kdeplot(data=city_sf, label='SF', fill=True, ax=ax, color=colors[2])\n",
    "sns.kdeplot(data=city_dc, label='DC', fill=True, ax=ax, color=colors[3])\n",
    "sns.kdeplot(data=city_chicago, label='CHI', fill=True, ax=ax, color=colors[4])\n",
    "ax.set_xlim(2, 8)\n",
    "plt.title(\"\\nPreços nas cidades com mais Airbnb\\n\", fontsize=18)\n",
    "plt.ylabel('Densidade')\n",
    "plt.xlabel('Preço (log)')\n",
    "ax.legend()\n",
    "plt.tight_layout()\n",
    "\n",
    "#Criando a tabela de informações ao lado do gráfico:\n",
    "plt.figtext(1.01, 0.8, \"Número de Airbnbs:\", fontsize=16, va='center', ha='left')\n",
    "plt.figtext(1.01, 0.7, \"NYC: {:.0f}\".format(df.city.value_counts()[0]), fontsize=14, va='center', ha='left')\n",
    "plt.figtext(1.01, 0.6, \"LA: {:.0f}\".format(df.city.value_counts()[1]), fontsize=14, va='center', ha='left')\n",
    "plt.figtext(1.01, 0.5, \"SF: {:.0f}\".format(df.city.value_counts()[2]), fontsize=14, va='center', ha='left')\n",
    "plt.figtext(1.01, 0.4, \"DC: {:.0f}\".format(df.city.value_counts()[3]), fontsize=14, va='center', ha='left')\n",
    "plt.figtext(1.01, 0.3, \"CHI: {:.0f}\".format(df.city.value_counts()[4]), fontsize=14, va='center', ha='left')\n",
    "plt.show()"
   ]
  },
  {
   "cell_type": "markdown",
   "metadata": {},
   "source": [
    "Nesta análise comparativa das cinco cidades com maior presença de Airbnbs, observamos uma notável semelhança nas distribuições de preços entre essas localidades. Surpreendentemente, apesar das diferenças demográficas e geográficas, as curvas de distribuição exibem padrões relativamente consistentes, sugerindo uma uniformidade nos valores de locação. \n",
    "\n",
    "Ainda, o número expressivo de Airbnbs em uma determinada cidade não necessariamente implica uma variação substancial nos valores de locação. Este achado desafia expectativas e destaca a complexidade dos fatores que influenciam os preços de aluguel, indo além da simples oferta e demanda."
   ]
  },
  {
   "cell_type": "markdown",
   "metadata": {},
   "source": [
    "...\n",
    "\n",
    "\n",
    "#### Vamos analisar o se as reviews tem influência no preço:"
   ]
  },
  {
   "cell_type": "code",
   "execution_count": 20,
   "metadata": {},
   "outputs": [],
   "source": [
    "#Criando 5 listas para as reviews:\n",
    "review1, review2, review3, review4, review5 = [],[],[],[],[]\n",
    "rcount1, rcount2, rcount3, rcount4, rcount5 = 0,0,0,0,0\n",
    "\n",
    "#Vamos usar um loop para percorrer nosso dataframe:\n",
    "for r, price in zip(df['review_scores_rating'],df['log_price']):\n",
    "    if r <= 20:\n",
    "        review1.append(price)\n",
    "        rcount1 += 1\n",
    "    elif r > 20 and r <= 40:\n",
    "        review2.append(price)\n",
    "        rcount2 += 1\n",
    "    elif r > 40 and r <= 60:\n",
    "        review3.append(price)\n",
    "        rcount3 += 1\n",
    "    elif r > 60 and r <= 80:\n",
    "        review4.append(price)\n",
    "        rcount4 += 1\n",
    "    elif r > 80 and r <= 100:\n",
    "        review5.append(price)\n",
    "        rcount5 += 1"
   ]
  },
  {
   "cell_type": "code",
   "execution_count": 21,
   "metadata": {},
   "outputs": [
    {
     "data": {
      "image/png": "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\n",
      "text/plain": [
       "<Figure size 720x432 with 1 Axes>"
      ]
     },
     "metadata": {},
     "output_type": "display_data"
    }
   ],
   "source": [
    "#Criando uma lista para atribuir os preços em cada categoria:\n",
    "reviews = [review1, review2, review3, review4, review5]\n",
    "#Criando uma lista com a quantidade de reviews em cada categoria:\n",
    "rcounts = [rcount1, rcount2, rcount3, rcount4, rcount5]\n",
    "#Criando uma lista com as labels:\n",
    "stars = [\"1 Star\", \"2 Stars\", \"3 Stars\", \"4 Stars\", \"5 Stars\"]\n",
    "\n",
    "#Criando um gráfico com os dados:\n",
    "plt.figure(figsize=(10, 6))\n",
    "sns.boxplot(data=reviews, orient=\"h\", palette='gist_heat')\n",
    "plt.yticks(ticks=range(5), labels=stars)\n",
    "plt.title('\\nBox Plot - Preço x Reviews\\n', fontsize=18)\n",
    "plt.xlabel(\"Preço (em log)\")\n",
    "plt.tight_layout()\n",
    "\n",
    "#Criando a tabela de informações ao lado do gráfico:\n",
    "plt.figtext(1.01, 0.8, \"Preços médios (log):\", fontsize=16, va='center', ha='left')\n",
    "plt.figtext(1.01, 0.7, \"1 Star: {:.2f}\".format(np.mean(review1)), fontsize=14, va='center', ha='left')\n",
    "plt.figtext(1.01, 0.6, \"2 Star: {:.2f}\".format(np.mean(review2)), fontsize=14, va='center', ha='left')\n",
    "plt.figtext(1.01, 0.5, \"3 Star: {:.2f}\".format(np.mean(review3)), fontsize=14, va='center', ha='left')\n",
    "plt.figtext(1.01, 0.4, \"4 Star: {:.2f}\".format(np.mean(review4)), fontsize=14, va='center', ha='left')\n",
    "plt.figtext(1.01, 0.3, \"5 Star: {:.2f}\".format(np.mean(review5)), fontsize=14, va='center', ha='left')\n",
    "plt.show()"
   ]
  },
  {
   "cell_type": "markdown",
   "metadata": {},
   "source": [
    "Nesta análise por meio de boxplots, foram explorados os preços relacionados às avaliações correspondentes de 1 a 5 estrelas. Notavelmente, observa-se uma relativa uniformidade nos valores apresentados pelos boxplots, indicando uma variação limitada nos preços associados a diferentes classificações. Essa consistência sugere que a pontuação das avaliações não é um fator determinante significativo nos preços de locação.\n",
    "\n",
    "Além disso, ao analisar o preço médio das locações e as avaliações, observamos que não há uma relação clara entre esses dois aspectos."
   ]
  },
  {
   "cell_type": "markdown",
   "metadata": {},
   "source": [
    "...<br>\n",
    "\n",
    "\n",
    "#### Vamos descobrir algumas correlações:"
   ]
  },
  {
   "cell_type": "code",
   "execution_count": 22,
   "metadata": {},
   "outputs": [
    {
     "data": {
      "image/png": "iVBORw0KGgoAAAANSUhEUgAAAbwAAAFbCAYAAACu8TvlAAAAOXRFWHRTb2Z0d2FyZQBNYXRwbG90bGliIHZlcnNpb24zLjQuMywgaHR0cHM6Ly9tYXRwbG90bGliLm9yZy/MnkTPAAAACXBIWXMAAAsTAAALEwEAmpwYAABeb0lEQVR4nO3deVxU9f748dcM+7CJKG6IuAOSkuKG5lJkN1uulnVLs8WsDNMWRHEhNcN9yb3cu1l9K69Z3iyNcg3XcEkFURFXdEBUZBOGmd8f/DhXBBRzzswI7+fjwSPmzJnz/pyR5j2fXWMymUwIIYQQVZzW2gUQQgghLEESnhBCiGpBEp4QQohqQRKeEEKIakESnhBCiGpBEp4QQohqwd7aBRBCCCFutWjRIhISEvD09GTWrFllnjeZTKxcuZL9+/fj5OREREQETZo0ue01pYYnhBDC5vTo0YMxY8ZU+Pz+/fu5ePEi8+bN480332TZsmV3vKYkPCGEEDYnKCgINze3Cp/ft28f3bp1Q6PR0KJFC3Jycrhy5cptrykJTwghxH0nMzOTWrVqKY+9vb3JzMy87WukD68KG6Lxt0rcd19tbfGYjZ973OIxARyCOlslbmGdltaJa6WFCJ3yb//NXQ3p8ydaPCaAo4fOKnFrvz/nnq9R2c+cfr8uIy4uTnkcHh5OeHj4XcUqb1VMjUZz29dIwhNCCGEWdrfPN4q/k+Bu5e3tTUZGhvL48uXLeHl53fY10qQphBDivhMaGsq2bdswmUwkJyej0+numPCkhieEEMIs7O7QpHg3PvnkE44ePcr169cZMmQIzz//PAaDAYBevXrx4IMPkpCQwPDhw3F0dCQiIuKO15SEJ4QQwua89957t31eo9EwePDgu7qmJDwhhBBmUdk+PGuRhCeEEMIszNmkqQYZtCKEEKJakIR3i4EDB1ol7r59+1i3bp1VYgshhDnYaSr3Yy3SpGkDioqKCA0NJTQ01NpFEUKIKksSXgVMJhOrV6/mwIEDADz77LOEhYVhNBpZsWIFR48excfHB5PJRM+ePenUqVO51xk6dCidO3fmyJEjALz77rvUrVuXhQsX4ubmRmpqKo0bN8bPz4+TJ0/y+uuvc/XqVZYuXYperwdg8ODBtGzZkm3btvHzzz9jMBho3rw5gwcPRquVSroQwjbYeh+eJLwK7N69m9TUVGbMmEFWVhajR48mMDCQY8eOkZ6ezsyZM8nKyuL999+nZ8+et72WTqdjypQpbN26lVWrVhEdHQ1AWloaMTExaLVatmzZopy/cuVKgoKCiIqKwmg0kp+fz7lz54iPj2fSpEnY29uzbNkytm/fTvfu3dV8G4QQosqQhFeBpKQkunTpglarpUaNGgQFBXHy5EmSkpLo1KmTcrxVq1Z3vFaXLl2U/37++efK8ZLr3Orw4cO88847AGi1WnQ6Hdu2bePUqVOMHj0agIKCAjw8PMq8Ni4urtQadUIIYSkyLaGKKW/B0ju5eUHTm393dna+q7jdu3enf//+tz3v5jXqhkz7v7ssqRBC/H223qQpHUAVCAwMZOfOnRiNRrKyskhMTKRZs2YEBASwe/dujEYjV69eVfrmbic+Pl75b/Pmze94/gMPPMCmTZsAMBqN5Obm8sADD7Br1y6uXbsGQHZ2Nunp6fdwh0IIUb1IDa8CHTp0IDk5maioKABeeuklatSoQceOHfnrr7+IjIykXr16NG/eHJ3u9tt5FBYWMmbMGEwmE+++++4dY7/66qssWbKE33//Ha1WyxtvvEGLFi144YUX+PjjjzGZTNjZ2fH6669Tu3Zts9yvEELcK1uvQWlMf6eNrprLz8/H2dmZ69evM2bMGCZNmkSNGjXKPXfo0KFMmTKl3P42tcl+eOqT/fAsQ/bDU5859sOL1d25BQtgbO7xe471d0gN72+YOnUqOTk5GAwGnn322QqTnRBCVCcyaKUKmjBhQpljM2bMUObNlRgwYAALFy60UKmEEELcjiQ8Mynp6xNCiOpKRmkKIYQQNkBqeEIIIczC1vvwpIYnhBCiWpAanhBCCLOw9T48SXhVmDXmwwHMXXXI4jHHt2ho8ZgAPq3CrBJXU5hnlbgO9k5WiZvrWMPiMY+vt/zfMcClM9esEvdf79/7NaRJUwghhLABUsMTQghhFrbepCk1PCGEENWC1PCEEEKYha334UnCE0IIYRaS8IQQQlQL0odXjen1eiIjI+94zo4dOyxUIiGEqL4k4VlZenq6JDwhRJVgp6ncj7XYZJPm9OnTuXz5MoWFhfTu3Zvw8HAOHDjA119/jdFoxN3dnQ8//JD8/HxWrFjByZMn0Wg09OvXj06dOrFjxw6+//57AB588EFeeuklAAYOHMhjjz3GX3/9hZubGy+++CKrV68mIyODV199ldDQULZs2cKePXswGo2cPXuWp556CoPBwLZt23BwcGD06NG4ubmRmprK0qVLuXHjBnXq1OHtt9/Gzc2NlJQUFi9ejKOjIwEBAco96fV6FixYwI0bNwAYNGgQLVu25KuvvuLcuXNERUXRvXt3evfuzZdffsnRo0cpLCzkscce49FHH+XKlSt88skn5ObmYjQaGTx4MIGBgZb/xxFCiPuUTSa8iIgI3NzcKCgoYPTo0YSGhvLZZ58xceJEfHx8yM7OBmDNmjXodDpmzZoFQHZ2NpmZmXz55ZdMmzYNV1dXPv74Y/bs2UOHDh24ceMGrVq14qWXXmLGjBn83//9H+PGjePcuXMsXLiQ0NBQAM6ePcv06dMpLCxk2LBhDBgwgOnTp7Nq1Sq2bt3KE088wYIFCxg0aBBBQUF88803rFmzhldffZVFixYpx7/44gvlnjw9PRk3bhyOjo6kpaUxd+5cpk6dSv/+/Vm/fj3R0dEAxMXFodPpmDJlCoWFhcTExNCmTRt2795NmzZteOaZZzAajUriFEIIW2HrfXg2mfA2bNjA3r17AcjIyCAuLo7AwEB8fHwAcHNzA+Cvv/7ivffeU17n5ubG3r17adWqFR4eHgA89NBDJCYm0qFDB+zt7QkJCQHAz88PBwcH7O3t8fPzIz09XblOq1atcHFxwcXFBZ1OpyRCPz8/zpw5Q25uLjk5OQQFBQHQvXt35syZU+Z4t27dOHDgAABFRUUsX76c1NRUtFotaWlp5d77wYMHOXPmDLt27QIgNzeXtLQ0mjZtyuLFizEYDHTo0AF/f/97fJeFEMK8ZJTmXTpy5Ah//fUXH3/8MU5OTkyYMAF/f38uXLhQ7vmaW75RmEymCq9tZ2ennK/RaLC3L759rVZLUVGRcp6Dg4Pyu1arrfC8W5lMpjLlKfHf//4XT09PZsyYgclkYsCAARVe47XXXlMS880mTpxIQkIC8+fP5+mnn6Z79+5lzomLiyMuLg6AVyosqRBCVD82N2glNzcXV1dXnJycOH/+PMePH6ewsJDExET0ej2A0qTZunVrfvnlF+W12dnZNG/enKNHj5KVlYXRaOSPP/5QalzmotPpcHNzIzExEYBt27YRGBiIq6srOp2OpKQkALZv317qvry8vNBqtWzbtg2j0QiAi4sLeXn/Wwg4JCSETZs2YTAYALhw4QL5+fmkp6fj6elJeHg4Dz/8MKdOnSq3bOHh4UydOpWpU6ea9Z6FEOJO7DSaSv1UxoEDB3j33XcZNmwY69atK/N8bm4uU6dOJSoqig8++IDNmzff8Zo2V8MLCQnh119/ZcSIEdSvX5/mzZvj4eHBm2++ycyZMzGZTHh4eBATE8Ozzz7LsmXLiIyMRKvV0q9fPzp27Ej//v2ZOHEiUDxopX379mYv59ChQ5VBKz4+PkRERADF/Y8lg1batGmjnP/YY48xa9Ysdu3aRatWrXByKl513s/PDzs7u1KDVvR6PaNGjQLAw8ODqKgojhw5wvr167Gzs8PZ2Zl33nnH7PckhBC2wGg0snz5csaNG4e3t7cylsPX11c555dffsHX15fo6GiysrJ49913eeihh5QWufJoTLdrAxT3tcTXnrZKXKtsDzT5CYvHBPDp/6ZV4hq8rLMdkslK2wPlGy3fOXSgxyMWjwlW3B5If/Ser/F93VaVOq/vxSO3fT45OZnvvvuOsWPHFl/3/4+679u37/9iff89ly9f5vXXXyc9PZ1JkyYxd+5ctNqKGy5trklTCCHE/clcTZqZmZl4e3srj729vcnMzCx1zj/+8Q/Onz/PW2+9RWRkJK+99tptkx3YYJOmEEKIqu3mwXVQPPYgPDxceVxew+OtAwIPHjxIo0aN+PDDD7l06RKTJk0iICAAnU5XYVxJeEIIIcxCW8kBKbcmuFt5e3tz+fJl5fHly5fx8vIqdc7mzZvp06cPGo2GunXr4uPjw4ULF2jWrFnF5atU6YQQQggLadq0KWlpaej1egwGA/Hx8cp86BK1atXir7/+AuDq1atcuHBBmatdEanhCSGEMAuNmWae29nZMWjQIGJjYzEajfTs2ZOGDRuyadMmAHr16sWzzz7LokWLlAX6BwwYoCw4UhFJeEIIIcxCa8alVtq2bUvbtm1LHevVq5fye82aNRk3btxdXVMSnhBCCLPQ2Nl2L5ltl04IIYQwE6nhVWGNn3vcKnHHt7D8pOiJY36yeEyAuUMnWSUudg53PkcFuUXWWR1YZ2/5uA27NLJ4TIDmT3laJa45mKsPTy1SwxNCCFEtSA1PCCGEWZhz0IoaJOEJIYQwC80dlvayNtsunRBCCGEmUsMTQghhFrbepCk1PCGEENWC1PCEEEKYhUxLsCF6vV5Zd60ytmzZUmoPpqFDh5KVlaVG0YQQQqisWiW8u7VlyxauXLlyV68pKipSqTRCCGHbNHbaSv1YS7Vr0iwqKmLBggWkpqZSr1493nnnHdavX8+ff/5JQUEBLVq04M0332T37t2cPHmSefPm4ejoSGxsLAC//PILf/75JwaDgQ8++IAGDRrw7bffcuXKFdLT03F3d6d///4sXryYrKwsPDw8iIiIoFatWqSnp5d7fOHChTg6OnLhwgXS09OJiIhgy5YtHD9+nGbNmjF06FCMRiOLFy8mJSUFgJ49e/Lkk09a860UQohSbH3QSrVLeBcuXGDIkCEEBASwaNEiNm7cyD/+8Q/69esHwPz58/nzzz/p1KkTv/zyCwMHDqRp06bK693d3Zk2bRobN25k/fr1DBkyBICUlBQmTZqEo6MjU6dOpVu3bvTo0YPff/+dFStWMHLkSJYvX17ucYCcnBw+/PBD9u3bx7Rp05g0aRK+vr6MHj2a1NRUjEYjmZmZzJo1SzlfCCFsiUZr2wmv2jVpent7ExAQAEC3bt1ISkri8OHDjBkzhsjISA4fPsy5c+cqfH3Hjh0BaNKkCenp6crx0NBQHB0dATh+/Dhdu3ZVYhw7duy2xwHatWuHRqPBz88PT09P/Pz80Gq1NGzYEL1ej4+PD3q9nhUrVnDgwAFcXFzKLV9cXBzR0dFER0f/3bdICCGqpGpXw9PcsgW9RqNh+fLlTJkyhVq1avHtt99SUFBQ4evt7YvfMq1WW6q/zsnJ6Z7K5eDgoJSn5PeSx0ajETc3N2bMmMGBAwf45ZdfiI+PJyIiosx1wsPDCQ8PByB/w+J7KpMQQtwNrWwPZFsyMjJITk4GYMeOHUptz8PDg/z8fHbv3q2c6+zsTF5e3l3HaNGiBfHx8WViVHS8MrKysjAajXTq1IkXXniBU6dO3XW5hBBCTRo7TaV+rKXa1fAaNGjAli1bWLJkCXXr1qVXr17k5OQQGRmJj49Pqf66Hj16sHTp0lKDVirjtddeY/Hixfz444/K4JTbHa+MzMxMFi9ejNFoBKB///6Vfq0QQgjQmEwmk7ULIdRhrSbNKwcPWzym1fbDu5ZglbjW2g8vx2hnlbjW2A/vfPRrFo8J4FzTOvvhNRj/2T1fY+fD3St1Xufft95zrL+j2jVpCiGEqJ6qXZOmEEIIdcigFSGEEMIGSA1PCCGEWdj64tGS8IQQQpiFVlZaEUIIIaxPanhCCCHMwpo7IVSGzMOrwopSD1gnsMbyzRoGr4YWjwnwrmdbq8Sdl7nLKnGNTu5WiWsNdtf11i6CRTnUaXzP1/jzqUcrdV679b/ec6y/Q2p4QgghzEK2BxJCCFEtyChNIYQQ1YKt9+HZdumEEEIIM5EanhBCCLOw9T48qeEJIYSoFqSGJ4QQwiw0Zlxp5cCBA6xcuRKj0cgjjzxCnz59ypxz5MgRVq1aRVFREe7u7kycOPG216yyCe/bb7/F2dmZp59+2qzXHTduHB9//LHZrldYWMjUqVPJysqib9++hIWFme3aQghhSebaLcFoNLJ8+XLGjRuHt7c3o0ePJjQ0FF9fX+WcnJwcli1bxtixY6lVqxbXrl2743WrbMJTizmTHcCpU6cwGAzMmDHDrNcVQoj71YkTJ6hbty516tQBICwsjL1795ZKeDt27KBjx47UqlULAE/PO2+cW2US3tatW1m/fj0ajQY/Pz/ljQK4ePEiy5cvJysrCycnJ9566y0aNGjAvn37WLt2LQaDAXd3d4YNG0aNGjX49ttvycjIQK/Xk5GRQe/evenduzcAAwcO5IsvvuDIkSN89913uLu7c/bsWZo0acKwYcPQaDQkJCTw73//G3d3dxo3boxeryc6OrpMma9du8b8+fPJysoiKiqKyMhIcnNz+fzzz8nPz8fDw4OIiAi8vLwqvAchhLAVlZ2HFxcXR1xcnPI4PDyc8PBw5XFmZibe3t7KY29vb44fP17qGmlpaRgMBiZMmEBeXh69e/eme/fb77heJRLe2bNnWbt2LZMmTcLDw4Ps7Gw2bNigPL9kyRLeeOMN6tWrx/Hjx1m2bBnjx48nICCA2NhYNBoNv/32Gz/++CMvv/wyABcuXGD8+PHk5eXx3nvv0atXL+ztS79dp06dYvbs2Xh5eRETE8OxY8do0qQJS5cuZeLEifj4+PDJJ59UWG5PT0+GDBnC+vXriY6OVv7xRo4ciYeHB/Hx8Xz99ddERERUeA9CCHG/uTXB3aq8FS81tyxZWFRUxKlTp4iJiaGgoIBx48bRvHlz6tevX+F1q0TCO3z4MJ06dcLDwwMANzc35bn8/HyOHTvG7NmzlWMGgwEo/hbxySefcOXKFQwGAz4+Pso5bdu2xcHBAQcHBzw9Pbl27VqpbxwAzZo1U475+/uj1+txdnbGx8dHuVbXrl1LfZO5nQsXLnD27FkmTZoEFLdje3l53fYebnXzN6fYIS9UKq4QQpiDuSaee3t7c/nyZeXx5cuX8fLyKnOOu7s7zs7OODs7ExgYyOnTp6t+wjOZTGWyfwmj0Yirq2u5fWQrVqzgySefJDQ0VGmiLHFzbU6r1VJUVFTm9Q4ODqXOMRqN5X4zuRu+vr7ExsaWOpabm1vhPdzq5m9OVls8WghRLWm05kl4TZs2JS0tDb1eT82aNYmPj2f48OGlzgkNDWXFihUUFRVhMBg4ceIETzzxxG2vWyXm4T3wwAPs3LmT69evA5Cdna08p9Pp8PHxYefOnUBxckxNTQWKE0nNmjWB4j5Ac2jQoAF6vR69vnil9fj4+Eq/tn79+mRlZZGcnAwU1+LOnj1723sQQoiqxs7OjkGDBhEbG8v7779P586dadiwIZs2bWLTpk1AceUgJCSEESNGMGbMGB5++GH8/Pxue90qUcNr2LAhffv2ZcKECWi1Wvz9/aldu7by/PDhw1m6dKkyQKVLly74+/vz3HPPMXv2bGrWrEnz5s2VJHUvHB0def3115k8eTLu7u40a9as0q+1t7cnMjKSlStXkpubS1FREb1796Zhw4YV3oMQQtgKc01LgOJupbZtS2+/1atXr1KPn3766buaeib74akgPz8fZ2dnTCYTy5cvp27dujz55JMWL4fsh6c+2Q+v6pL98O7e8bf7Veq85ovX3HOsv6NK1PBsTVxcHFu3bsVgMNC4cWMefbRymyIKIcT9zNZ3S5CEp4Inn3yyTI1u8+bNpaZKALRs2ZLBgwdbsmhCCKEaSXgCgJ49e9KzZ09rF0MIIVRjrlGaarHt0gkhhBBmIjU8IYQQZqGxs7N2EW5LanhCCCGqBanhCSGEMAsZtCKsprBOS6vE1RTmWT6oncOdz1GBtebDDa/ZySpx51/cbJW4aC3fVGZ0rWnxmMWByy5jeL/QyqAVIYQQwvqkhieEEMIsbL1J07ZLJ4QQQpiJ1PCEEEKYhdTwhBBCCBsgNTwhhBBmYetLi0nCE0IIYRZVvklTr9cTGRl5T9c4cuQIx44du9eiVCk5OTls3LjR2sUQQohK09hpK/VjLTaRju824RUV3b8TM292u/vIyclRtrIXQghx78zSpGk0Gvn0009JTk6mZs2ajBw5kgsXLrB06VJu3LhBnTp1ePvtt3Fzc2PDhg38+uuv2NnZ4evrS//+/fn111/RarVs376dQYMGERgYWCbGwoULcXNzIzU1lcaNG9OrVy+WL19OVlYWTk5OvPXWWzRo0ICdO3eyZs0atFotOp2OiRMnsmXLFvbs2UNhYSF6vZ6uXbvy3HPPAfDf//6XzZuLV494+OGHeeKJJ9Dr9UyZMoWWLVuWuidHR8cy5X/vvffIz89nxYoVnD17lqKiIp577jnat29f7nu1ZcsWEhISKCgo4MaNG4waNYrp06eTk5ODwWDghRdeoH379nz11VdcvHiRqKgoWrduzcCBA/nxxx/ZuXMnhYWFdOjQgeeff94c/3xCCGEWWhtv0jRLwktLS+Pdd99lyJAhzJ49m127dvHjjz8yaNAggoKC+Oabb1izZg2vvvoqP/zwAwsWLMDBwYGcnBxcXV159NFHcXZ25umnn75jnJiYGLRaLR999BFvvPEG9erV4/jx4yxbtozx48ezZs0axo4dS82aNcnJyVFee+LECWbNmoWTkxOjR4+mbdu2aDQaNm/eTGxsLABjxowhKCgIV1fXcu+pW7duZcoPsHbtWoKDg4mIiCAnJ4cxY8bwwAMP4OzsXO59JCcnM3PmTNzc3CgqKmLEiBHodDqysrIYO3YsoaGh9O/fn7NnzzJjxgwADh48SFpaGpMnT8ZkMjF9+nSOHj1KUFCQOf4JhRDinlWLQSs+Pj74+/sD0KRJEy5dukROTo7yYdy9e3fmzJkDgJ+fH/PmzaN9+/Z06NDhruJ06tQJrVZLfn4+x44dY/bs2cpzBoMBKN5FfOHChXTu3JmOHTsqz7du3Rp3d3cAOnToQFJSEhqNhg4dOiiJqUOHDiQmJhIaGlrmntLT0yss/6FDh/jzzz9Zv349AAUFBWRkZODr61vufbRu3Ro3NzcATCYTX3/9NYmJiWg0GjIzM7l27VqZ1xw8eJBDhw4xcuRIAPLz87l48WKZhBcXF0dcXBwAE8aPr+xbK4QQVZ5ZEp6Dw/8W7tVqtaVqVrcaPXo0R48eZd++ffznP/8plbTupCQxGY1GXF1dldrPzd58802OHz9OQkICI0eOZPr06eVeS6PRYDKZKox16z0VFBRUWH6TyURkZCT169ev1H04OTkpv+/YsYOsrCymTp2Kvb09Q4cOVWLdqk+fPjz66KO3vXZ4eDjh4eEA5OdZYRFnIUS1VeVHaZZHp9Ph5uZGYmIiANu2bSMwMBCj0UhGRgbBwcG89NJL5Obmkp+fj4uLC/n5+Xd1fR8fH3bu3AkU15JSU1MBuHjxIs2bN+df//oX7u7uXL58GYC//vqL7OxsCgoK2Lt3Ly1btiQwMJC9e/dy48YN8vPz2bt3b7n9hyUqKn+bNm34+eeflQR66tSpSt9Lbm4unp6e2Nvbc/jwYaUm6eLiQt5NCatNmzZs3rxZeZ8qqgkKIYQon2rz8IYOHaoMWvHx8SEiIgKj0cj8+fPJzc0F4IknnsDV1ZV27doxe/Zs9u7dW+GglVsNHz6cpUuXsnbtWgwGA126dMHf35/Vq1eTlpYGQHBwMI0aNSI1NZWWLVsyf/58Ll68SNeuXWnatCkAPXr0YMyYMUDxoJXGjRuj1+vLjVlR+fv168eqVasYMWIEALVr1yY6OrpS71PXrl2ZNm0a0dHR+Pv706BBAwDc3d1p2bIlkZGRhISEMHDgQM6fP8/YsWOB4trusGHD8PT0rFQcIYRQm63X8DSm27XrVRFbtmzh5MmTvP7669YuikVZq0mzOu2HpymouPleTbIfnvqMLlb6Mmml/fCcPO59/7+MeZWbk11r+Kx7jvV3yEorQgghzKJajNI0p7Vr1yp9cyU6d+7MM88887ev2aNHD3r06HGPJbs7Bw4c4Msvvyx1zMfHh6ioKIuWQwghLEVrZ/ma+N2wuYT3zDPP3FNysxUhISGEhIRYuxhCCCH+P5tLeEIIIe5Ptj5oxbZLJ4QQQpiJ1PCEEEKYha3X8CThCSGEMAsZpSmsptBKMywd7J3ufJKZ5RZpLB4TQOfkbpW41poPN6xuT6vEnZOXZPGYeYVGi8cE0Dk4WiWuOZizhnfgwAFWrlyJ0WjkkUceoU+fPuWed+LECcaOHcv7779Pp063n59q2+lYCCFEtWM0Glm+fDljxoxhzpw5/PHHH5w7d67c87788stKj4iXhCeEEMIszLXj+YkTJ6hbty516tTB3t6esLAw9u7dW+a8n3/+mY4dO+Lh4VGp8kmTphBCCIu6eRszKL3LCxQvju/t7a089vb25vjx46WukZmZyZ49exg/fjyLFy+uVFxJeEIIIcyisoNWbk1wtypviWeNpnQ//apVqxgwYADauxgoIwlPCCGEWWjMtMi3t7e3srUbwOXLl/Hy8ip1zsmTJ5k7dy4AWVlZ7N+/H61We9uNxSXhCSGEsClNmzYlLS0NvV5PzZo1iY+PZ/jw4aXOWbhwYanf27Vrd9tkB5LwhBBCmIuZanh2dnYMGjSI2NhYjEYjPXv2pGHDhmzatAmAXr16/a3rSsITQghhc9q2bUvbtm1LHaso0Q0dOrRS17TZaQkTJkzg5MmTFov3xRdf8MEHH/DFF1+ocv1vvvmGQ4cOqXJtIYSwCVpt5X6spErW8IqKirC7y32Z4uLiWLZsGQ4Od945++9c/1//+tddnS+EEPcbTVXfD0+v1zNlyhRatmxJcnIyNWvWZOTIkUyePJmBAwfStGlTsrKyGD16NAsXLmTLli3s2bMHo9HI2bNneeqppzAYDGzbtg0HBwdGjx6Nm5sbANu3b2flypXk5eXx9ttv06xZM/Lz81mxYgVnz56lqKiI5557jvbt27NlyxYSEhIoKCjgxo0bjB8/vkxZTSYTq1ev5sCBAwA8++yzhIWFMW3aNPLz8xkzZgx9+/YlLCyszGsXLlyIm5sbqampNG7cmF69erF8+XKysrJwcnLirbfewsvLi6ioKObPn49Wq+XGjRu89957zJ8/n88++4x27drRqVMnUlJS+Pzzz8nPz8fDw4OIiAi0Wi2TJ09m2rRppKamMnLkSBYtWkStWrUYNmwYM2fOJCEhgTVr1qDVatHpdEycOPFe//mEEKLaMEsNLy0tjXfffZchQ4Ywe/Zsdu3addvzz549y/Tp0yksLGTYsGEMGDCA6dOns2rVKrZu3coTTzwBQH5+Ph9//DFHjx5l8eLFzJo1i7Vr1xIcHExERAQ5OTmMGTOGBx54AIDk5GRmzpypJMxb7d69m9TUVGbMmKEk4cDAQEaNGsXAgQOZMWPGHe8zJiYGrVbLRx99xBtvvEG9evU4fvw4y5YtY/z48TRq1IijR48SHBzMn3/+SZs2bbC3/9/bbDAYWLFiBSNHjsTDw4P4+Hi+/vprIiIiKCwsJDc3l6SkJJo2bUpiYiIBAQF4eHjg5OTEmjVrGDt2LDVr1iQnJ6fcMt48oXPsh2WTvhBCqMZMg1bUYpaE5+Pjg7+/PwBNmjQhPT39tue3atUKFxcXXFxc0Ol0hIaGAuDn58eZM2eU87p27QpAUFAQubm55OTkcOjQIf7880/Wr18PQEFBARkZGQC0bt26wmQHkJSURJcuXdBqtdSoUYOgoCBOnjypxL+TTp06odVqyc/P59ixY8yePVt5zmAwABAWFkZ8fDzBwcH88ccfPPbYY6WuceHCBc6ePcukSZOA4rXgSuaXtGjRgmPHjnH06FH69u3LgQMHMJlMBAYGAtCyZUsWLlxI586d6dixY7llvHlC5/XcvErdlxBCmEV1SHg393tptVoKCgqws7NTZssXFhbe9vySGpBWq6WoqKjCOBqNBpPJRGRkJPXr1y/13IkTJ3ByUneVfmdnZ6A4Sbm6upZbIwwNDeWrr74iOzublJQUgoODy5zj6+tLbGxsmeOBgYEkJiaSkZFBaGgoP/zwAwDt2rUD4M033+T48eMkJCQwcuRIpk+fjru7dVbrF0KI+41qw2Vq165NSkoKwB2bOCsSHx8PFNfMdDodOp2ONm3a8PPPPyvJ9NSpU5W+XmBgIDt37sRoNJKVlUViYiLNmjW763LpdDp8fHzYuXMnUNw3mJqaChQnxWbNmrFy5UratWtXZtmb+vXrk5WVRXJyMlBcMzx79qxSvu3bt1O3bl20Wi1ubm7s37+fli1bAnDx4kWaN2/Ov/71L9zd3UutRCCEENam0Wor9WMtqo3SfOqpp5gzZw7btm0rt5ZTGW5ubowbN04ZtALQr18/Vq1axYgRI4DixBodHV2p63Xo0IHk5GSioqIAeOmll6hRo8bfKtvw4cNZunQpa9euxWAw0KVLF6VZNywsjNmzZzNhwoQyr7O3tycyMpKVK1eSm5tLUVERvXv3pmHDhvj4+ADFTbhQ3IR5+fJlpZl29erVpKWlARAcHEyjRo3+VtmFEEIVNt6kqTGVt0qnqBKs1YfngOU3zrTaBrB21vnfx+663ipxZQNY9ensrfO37Ozics/XyP9lSeVi/ePNe471d1TJeXhCCCGswMZreFUy4Z05c4b58+eXOubg4MDkyZPv+Nq1a9cqfXMlOnfuzDPPPGPWMgohhLAsadKswqRJU33SpGkZ0qSpPnM0ad6IW1mp85zCX7vnWH9HlazhCSGEsAIbb9K02cWjhRBCCHOSGp4QQgjzkBqeEEIIYX1Sw6vCnPKvWCVurmMNi8e0Vkc/1hrzZaVv0tYYPALwvkuAxWNa615zrTRYxtkM17D17YGkhieEEKJakBqeEEII87DiOpmVIQlPCCGEedj4oBVJeEIIIcxCY+MJz7brn0IIIYSZSA1PCCGEeUgfnhBCiOqgWjdpZmZmMmvWLDVD3Jd++uknbty4oTyeMmUKOTk5ViyREEJUfXeV8EwmE0Zj5SdF1qxZk8jIyLsulKUVFRWZ9Xp3ep82bNhQKuGNHj0aV1dXs5ZBCCEsTmtXuR8ruWOTpl6vZ8qUKbRq1Yrk5GTat29PQkIChYWFdOjQgeeff57Vq1dTu3ZtHnvsMQC+/fZbXFxc6NixI9OmTWPWrFkYjUa+/PJLjh49SmFhIY899hiPPvooy5YtIyQkhNDQUGbMmIGrqysRERH8/vvv6PV6XnjhhTJlys/PZ86cOWRmZmI0Gnn22WcJCwvjxIkTrFq1ihs3bmBvb8+HH36InZ0dy5Yt4+TJk9jZ2fHyyy8THBzMli1bSEhIoKCggBs3bjBq1ChWrFjB2bNnKSoq4rnnnqN9+/acPXuWRYsWYTAYMJlMREZGUq9evTu+T1FRUaxbt46TJ09SUFBAp06deP7559mwYQOZmZlMnDgRDw8Pxo8fz9ChQ5kyZQr5+flMmTKFli1bkpycTM2aNRk5ciSOjo6cOHGCTz/9FCcnJwICAjhw4IDUnoUQ4i5Uqg/vwoULvP3227Rv355du3YxefJkTCYT06dP5+jRo3Tp0oVVq1YpCW/nzp2MHTu2VC3n999/R6fTMWXKFAoLC4mJiaFNmzYEBgaSmJhIaGgomZmZXL16FYCkpCTCwsLKLc+BAwfw8vJi9OjRAOTm5mIwGPjkk0947733aNasGbm5uTg6OrJhwwYAZs2axfnz5/n444+ZO3cuAMnJycycORM3Nze++uorgoODiYiIICcnhzFjxvDAAw/w66+/0rt3bx566CEMBsNta24l79PgwYMBePHFF3Fzc8NoNPLRRx9x+vRpevfuzU8//cT48ePx8PAoc420tDTeffddhgwZwuzZs9m1axfdunVj8eLFvPnmm7Rs2ZIvv/yyMv9sQghhWVVh0EqtWrVo0aIF//73vzl06BAjR44EimtaFy9e5OGHHyYrK4vMzEyysrJwc3OjVq1a6PX/26Ty4MGDnDlzhl27dgHFSSotLY3AwEA2bNjAuXPn8PX1JScnhytXrpCcnMxrr5W/SaCfnx9ffPEFq1evpl27dgQGBnLmzBm8vLxo1qwZADqdDihOnI8//jgADRo0oHbt2qSlpQHQunVr3NzcADh06BB//vkn69evB6CgoICMjAxatGjB2rVruXz5Mh07diy3dnfr+1QiPj6e3377jaKiIq5cucK5c+do1KjRbd9rHx8f/P39AWjSpAnp6enk5OSQl5dHy5YtAejatSsJCQnlvj4uLo64uDgAPho5/LaxhBCiOqlUwnN2/t+yon369OHRRx8tc07Hjh3ZtWsXV69eLbdmZjKZeO211wgJCSnzXHZ2NgcOHCAwMJDs7Gx27tyJs7MzLhXswFu/fn2mTZtGQkICX331FW3atKF9+/blnnu7Dd2dnJxKnRcZGUn9+vVLnePr60uzZs1ISEggNjaWIUOGEBwcXO71bn6f9Ho969evZ8qUKbi5ubFw4UIKCwsrLEsJBwcH5XetVktBQcFt7+FW4eHhhIeHA1CQeaHSrxNCiHtVpRaPbtOmDZs3byY/Px8oHoV57do1ALp06UJ8fDy7d++mU6dOZV4bEhLCpk2bMBgMQHHzX8l1WrRowU8//URQUBCBgYGsX7+egICKV0fPzMzE0dGRbt268dRTT5GSkkKDBg24cuUKJ06cACAvL4+ioiKCgoLYvn27EjMjI6NMUiu5t59//llJLqdOnQLg0qVL1KlTh969exMaGsrp06cr9V7l5ubi7OyMTqfj6tWrHDhwQHnO2dlZuffKcHNzw8XFheTkZAD++OOPSr9WCCEs5n4ftHKzNm3acP78ecaOHQsUf3APGzYMT09PGjZsSF5eHjVr1sTLy6vMax9++GH0ej2jRo0CwMPDg6ioKAACAwM5dOgQdevWpVatWmRnZxMYGFhhOc6cOcPq1avRaDTY29szePBg7O3tee+991i5ciUFBQU4OjoSExNDr169WLp0KZGRkdjZ2REREVGqFlWiX79+rFq1ihEjRgBQu3ZtoqOjiY+PZ/v27djZ2VGjRg369etXqffK398ff39/IiMj8fHxUZojobgWNnnyZLy8vBg/fnylrjdkyBA+++wznJycaNWqldJkK4QQonI0prtpLxNWk5+frzSZrlu3jitXrlTYx1nCWk2a1tgPz9nOWvvhWWfvMrucy1aJa3D3sUrc6rQfXp6V9sOr6X7vX6KLkrZX6jy7gIfueM6BAwdYuXIlRqORRx55hD59+pR6fvv27fzwww9AceVr8ODByviHishKK/eJhIQEvv/+e4xGI7Vq1WLo0KHWLpIQQqjCaDSyfPlyxo0bh7e3N6NHjyY0NBRfX1/lHB8fHyZMmICbmxv79+9nyZIlTJ48+bbXtemEd/36dT766KMyxz/88EPc3d2tUCLrlSksLKzCaRpCCGELNGaalnDixAnq1q1LnTp1gOLPv71795ZKeDd3EzVv3pzLl+/c6mHTCc/d3Z0ZM2ZYuxil2GKZhBDCJphpQEpmZibe3t7KY29vb44fP17h+b///jsPPvjgHa9r0wlPCCHEfURTuRrezfOFofR0Kih/OplGU34//eHDh9m8eXO5LW+3koQnhBDCom5NcLfy9vYu1UR5+fLlckf/nz59ms8++4zRo0dXqkvJtteBEUIIcf/QaCv3cwdNmzYlLS0NvV6PwWAgPj6e0NDQUudkZGQwc+ZM3nnnnXLnVpdHanhCCCFsip2dHYMGDSI2Nhaj0UjPnj1p2LAhmzZtAqBXr16sWbOG7Oxsli1bprxm6tSpt72uzMOrws5PfMsqcY+vP2TxmA273H6NUrX4jZlilbhG15pWiZtjKrtogyW4OFi+Mcoac/8ABnZpaJW4XXZUbg7d7RSdKn+N31vZNW57z7H+DqnhCSGEMI9KDlqxFtsunRBCCGEmUsMTQghhHhVMHbAVUsMTQghRLUgNTwghhHlUhR3PhRBCiDsxyaAV26XX64mMjLT4a4UQQlie1PDMrKioCDsb3+ZeCCFUYeM1vGqf8IqKiliwYAGpqanUq1ePd955h/Pnz/P555+Tn5+Ph4cHEREReHl5kZKSwuLFi3F0dCQg4H+TUrds2UJCQgIFBQXcuHGDyMhIFi1ahF6vx8nJiTfffJNGjRqRnZ1d7vFvv/0WvV7P1atXSUtL4+WXX+b48ePs37+fmjVrMmrUKOzt7fnyyy/Zt28fdnZ2tG7dmpdfftmK75wQQtzCxhOebZfOAi5cuEB4eDgzZ87ExcWFjRs3smLFCiIjI5k2bRo9e/bk66+/BmDRokW89tprxMbGlrlOcnIy77zzDuPHj+fbb7+lcePGzJw5kxdffJEFCxYAVHgc4NKlS0RHRxMVFcX8+fNp1aoVs2bNwtHRkYSEBLKzs9mzZw+zZ89m5syZPPvss5Z5g4QQooqo9gnP29tbqa1169aNgwcPcvbsWSZNmkRUVBT/+c9/yMzMJDc3l5ycHIKCgpRzb9a6dWvc3NwASEpKUp4PDg4mOzub3NzcCo8DPPjgg9jb2+Pn54fRaCQkJAQAPz8/0tPTcXFxwdHRkU8//ZTdu3fj5OSk+nsjhBB3xUyLR6ul2jdp3rrHkrOzM76+vmVqcTk5ORXuxwSUSkAVLU96u2VL7e2L/ym0Wi12dnZKLI1Go/QLTp48mb/++ov4+Hh++eUXxo8fX+Y6N+8zNcylwnBCCGF2MkrTxmVkZJCcnAzAjh07aN68OVlZWcoxg8HA2bNncXV1RafTkZSUBMD27RUvtBoYGKg8f+TIEdzd3dHpdBUer4z8/Hxyc3Np27Ytr776KqmpqeWeFx4eztSpU++4argQQlQ31b6G16BBA7Zs2cKSJUuoW7cujz/+OCEhIaxcuZLc3FyKioro3bs3DRs2JCIiQhm00qZNmwqv+fzzz7No0SJGjBiBk5MTQ4cOve3xysjLy2P69OkUFhZiMpl45ZVX7vnehRDCrGy8hifbA1Vhsj2Q+mR7IMuQ7YHUZ47tgQovnarUeQ51Gt9zrL+j2tfwhBBCmImNLx4tCU8IIYR52HiTpm2XTgghhDATqeEJIYQwC5mWIIQQQtgAqeEJIYQwDxvfD8+2SyeEEEKYidTwhBBCmIfWtlOKbZdO3BNHj8otW2Zul85cs3jM5k95WjymVRmLrBJW5+Bolbi5hUaLx7TWBPAv/jhrlbhdrBLVsiThCSGEMA8ZpSmEEEJYn9TwhBBCmIXMwxNCCCFsgNTwhBBCmIeN1/Ak4QkhhDAPG98twbbTsRBCCGEmkvAsQK/XExkZafHXCiGERWm0lfuxEkl4QgghqgXpw7OQoqIiFixYQGpqKvXq1eOdd97h/PnzfP755+Tn5+Ph4UFERAReXl6kpKSwePFiHB0dCQgIUK5x9uxZFi1ahMFgwGQyERkZSb169ax4V0II8T/mnJZw4MABVq5cidFo5JFHHqFPnz6lY5lMrFy5kv379+Pk5ERERARNmjS57TUl4VnIhQsXGDJkCAEBASxatIiNGzeyZ88eRo4ciYeHB/Hx8Xz99ddERESwaNEiBg0aRFBQEF988YVyjV9//ZXevXvz0EMPYTAYMBotv9ySEEJUyEwJz2g0snz5csaNG4e3tzejR48mNDQUX19f5Zz9+/dz8eJF5s2bx/Hjx1m2bBmTJ0++7XUl4VmIt7e3Ulvr1q0b33//PWfPnmXSpElA8T+wl5cXubm55OTkEBQUpJx74MABAFq0aMHatWu5fPkyHTt2LLd2FxcXR1xcHACRdSxwY0IIYWYnTpygbt261KlT/CEWFhbG3r17SyW8ffv20a1bNzQaDS1atCAnJ4crV67g5eVV4XUl4VmI5pbhus7Ozvj6+hIbG1vqeE5OTplzS3Tt2pVmzZqRkJBAbGwsQ4YMITg4uNQ54eHhhIeHA5A+530z3oEQQtyeqZLTEm7+Yg6lP7cAMjMz8fb2Vh57e3tz/PjxUtfIzMykVq1apc7JzMyUhGcLMjIySE5OpkWLFuzYsYPmzZvz22+/KccMBgNpaWk0bNgQnU5HUlISAQEBbN++XbnGpUuXqFOnDr1790av13P69OkyCU8IIWzdrQnuViaTqcyxWysClTnnVpLwLKRBgwZs2bKFJUuWULduXR5//HFCQkJYuXIlubm5FBUV0bt3bxo2bEhERIQyaKVNmzbKNeLj49m+fTt2dnbUqFGDfv36WfGOhBCitHJy0N/i7e3N5cuXlceXL18uU3Pz9vYmIyPjtufcShKeBfj4+DBnzpwyx/39/Zk4cWKZ402aNGHGjBnK4+effx6Avn370rdvX/UKKoQQ98BopozXtGlT0tLS0Ov11KxZk/j4eIYPH17qnNDQUH755Re6dOnC8ePH0el0kvCEEEJYhpkqeNjZ2TFo0CBiY2MxGo307NmThg0bsmnTJgB69erFgw8+SEJCAsOHD8fR0ZGIiIg7XlcSnhBCCJvTtm1b2rZtW+pYr169lN81Gg2DBw++q2tKwhNCCGEWRnNV8VQiS4sJIYSoFqSGJ4QQwizKmypgSyThCSGEMAtp0hRCCCFsgUmIcvz666/VJm51utfqFrc63as1494vpIYnynXzOndVPW51utfqFrc63as1494vJOEJIYSoFiThCSGEqBYk4Yly3W4l86oWtzrda3WLW53u1Zpx7xcak8nGJ04IIYQQZiA1PCGEENWCJDwhhBDVgiQ8IYQQ1YIkPCGERWRnZ3P69GlrF0NUY7KWplCYTCa2b9+OXq+nX79+ZGRkcPXqVZo1a6ZazKSkJPz9/XF2dmbbtm2cOnWK3r17U7t2bdViAmzYsIEePXrg4uLCp59+SmpqKv3796dNmzaqxr1w4QLLli3j2rVrzJo1i9OnT7Nv3z6effZZVeNC8XudlpZGz549ycrKIj8/Hx8fH1VjTpgwgZEjR2I0GomKisLDw4OgoCBeeeUVVeNGRkai0WhKHdPpdDRp0oRnn30Wd3d3s8dcvXo1zzzzDI6OjkyePJnTp0/zyiuv0K1bN7PHutnFixfx9vbGwcGBI0eOcPr0abp3746rq6uqce9HUsMTimXLlpGcnMwff/wBgLOzM8uXL1c9ppOTE6mpqfz444/Url2bBQsWqBoTYPPmzeh0Og4ePEhWVhZvv/02X331lepxP/vsM/r374+dnR0AjRo1Ij4+XvW43333HevWrWPdunUAGAwG5s+fr3rc3NxcdDodu3fvpmfPnkybNo2//vpL9bgPPvggbdu2Zfjw4QwfPpx27doRGBhIjRo1WLhwoSoxDx48iE6nIyEhgZo1azJ37lzWr1+vSqybzZo1C61Wy8WLF/n000/R6/XMmzdP9bj3I0l4QnHixAkGDx6Mg4MDAG5ubhgMBlVj2tnZodFo2LdvH71796Z3797k5+erGhP+t43J/v376dmzJ/7+/hbZ2qSgoKBMjVmrVf9/wz179jBq1CicnJwAqFmzJnl5earHLSoq4sqVK+zcubPM7tVqOnbsGP3798fPzw8/Pz9efPFFjh49Sp8+fUhPT1clZlFREQAJCQl07doVNzc3VeLcSqvVYmdnx549e+jduzevvvoqV65csUjs+40kPKGws7PDaDQqTUFZWVllmoXMzdnZme+//55t27bRtm1bjEaj6kkWoEmTJnz88cfs37+fNm3akJeXp/q9Ari7u3Px4kUl1q5du/Dy8lI9rr29PRqNRolriS8VAP369SM2Npa6devSrFkzLl26RN26dVWPm5+fz/Hjx5XHJ06cUO65pHZtbu3ateO9994jJSWF4OBgsrKylC+ParKzs2PHjh1s3bqVdu3aAf9LvqI0mXguFNu3byc+Pp5Tp07RvXt3du3axQsvvEDnzp1Vi3n16lV27NhB06ZNCQwMJCMjgyNHjtC9e3fVYgIYjUZSU1OpU6cOrq6uXL9+nczMTBo1aqRq3EuXLrFkyRKOHTuGq6srPj4+DBs2TPW+tB9//JGLFy9y6NAh+vTpw+bNm+nSpQu9e/dWNW5BQQGOjo6qxijPiRMnWLx4sZLkXFxcGDJkCL6+viQkJBAWFqZK3OzsbHQ6HVqtlhs3bpCXl0eNGjVUiVXi3LlzbNq0iRYtWtC1a1f0ej3x8fH06dNH1bj3I0l4opTz588rfSzBwcH4+vqqHjM9PZ20tDRat27NjRs3MBqNuLi4qB739OnTpKenl/o23LFjR9XjQnENxGQyWeQ+Sxw6dIiDBw9iMpkICQmhdevWqsccNmwYNWrUICAggMDAQAICAtDpdKrHLZGbm4vJZLLIAA6j0UhCQgJ6vR6j0agcf/LJJ1WPLSpHEp5QJCcn07BhQ+VDOC8vj3PnztG8eXPVYsbFxfHbb7+RnZ3N/PnzSUtLY+nSpXz44YeqxQRYtGgRZ86cwdfXt1QfWkREhKpxr169ytdff82VK1cYM2YM586dIzk5mYcffljVuKtXr+all1664zE1ZGRkkJiYyLFjx9i/fz86nY4ZM2aoGrOwsJDdu3eXST79+vVTLeaUKVNwcHDAz8+vVPP4c889p0q88kai3mzmzJmqxL2fybQEoVi2bBnTpk1THjs5OZU5Zm4bN25kypQpjBkzBoB69epx7do11eKVOH78OHPmzFE9zq0WLVpEjx49+P7774Hi+50zZ47qCa+8kZEHDhxQPeFdvnyZpKQkEhMTOX36NL6+vgQEBKgaE2D69OnKNARL9KNB8b1aMslER0cDxf8PAcr0h+3btyuDk0RpkvCEwmQylfrGqNVqVe/8dnBwwN7+f3+GRUVFFhk80qJFC86dO2eRJtubXb9+nbCwMGV6gJ2dnaqjNDdt2sTGjRvR6/WMGDFCOZ6Xl0fLli1Vi1siIiKCpk2b0rdvX958803V45XIzMxk7NixFosHEBISwsGDB1Wfy1miZK7qsWPHmDRpknJ8wIABxMTEqFqbvV9JwhOKOnXqsGHDBnr16gUUf1iqPZgiKCiItWvXUlBQwKFDh9i4caMy0kxN3bt3Z+zYsdSoUQMHBwcl2av9Dd3JyYnr168rST05OVnVPq2uXbsSEhLCV199xYABA5TjLi4uFhk2P23aNJKSktixYwfr1q2jXr16BAUFqV6jbdGiBWfOnMHPz0/VOLfGnDlzJkajEXt7e+Vv6vPPP1c1bn5+PklJSUrN+dixYxYbhXu/kT48obh27RorV67k8OHDaDQagoODefXVV/H09FQtptFo5Pfff+fQoUOYTCbatGljkT29hg0bxiuvvFKmv0XtFV5SUlJYuXKl8mGclZXFBx98oPro0BLXrl2jsLBQeVyrVi3VY5Z8ICcmJrJ9+3Y0Go1qk79LvP/++1y8eBEfHx+LfaF55513iIqKKvM3pbaUlBQWL15Mbm4uULyizNtvv02TJk0sVob7hSQ8YVUbNmwoMzS+vGPmNnHiRMaPH69qjJvt3LmTzp07o9fr8fb25sKFC5hMJurXr1+qSVct+/bt49///jdXrlzBw8ODjIwMGjRowOzZs1WNGx0dTWFhIS1btlRGaqr9pQKocHK5mrFjY2MZPXq0RRYSKM/NCU+UT5o0BT/88AP//Oc/WbFiRbnPDxo0SLXYW7duLZPctmzZonrCa9CgAXPnzqVdu3alBjWoNS1h3bp1dO7cmVmzZjFt2jQaNmyoSpyKfPPNN8TGxjJp0iSmT5/O4cOHlSXk1DRmzBg8PDxUj1OiZCkzS073KFGjRg0mTpxISEhIqb8ptaclWGvk7/1IEp6gQYMGABZtAtmxYwc7duxAr9eXGgWan5+vysK+tyooKMDBwYFDhw6VOq5WwnNzc2PixIll7rfEqFGjVIlbws7ODnd3d0wmE0ajkeDgYL788ktVY0Jxk/XixYst9mE8b948oqOjGTVqFBqNptRycRqNRtV1Wn18fPDx8cFgMFhktaAS1hr5ez+ShCcIDQ3FaDRy9uxZBg4caJGYLVu2xMvLi+vXr/PUU08px52dnS3Sn6X2fLtbjR49mpSUFBYsWFDqfi3F1dWV/Px8AgMDmTdvHp6enqotsXUzS38YlwzVV7uPsDwl8+1Klqlzdna2SFxLj/y9n0nCE0DxFISUlBSLxatduza1a9cmNjbWYjFvdvnyZVasWMGxY8fQaDS0bNmS1157DW9vb1Xi2dvb06JFCz7++OPbNvGtWLFClSbkqKgoHB0deeWVV9i+fTu5ubkWGbZurQ/jjz76qMziBeUdM6czZ86wYMECsrOzgeJ1U9955x3Vm68tPfL3fiYJTygaN27MtGnT6Ny5c6mJq2out5WcnMzKlSs5d+4cBoMBo9GIs7Oz6kO5Fy1aRNeuXfnggw+A4sm6ixYtIiYmRtW4d+rPOnbsmNljGo1GZsyYodxbjx49zB6jIpb+MC4oKKCgoIDr168riQeK+/bU3kFgyZIlvPzyywQHBwNw5MgRPvvsMz7++GNV47788stMnz6dS5cuERMTo4z8FWVJwhOK7Oxs3N3dOXz4cKnjaia8FStW8N577zF79mymTp3K1q1buXjxomrxSmRlZdGzZ0/lcY8ePfjpp59Uj2sNWq0WR0dHZUCHJZV8GF+8eNEiH8ZxcXH89NNPXLlyhejoaKUPT6fT8dhjj6kWF+DGjRtKsgNo1aoVN27cUDUmgK+vL+3bt8fR0REXFxfat29PvXr1VI97P5KEJxSW7tcqUbduXYxGI1qtlp49ezJu3DjVY3p4eLBt2za6du0KFA+iscRgGWtxcHAgMjKS1q1bl6q9qzkCF4oHQk2YMMFi0zBK9lT8+eefefzxx1WLUx4fHx/WrFlTaokvS0zBWLBgATqdjr59+wLwxx9/sGDBAqnllUMSnlBcunSJlStXcvz4cTQaDS1atODVV19VdbUVJycnDAYD/v7+rF69mho1aljkW/Hbb7/N8uXLlabTli1b8vbbb6se907Umhbbtm1bi27AevjwYYKDg9m9e3ep42lpaYD6u1I8/vjjnDlzhnPnzpWaaK/mtlNvv/023377LbNmzcJkMhEYGGiRL5FpaWmlFuMODg4mKipK9bj3I5l4LhRjx47lscceo0uXLkDxN8VffvmFyZMnqxYzPT0dT09PDAYDP/30E7m5uTz22GMW2STUFm3ZssWifWwlZs6cWWqtzXv17bff8vzzz7No0aJyn1c7EXz33XccPXqUc+fO8eCDD7J//34CAgKIjIxUNS4U9xdqtVqLjdJcuHAhjz76KC1atACKF0bfunUrgwcPtkj8+4nU8ITCZDIpzTFQvPp6yUrsailp8nF0dFRtG5XyWHqUZompU6eWWXZKp9PRtGlTwsPDrZLsAPR6vVmv9/zzzwMwZMgQqwyR37VrFzNmzGDUqFFERERw9epVPv30U1VjljdKc+jQoaqt51myPVBRURHbtm1TlonLyMiw+KLo9wtJeELRqlUr1q1bR1hYGBqNhvj4eB588EHlf2BzLjZs7b28rDVKs06dOmRlZSm16Pj4eDw9Pblw4QKfffYZw4YNUzV+RdRa+3Ho0KGEhIQQFhZGcHCwxdaYdHR0RKvVotVqyc3NxdPT0+xJ/VbljdJcsmSJaqM0S+YcisqThCcU8fHxAPz666+ljm/evNnsq1RYey8va43STE1NZeLEicrj0NBQxo8fz8SJE6vkIIO5c+eyb98+Nm7cyKeffkrbtm3p0qWL6nviNW3alJycHB555BGio6NxdnamWbNmqsa09ChNSwyIqWok4QnFnVanOHToEK1btzZLLGvv5WWtUZpZWVlkZGSUan7KysoCsMgi0hVRqyvf0dGRsLAwwsLCyM7OZtWqVYwfP55vvvlGlXhQfC99+vTB1dWVXr16ERISQl5enuor+FhrlKaoPEl4otK+/PJLsyW8Etbay+vmUZolI1ItMUpz4MCBxMTEULduXUwmE3q9nsGDB5Ofn6/qCEIonpSdkZFB/fr1yzx381555nb06FHi4+PZv38/TZs25f3331ctFhQ3z86YMUNZs1TtPR1L3DxKE7DYKE1ReTJKU1TayJEjmT59ulmvaY29vIxGIwsWLGD48OGqxbidwsJCzp8/D0D9+vVxdHRUPea+ffv44osvMBgMLFy4kNTUVL755hvVF60eOnQo/v7+dO7cmdDQUIuNXFy2bBk9evRQvRmzhNFoJDY2VvU+YHFvpIYnKk2NAQdNmjRhxowZFt3LS6vVcv36dQwGg1WaEVNSUkhPT6eoqIjTp08D6s4Pg+Jh+lOmTGHChAkA+Pv7V7hnnDnNmDHDKus6HjlyhLi4OGrXro2Tk5PqG8BaczUbUXmS8IRV5ebm8t1335GYmAhAUFAQ/fr1U/1Do3bt2sTExNCuXbtStQ619y6bP38+ly5dwt/fv9RwfbUTnp2dnVU+iK9evcrMmTO5du0as2bN4vTp0+zbt49nn31W1bhjxoy57fPZ2dlmHXUM1lvNRlSeJDxRaWp0wC9atAg/Pz+lX2fbtm0sWrTIrJOgy+Pl5YWXlxcmk4m8vDxVY90sJSWF2bNnW2x4fomGDRuyY8cOjEYjaWlp/Pzzz8pEZTV99tlnDBw4kCVLlgDQqFEj5s2bp3rCu9Pf6qRJk8rdl/BeWHo1G3H3JOEJxa3LQEFxE6Ofnx+enp6qJKFLly6Vuu5zzz1nkWWRLDnJ/WYNGzbk6tWreHl5WTTuoEGDWLt2LQ4ODsydO5c2bdqonnSgeKDMrf1otrBXmxpDF6y1aICoPEl4QvH777+TnJxMq1atgOLRdc2bNyctLY1+/fqVWoXFXBwdHUuN0kxKSrLIII4LFy6wfv16pS+txPjx41WNe/36dT744AOaNWtWqv9Q7cEjTk5OvPjii7z44osYjUby8/Mt8j67u7tz8eJFpUa7a9cuiyf78pizhm3tRRRE5UnCEwqNRsOcOXOoUaMGUNz/smzZMiZPnsz48eNVSXhvvPEGCxcuJDc3F5PJhJubm0WGcs+ZM4dHH32URx55xKI1DmvVLOfOncsbb7yBVqslOjqa3NxcnnzySZ5++mlV477++ussWbKE8+fP89Zbb+Hj42O10bFqsfYiCqLyJOEJRXp6upLsADw9PUlLS8PNzQ07OztVYvr7+1t8lCYUN6v16tXLIrFuFhQUZPGYAOfOnUOn07F9+3YefPBBBgwYQHR0tKoJz2g0smnTJmJiYsjPz8dkMuHi4qJavLthziZNay+iICpPEp5QBAYGMnXqVDp16gQUNz8FBgaSn5+Pq6urKjFzcnLYunVrmaZFtUa2lawL2q5dOzZu3EiHDh1wcHBQnjf3yL0SMTExTJo0iZdffrlU81fJcHm1d3gvKirCYDCwd+9e/vGPf2Bvb6/6wBmtVktKSgqAxebflbh48SLe3t44ODhw5MgRTp8+Tffu3ZW/4w8//NDsMa21iIKoPJl4LhQmk4ndu3eTlJQEQEBAAB07dlT1g3HcuHE0b94cPz+/UnHUGgAwdOhQNBpNud/wzb1eqC3ZsGEDP/zwA/7+/kRHR5ORkcH8+fP56KOPVI3773//m7S0NDp37lyqeU/t/fCioqKYOnUq6enpxMbG0q5dO9LS0hg9erRqMa2xiIK4O1LDEwqNRkNAQIDy7b9Zs2aq1wIKCwt55ZVXVI1xs5L1QgsKCsoM2igoKLBIGYxGI1evXsVoNCrHStbWVEvJTuAlateurfoAHSiuUbu7u3P48OFSx9VOeFqtFjs7O/bs2UPv3r15/PHHGTlypKoxrbGIgrg7kvCEIj4+ntWrVyv9TCtWrGDgwIFKE6caHnroIeLi4mjXrp1FmhZLxMTElJmHVd4xc/v5559Zs2YNnp6eypcJNVcAKVFYWMju3bvR6/WlEq3a/Ut3GoD0/fff07dvX7PHtbOzY8eOHWzdulUZAXtzk7karl69ytdff82VK1cYM2YM586dIzk5mYcffljVuKLyJOEJxffff8+UKVPw9PQEilf2nzRpkqoJz97entWrV/P9998rx9RsWrx69SqZmZkUFBRw6tQppWkzLy9P1a1cSmzYsIFPPvnEIjsz3Gz69OnodDqaNGlS6ouFte3atUuVhBcREcGmTZvo27cvPj4+6PV6HnroIbPHudmiRYvo0aOH8rdcr1495syZIwnPhkjCEwqj0agkOyiuZd1cG1DDTz/9xLx58/Dw8FA1TokDBw6wdetWLl++zL///W/luLOzMy+++KLq8WvVqmWVpq7MzEzGjh1r8bh3otYQAl9fX1566SUyMjKA4h0T+vTpo0qsEtevXycsLIx169YBxbVMW5hkL/5HEp5QhISEEBsbW2o37gcffFDVmL6+vhadq9SjRw969OjBrl27VK25VsTHx4cJEybQtm3bUjUttdfwbNGiBWfOnMHPz0/VOHdLrT5ia+wO4eTkxPXr15V7Sk5Oln48GyMJTygGDhzIrl27OHbsGCaTifDwcDp06KBqTK1Wy8iRI2nVqlWplUfUXnC3U6dOJCQkcPbsWQoLC5Xjavdp1apVi1q1amEwGDAYDKrGullSUhJbtmzBx8cHBwcH1XcPqCy1anjl7Q6h1+tViVXi5ZdfZvr06Vy6dImYmBiysrKq5C729zNJeKKUTp06WbTm0759e9q3b2+xeCWWLFlCQUEBR44c4eGHH2bXrl0W2TvNWiut3Gn3AHNbvXo1L730Ejt37qRz584VnqfW31p5u0OoPeLY19eX9u3b4+joiIuLC+3bt6devXqqxhR3RxKeKDMZuoQlJkVba8Hd5ORkZs6cyYgRI3juued46qmnLFLbycrK4ocffuDcuXOlpkGoPUWgdu3apKamlppj6e/vr1q8/fv388ILL7Bu3brbJrxnnnlGlfjW2B1iwYIF6HQ6ZRDOH3/8wYIFC6SWZ0Mk4YlSgzcs7c8//+Sbb74hPT0do9FosZVHSubgOTk5kZmZibu7u+pNXgDz5s0jLCyMhIQE3njjDbZs2WKRATsbNmzgt99+U5qo58+fT3h4OI8//rgq8UJCQnj99de5ceMGr7zyivLvaql/35t3h5g3bx5t2rRRLbmWSEtLY8aMGcrj4OBgi+z8Ie6CSQgreuedd0ypqakmo9Fo0bjfffedKTs727Rr1y7TG2+8YXrjjTdMX3/9tepxR44caTKZTKbIyEjl2Icffqh63MjISFNeXp7yOC8vr1QZ1DJt2jTVY9yqqKjI9NFHH1k87oIFC0zHjh1THicnJ5uWLl1q8XKIikkNT1hVrVq1aNiwocU3RH366afZtGkTiYmJtGjRgoCAAIssJl0yMMfLy4uEhAS8vLzIzMxUPa7JZCo1RF6r1ao2YORmI0eO5OrVq5w8eRKA5s2bq16j1Wq1ODo6kpuba5FRkiXbAxUVFbFt2zZl1ZyMjAx8fX1Vjy8qT9bSFFZ14sQJvvnmG4KCgiw6TH/27Nm4uLgok5H/+OMPcnJyVO9v+fPPPwkMDCQjI4OVK1eSm5vLc889R2hoqKpx//vf/7J161ZlgNDevXvp0aMHTzzxhKpxd+7cyRdffKGs3pOYmKj66j1Q/O97/PhxWrduXWraixqjf9PT02/7/J12XxeWIzU8YVX/93//h7OzM4WFhRYdpm+t/pZ27doB4OfnZ5G1LEs8+eSTBAUFKYNWIiIiaNy4sepx165da/HVewDatm1L27ZtVY1RQhLa/UMSnrCq7Oxsxo0bZ/G4/v7+JCcnKyP3jh8/TsuWLVWPe+HCBZYtW8a1a9eYNWsWp0+fZt++fTz77LOqxy5R0W4RarDG6j1QPPrXYDBw4cIFAOrXr19qnqeonuQvQFjVAw88wMGDB2nTpo1F4lm7v+Wzzz5j4MCBLFmyBIBGjRoxb9481RPemjVr2Llzp7JLweLFi+nUqZPqca2xeg/AkSNHWLhwoVL7ysjIYOjQoVbbgFfYBkl4wqo2btzIjz/+iL29vbKruprD1qOjo1W5bmUVFBSUmeBuifUW//jjD6ZNm6ZMx+jTpw+jRo1SPeENHDhQ2WPRZKHVe6B4qs24ceOoX78+UFyznjt3ruq7YQjbJglPWJWl5wBau7/F3d2dixcvKqNSd+3ahZeXl+pxa9euTWFhoZLwCgsLqVOnjupxoXjvu4r2vxs7diyxsbFmj1lUVKQkOyhu0lR7eyBh+yThCavbt28fR48eBaBVq1bKwI6q6PXXX2fJkiWcP3+et956Cx8fH4YNG6Z6XHt7ez744ANat26NRqPh0KFDBAQEsGLFCkD9tUsrcvM6pubUpEkTFi9eTLdu3QDYvn277DwuZFqCsK4vv/ySkydP0rVrV6C46a1JkyYMGDDAyiVTV35+PiaTCRcXF4vE27Jly22ft9YSb6NGjVKlmbGwsJCNGzcqTamBgYE89thjNrUXoLA8qeEJq9q/fz/Tp09X+rF69OjByJEjq1zC++9//3vb59Wed3hzQsvOzuby5cs0atRI1ZjWVFRURO/evZX31Wg0qlabFPcP2Z1QWF1ubm65v1cleXl55OXlkZ+fr/x+8zG1TZgwgdzcXLKzs4mKimLRokWqr2dZGWo1ME2aNKnU4twFBQVMmjRJlVji/iE1PGFVffr0UfbDM5lMJCYm0r9/f2sXy+xKtgVasGABr732Gq6urkBxbcsSA3dKltn67bff6NmzJ88//zwjRoxQNabRaCQ2NpaYmJgKz3nnnXdUiV1QUICzs7Py2NnZmRs3bqgSS9w/JOEJq+ratSutWrXi5MmTmEwmXnrpJWrUqGHtYqnmzJkzSrKD4onYqampqsctKiriypUr7Ny5kxdeeEH1eFC5NS3V2oHd2dmZlJQUZaBKSkqKMkJVVF+S8IRV7dmzh+DgYGUtyZycHPbs2WORuVrWYDKZyM7Oxs3NDSiu4VliuHy/fv2IjY2lZcuWNGvWjEuXLlG3bl3V4zo4OBAZGWmRNS1v9sorrzBnzhxlyseVK1d4//33VY0pbJ+M0hRWFRUVVWpNSyheYX/69OlWKpG6tm7dyrp16+jYsSMajYadO3fyzDPPKMPnq5qKRodaYlSoLC0mbiV/AcKqyvu+VZUnCHfv3p2mTZty+PBhTCYTI0aMsMiSZtZaw7NHjx4UFBSQkZFRaiK42nbu3ElISAh+fn785z//4dSpUzzzzDMyF6+ak1GawqqaNGnC559/zsWLF7l06RKrVq2q8h9Kvr6+/OMf/+Dxxx+32H5pn332Gf3791eWb2vUqBHx8fGqx923bx9RUVHKaiqpqakWWd7rP//5Dy4uLiQlJXHw4EG6d+/OsmXLVI8rbJskPGFVgwYNwt7enk8++YQ5c+bg6OjI66+/bu1iVTnWWsPzu+++Y8qUKcpAHX9/f/R6vepxS+4tISGBXr160b59e4tuPyVskzRpCqtydnaucpPMbZG11vC0s7MrM0LTErvb16xZkyVLlvDXX3/xz3/+k8LCQottiSRsl9TwhFVNmjSJnJwc5XF2drYqiwlXd6+//jpLly5V1vD86aefeOONN1SP27BhQ3bs2IHRaCQtLY0VK1YoexCq6f3336dNmzaMGTMGV1dXsrOzeemll5Tns7OzVS+DsD1SwxNWdf369TLz0q5du2bFElU9RqORTZs2ERMTY/E1PAcNGsTatWtxcHBg7ty5tGnTxiKb3To5OZXaocHLy6tUjXbSpEmyVVA1JAlPWJVGoyEjI0PZiFWv11ukyas60Wq1pKSkAJRafcQSnJycePHFF/nnP/+JRqOxWKK9E2nerJ4k4QmrevHFF4mJiVF2ok5MTOTNN9+0cqmqnsaNGzNt2jQ6d+5cagJ4RfvUmcuJEydYvHixsl6oTqfj7bfftvpIXPlSVT1JwhNWFRISwtSpU4mLi8Pf35/27dvLElAqyM7Oxt3dncOHD5c6rnbC+/TTTxk8eDCBgYEAJCUlsWjRImbOnKlqXCHKIwlPWNVvv/3Ghg0byMzMxN/fn+TkZFq0aMH48eOtXbQqJSIi4rbPf//99/Tt29fscV1cXJRkBxAQEGATzZrSpFk9yShNYVUbNmxgypQp1KpVi/HjxzN9+nQ8PDysXaxqZ9euXWa9XkpKCikpKTRt2pQlS5Zw5MgRjh49yrJly5TmazV98803HDp0qMKtlz788EPVyyBsj9TwhFU5OjoqTZiFhYU0aNBAWf9QWI65azxffPFFqcdr1qwx6/XvpHbt2uzYsYOVK1fi7OxMYGAggYGBtG/fHkBZvFtUL5LwhFXVrFmTnJwc2rdvz8cff4yrqys1a9a0drGqHXMP4rB2k/TDDz/Mww8/zNWrV4mPj2f9+vXExcVZZO9BYbtktwRhM44ePUpubi4hISGysr2FqbVDRU5ODlu3biU9Pb3UouBqbw/06aefcu7cOTw9PQkMDCQgIIDGjRsra4mK6kk+VYTNsETfTnWVlJREQEBAhcc6deqkStwpU6bQvHlz/Pz8LDoV4Pr16xiNRlxdXXFzc8Pd3V2SnZAanhDVwahRo8qsLFLeMUvEtaRz585x8OBBfvrpJ4xGI59++qnVyiKsT2p4QlRhycnJHDt2jKysLP773/8qx3NzczEajarHf+ihh4iLi6Ndu3Y4ODgox9UeNPLnn3+SmJhIYmIiOTk5BAcHl6nhiupHEp4QVZjBYCA/P5+ioiLy8vKU4zqdjg8++ED1+Pb29qxevZrvv/9eOabRaFiwYIGqcffv309QUBC9e/eWQVBCIU2aQlQD6enp1K5dGyheTDo/P7/Mtj1qGDZsGLGxsVaZW5menk5aWhqtW7emoKCAoqIim5j0LqxHJp4LUQ189dVX5Obmkp+fzwcffMB7773Hjz/+qHpcX1/fUmt3WkpcXByzZ89m6dKlAFy+fJkZM2ZYvBzCtkiTphDVwLlz59DpdGzfvp0HH3yQAQMGEB0dzdNPP61qXK1Wy8iRI2nVqlWpqSZqT0vYuHEjU6ZMYcyYMQDUq1dPtp0SkvCEqA6KioowGAzs3buXf/zjH9jb21tkmkD79u2V1U0sycHBoVSCLSoqkh0ShCQ8IaqD8PBwhg4dir+/P4GBgaSnp1ukP6tHjx6qxyhPUFAQa9eupaCggEOHDrFx40batWtnlbII2yGDVoSopoqKilSfjD106NBya1Zqj9I0Go38/vvvHDp0CJPJRJs2bXjkkUekllfNScITohrIzc3lu+++IzExESiuAfXr10/1kZrXr19Xfi8sLGTnzp1kZ2fzr3/9S9W4QpRHEp4Q1cDMmTPx8/Oje/fuAGzbto3Tp08zYsQIi5clJiaGSZMmqXLt2bNn88EHHxAZGVlubU42nq3epA9PiGrg0qVLpZLbc889R1RUlOpxU1JSlN9NJhMnT56scI86c3jttdcAiI6OVi2GuH9JwhOiGnB0dCy1WHRSUpKyD6Gabt4Xz87Ojtq1a/P++++rFs/LywuA3bt3ExYWJqusiFKkSVOIaiA1NZWFCxeSm5sLgKurK0OHDqVRo0aqxi0oKGD37t2ltgfSaDT069dP1bjfffcdO3fuxM3NjbCwMDp16kSNGjVUjSlsnyQ8IaqBwsJCdu3axaVLl8jJyUGn01kk8cTGxuLq6krjxo3Rav+3sNNTTz2latwSp0+fJj4+nt27d+Pt7U1MTIxF4grbJE2aQlQD06dPVxKPJZv5MjMzGTt2rMXi3crT05MaNWrg7u4uK60ISXhCVAfWSjwtWrTgzJkz+Pn5WTTupk2biI+PJysri06dOvHWW2/h6+tr0TII2yMJT4hqwFqJJykpiS1btuDj44ODgwMmkwmNRqP69ID09HReffVV/P39VY0j7i/ShydEFVYyH62oqIiLFy9aJfGUp2SrIjUlJSWRlpZGz549ycrKIj8/Hx8fH9XjCtslCU+IKqyihFPCEonHGr777jtOnjxJWloac+fOJTMzkzlz5qg24V3cH6RJU4gqrKomtDvZs2cP06dPZ9SoUQDUrFmz1I7vonqSDWCFEFVOyfZHJcuLqbm6i7h/SA1PCFGlmEwm2rVrx5IlS8jJySEuLo7NmzfzyCOPWLtowsok4QkhqhSNRsPevXsZMGAALi4uXLhwgX/961+0bt3a2kUTViYJTwhR5TRv3hydTsfAgQOtXRRhQyThCSGqnCNHjhAXF0ft2rVxcnJSjsv2QNWbTEsQQlQ51pz/J2yXJDwhhBDVgkxLEEIIUS1IwhNCCFEtSMITQghRLUjCE0IIUS1IwhNCCFEt/D+ZtA5SLx614gAAAABJRU5ErkJggg==\n",
      "text/plain": [
       "<Figure size 432x288 with 2 Axes>"
      ]
     },
     "metadata": {},
     "output_type": "display_data"
    }
   ],
   "source": [
    "#Fazendo a correlação:\n",
    "corr = df.corr()\n",
    "#Vamos usar o seaborn para analisar as correlações mais uma vez:\n",
    "sns.heatmap(corr, xticklabels=corr.columns.values, yticklabels=corr.columns.values, cmap = 'RdBu_r', center=0);"
   ]
  },
  {
   "cell_type": "code",
   "execution_count": 23,
   "metadata": {},
   "outputs": [
    {
     "data": {
      "text/html": [
       "<div>\n",
       "<style scoped>\n",
       "    .dataframe tbody tr th:only-of-type {\n",
       "        vertical-align: middle;\n",
       "    }\n",
       "\n",
       "    .dataframe tbody tr th {\n",
       "        vertical-align: top;\n",
       "    }\n",
       "\n",
       "    .dataframe thead th {\n",
       "        text-align: right;\n",
       "    }\n",
       "</style>\n",
       "<table border=\"1\" class=\"dataframe\">\n",
       "  <thead>\n",
       "    <tr style=\"text-align: right;\">\n",
       "      <th></th>\n",
       "      <th>log_price</th>\n",
       "      <th>accommodates</th>\n",
       "      <th>bathrooms</th>\n",
       "      <th>cleaning_fee</th>\n",
       "      <th>beds</th>\n",
       "      <th>host_response_rate</th>\n",
       "      <th>bedrooms</th>\n",
       "    </tr>\n",
       "  </thead>\n",
       "  <tbody>\n",
       "    <tr>\n",
       "      <th>log_price</th>\n",
       "      <td>1.0</td>\n",
       "      <td>0.594578</td>\n",
       "      <td>0.345265</td>\n",
       "      <td>0.170305</td>\n",
       "      <td>0.462411</td>\n",
       "      <td>0.002971</td>\n",
       "      <td>0.502518</td>\n",
       "    </tr>\n",
       "  </tbody>\n",
       "</table>\n",
       "</div>"
      ],
      "text/plain": [
       "           log_price  accommodates  bathrooms  cleaning_fee      beds  \\\n",
       "log_price        1.0      0.594578   0.345265      0.170305  0.462411   \n",
       "\n",
       "           host_response_rate  bedrooms  \n",
       "log_price            0.002971  0.502518  "
      ]
     },
     "execution_count": 23,
     "metadata": {},
     "output_type": "execute_result"
    }
   ],
   "source": [
    "#Criando um datafreame com nossas variáveis quantitativas para calcular a correlação entre elas:\n",
    "corr_log = df[['log_price', 'accommodates', 'bathrooms', 'cleaning_fee', 'beds','host_response_rate','bedrooms']]\n",
    "#Calculando a correlação:\n",
    "corr_log.corr().head(1)"
   ]
  },
  {
   "cell_type": "markdown",
   "metadata": {},
   "source": [
    "<br>\n",
    "\n",
    "A tabela acima revela correlações moderadas entre o preço e variáveis como a quantidade de camas, a quantidade de banheiros e a capacidade de acomodação. Esses são as variaveis mais importantes, pois exercem influência direta sobre os preços. Em contraste, outras correlações apresentam-se pouco relevantes como dos reviews realizados, conforme evidenciado no boxplot anterior."
   ]
  },
  {
   "cell_type": "markdown",
   "metadata": {},
   "source": [
    "...\n",
    "\n",
    "\n",
    "### 2.3 Análise pelo Sweetviz:\n",
    "\n",
    "Normalmente usada para realizar uma análise exploratória mais completa de maneira rápida e intuitiva, criando uma análise dos dados do DataFrame através do Pandas. Em seguida é aberta como uma nova aba do navegador.\n",
    "\n",
    "A ferramenta requer uma intalação:"
   ]
  },
  {
   "cell_type": "markdown",
   "metadata": {},
   "source": [
    "**PIP INSTALL**<br>\n",
    "Para instalar através do PIP, descomente o comando:\n"
   ]
  },
  {
   "cell_type": "code",
   "execution_count": 24,
   "metadata": {},
   "outputs": [],
   "source": [
    "#pip install sweetviz"
   ]
  },
  {
   "cell_type": "markdown",
   "metadata": {},
   "source": [
    "#### Para acessar a análise da ferramente descomente as linhas a seguir:"
   ]
  },
  {
   "cell_type": "code",
   "execution_count": 25,
   "metadata": {},
   "outputs": [],
   "source": [
    "#import sweetviz as sv\n",
    "\n",
    "#my_report = sv.analyze(df)\n",
    "#my_report.show_notebook()"
   ]
  },
  {
   "cell_type": "markdown",
   "metadata": {},
   "source": [
    "___\n",
    "## 3. Modelos de predição"
   ]
  },
  {
   "cell_type": "markdown",
   "metadata": {},
   "source": [
    "Adequando nosso dataframe para as predições:"
   ]
  },
  {
   "cell_type": "code",
   "execution_count": 26,
   "metadata": {},
   "outputs": [],
   "source": [
    "#Tirando colunas que não vamos precisar:\n",
    "df_pred = df_modelos.drop([\"log_price\"],axis=1)"
   ]
  },
  {
   "cell_type": "code",
   "execution_count": 27,
   "metadata": {},
   "outputs": [],
   "source": [
    "#Importando bibliotecas para usar no statsmodel:\n",
    "from sklearn.linear_model import LinearRegression\n",
    "with warnings.catch_warnings():\n",
    "    warnings.simplefilter('ignore')\n",
    "    import statsmodels.api as sm\n",
    "\n",
    "#Estabelecendo variável random_seed:\n",
    "RANDOM_SEED = 10\n",
    "np.random.seed(RANDOM_SEED)"
   ]
  },
  {
   "cell_type": "code",
   "execution_count": 28,
   "metadata": {},
   "outputs": [],
   "source": [
    "#Dividindo os dados do dataframe em teste e treino:\n",
    "X_train, X_test, y_train, y_test = train_test_split(df_pred, df_modelos.log_price, test_size = 0.33,random_state = RANDOM_SEED)"
   ]
  },
  {
   "cell_type": "markdown",
   "metadata": {
    "collapsed": true
   },
   "source": [
    "<br>\n",
    "<br>\n",
    "\n",
    "- **`MODELO DE PREDIÇÃO PELA MÉDIA`**` (Sem uso de variável explicativa)`"
   ]
  },
  {
   "cell_type": "code",
   "execution_count": 29,
   "metadata": {},
   "outputs": [],
   "source": [
    "#Precisamos separar uma vez específica a nossa base de dados em treino e teste, porque precisamos que todos tenham o preço:\n",
    "X_train_2, X_test_2, y_train_2, y_test_2 = train_test_split(df, df, test_size = 0.33,random_state = RANDOM_SEED)\n",
    "#Criando uma função para calcular o r_squared:\n",
    "def r_2(y_test, y_train):\n",
    "    a = 0\n",
    "    b = 0\n",
    "    #Vamos usar um loop para atribuir os valores nas variáveis:\n",
    "    for i in y_train[\"log_price\"]:\n",
    "        a += (i - np.mean(y_train[\"log_price\"]))**2\n",
    "        b += (i - np.mean(y_test[\"log_price\"]))**2\n",
    "    #Retornando o valor do r squared:\n",
    "    return 1-(a/b)"
   ]
  },
  {
   "cell_type": "code",
   "execution_count": 30,
   "metadata": {},
   "outputs": [
    {
     "name": "stdout",
     "output_type": "stream",
     "text": [
      "R2 é de: 0.0000019\n",
      "RMS é de: 0.0014\n"
     ]
    }
   ],
   "source": [
    "#Vamos usar a função para calcular o r squared:\n",
    "R2_MEAN = r_2(y_test_2,y_train_2)\n",
    "#A partir do nosso r squared vamos calcular o rms:\n",
    "RMS_Mean = np.sqrt(R2_MEAN)\n",
    "#Descobrindo a qualidade do modelo de predição:\n",
    "print(\"R2: {:.7f}\".format(R2_MEAN))\n",
    "\n",
    "print(\"RMS: {:.4f}\".format(RMS_Mean))"
   ]
  },
  {
   "cell_type": "markdown",
   "metadata": {
    "collapsed": true
   },
   "source": [
    "<br>\n",
    "<br>\n",
    "\n",
    "- **`MODELO DOS K VIZINHOS MAIS PRÓXIMOS`**` (K-Nearest Neighbors Regression)`"
   ]
  },
  {
   "cell_type": "code",
   "execution_count": 31,
   "metadata": {},
   "outputs": [],
   "source": [
    "#Importando as bibliotecas necessárias para esse modelo:\n",
    "from sklearn.neighbors import KNeighborsRegressor"
   ]
  },
  {
   "cell_type": "code",
   "execution_count": 32,
   "metadata": {
    "scrolled": true
   },
   "outputs": [],
   "source": [
    "# Chamando o classificador:\n",
    "knn = KNeighborsRegressor(n_neighbors=3)\n",
    "\n",
    "#Fazendo um fit nos dados de treino(treinando o algoritmo):\n",
    "knn.fit(X_train, y_train)\n",
    "\n",
    "knn_pred = knn.predict(X_test)"
   ]
  },
  {
   "cell_type": "code",
   "execution_count": 33,
   "metadata": {},
   "outputs": [
    {
     "name": "stdout",
     "output_type": "stream",
     "text": [
      "R2 é de: 0.44\n",
      "RMS é de: 0.66\n"
     ]
    }
   ],
   "source": [
    "#Descobrindo a qualidade do modelo de predição:\n",
    "knn_test = r2_score(y_test, knn_pred)\n",
    "print('R2: {:.2f}'.format(knn_test))\n",
    "\n",
    "\n",
    "RMS_K_Nearest = np.sqrt(np.mean(knn_test))\n",
    "print(\"RMS: {:.2f}\".format(RMS_K_Nearest))"
   ]
  },
  {
   "cell_type": "markdown",
   "metadata": {
    "collapsed": true
   },
   "source": [
    "<br>\n",
    "<br>\n",
    "\n",
    "- **`MODELO DE REGRESSÃO LINEAR`**` (Multiple Linear Regression)`"
   ]
  },
  {
   "cell_type": "code",
   "execution_count": 34,
   "metadata": {},
   "outputs": [],
   "source": [
    "#Importando as bibliotecas necessárias para esse modelo:\n",
    "from sklearn.linear_model import LinearRegression"
   ]
  },
  {
   "cell_type": "code",
   "execution_count": 35,
   "metadata": {},
   "outputs": [],
   "source": [
    "#Chamando o classificador com o statsmodel:\n",
    "linear = LinearRegression()\n",
    "Xc = sm.add_constant(X_test)\n",
    "model = sm.OLS(y_test,Xc)\n",
    "results = model.fit()\n",
    "\n",
    "linear_test=results.rsquared\n",
    "\n",
    "#results.summary()"
   ]
  },
  {
   "cell_type": "code",
   "execution_count": 36,
   "metadata": {},
   "outputs": [
    {
     "name": "stdout",
     "output_type": "stream",
     "text": [
      "R2 é de: 0.75\n",
      "RMS é de: 0.86\n"
     ]
    }
   ],
   "source": [
    "#Descobrindo a qualidade do modelo de predição:\n",
    "print(\"R2: {:.2f}\".format(results.rsquared))\n",
    "\n",
    "RMS_Linear_Regression = np.sqrt(np.mean(results.rsquared))\n",
    "print(\"RMS: {:.2f}\".format(RMS_Linear_Regression))"
   ]
  },
  {
   "cell_type": "markdown",
   "metadata": {
    "collapsed": true
   },
   "source": [
    "<br>\n",
    "<br>\n",
    "\n",
    "- **`MODELO DE ÁRVORES DE REGRESSÃO`**` (Decision Tree Regression)`"
   ]
  },
  {
   "cell_type": "code",
   "execution_count": 37,
   "metadata": {},
   "outputs": [],
   "source": [
    "#Importando as bibliotecas necessárias para esse modelo:\n",
    "from sklearn.tree import DecisionTreeRegressor"
   ]
  },
  {
   "cell_type": "code",
   "execution_count": 38,
   "metadata": {
    "scrolled": true
   },
   "outputs": [],
   "source": [
    "#Chamando o classificador:\n",
    "tree = DecisionTreeRegressor()\n",
    "\n",
    "#Fazendo um fit nos dados de treino:\n",
    "tree.fit(X_train, y_train)   \n",
    "\n",
    "tree_pred = tree.predict(X_test)"
   ]
  },
  {
   "cell_type": "code",
   "execution_count": 39,
   "metadata": {},
   "outputs": [
    {
     "name": "stdout",
     "output_type": "stream",
     "text": [
      "R2 é de: 0.50\n",
      "RMS é de: 0.71\n"
     ]
    }
   ],
   "source": [
    "#Descobrindo a qualidade do modelo de predição:\n",
    "tree_test = r2_score(y_test, tree_pred)\n",
    "print(\"R2: {:.2f}\".format(tree_test))\n",
    "\n",
    "\n",
    "RMS_Tree_Regression = np.sqrt(np.mean(tree_test))\n",
    "print(\"RMS: {:.2f}\".format(RMS_Tree_Regression))"
   ]
  },
  {
   "cell_type": "markdown",
   "metadata": {},
   "source": [
    "<br>\n",
    "<br>\n",
    "\n",
    "- **`MODELO RANDOM FOREST`**"
   ]
  },
  {
   "cell_type": "code",
   "execution_count": 40,
   "metadata": {},
   "outputs": [],
   "source": [
    "#Importando as bibliotecas necessárias para esse modelo:\n",
    "from sklearn.ensemble import RandomForestRegressor"
   ]
  },
  {
   "cell_type": "code",
   "execution_count": 41,
   "metadata": {},
   "outputs": [],
   "source": [
    "#Chamando o RandomForestClassifier:\n",
    "model = RandomForestRegressor()\n",
    "\n",
    "#Fazendo um fit nos dados de treino:\n",
    "model.fit(X_train, y_train)\n",
    "\n",
    "random_pred = model.predict(X_test)"
   ]
  },
  {
   "cell_type": "code",
   "execution_count": 42,
   "metadata": {},
   "outputs": [
    {
     "name": "stdout",
     "output_type": "stream",
     "text": [
      "R2 é de: 0.71\n",
      "RMS é de: 0.84\n"
     ]
    }
   ],
   "source": [
    "#Descobrindo a qualidade do modelo de predição:\n",
    "random_test = r2_score(y_test, random_pred)\n",
    "print('R2: {:.2f}'.format(random_test))\n",
    "\n",
    "\n",
    "RMS_RANDOM_FOREST = np.sqrt(np.mean(random_test))\n",
    "print(\"RMS: {:.2f}\".format(RMS_RANDOM_FOREST))"
   ]
  },
  {
   "cell_type": "markdown",
   "metadata": {},
   "source": [
    "### 3.1 Comparação dos modelos\n",
    "\n",
    "Esta seção é dedicada à comparação dos modelos de regressão, com o objetivo de facilitar a avaliação e analisae do desempenho de diferentes algoritmos de regressão para determinar qual oferece a melhor solução para o problema em questão."
   ]
  },
  {
   "cell_type": "code",
   "execution_count": 54,
   "metadata": {},
   "outputs": [],
   "source": [
    "#Atribuindo os valores em listas para plotarmos uma tabela mais tarde:\n",
    "Valores_r2 = [R2_MEAN, knn_test,linear_test,tree_test,random_test]\n",
    "Valores_rms = [RMS_Mean, RMS_K_Nearest,RMS_Linear_Regression,RMS_Tree_Regression,RMS_RANDOM_FOREST]"
   ]
  },
  {
   "cell_type": "code",
   "execution_count": 57,
   "metadata": {},
   "outputs": [],
   "source": [
    "#Criando um dicionario com a nossa tabela:\n",
    "TABELA = {\"Regressões\":[\"MÉDIA\",\"KNN\",\"LINEAR\",\"TREE\",\"FOREST\"],'$R^2$':Valores_r2,\"$RMS$\":Valores_rms}"
   ]
  },
  {
   "cell_type": "code",
   "execution_count": 59,
   "metadata": {},
   "outputs": [
    {
     "data": {
      "text/html": [
       "<div>\n",
       "<style scoped>\n",
       "    .dataframe tbody tr th:only-of-type {\n",
       "        vertical-align: middle;\n",
       "    }\n",
       "\n",
       "    .dataframe tbody tr th {\n",
       "        vertical-align: top;\n",
       "    }\n",
       "\n",
       "    .dataframe thead th {\n",
       "        text-align: right;\n",
       "    }\n",
       "</style>\n",
       "<table border=\"1\" class=\"dataframe\">\n",
       "  <thead>\n",
       "    <tr style=\"text-align: right;\">\n",
       "      <th></th>\n",
       "      <th>$R^2$</th>\n",
       "      <th>$RMS$</th>\n",
       "    </tr>\n",
       "    <tr>\n",
       "      <th>Regressões</th>\n",
       "      <th></th>\n",
       "      <th></th>\n",
       "    </tr>\n",
       "  </thead>\n",
       "  <tbody>\n",
       "    <tr>\n",
       "      <th>MÉDIA</th>\n",
       "      <td>0.000002</td>\n",
       "      <td>0.001363</td>\n",
       "    </tr>\n",
       "    <tr>\n",
       "      <th>KNN</th>\n",
       "      <td>0.436151</td>\n",
       "      <td>0.660418</td>\n",
       "    </tr>\n",
       "    <tr>\n",
       "      <th>LINEAR</th>\n",
       "      <td>0.746610</td>\n",
       "      <td>0.864066</td>\n",
       "    </tr>\n",
       "    <tr>\n",
       "      <th>TREE</th>\n",
       "      <td>0.502708</td>\n",
       "      <td>0.709019</td>\n",
       "    </tr>\n",
       "    <tr>\n",
       "      <th>FOREST</th>\n",
       "      <td>0.712353</td>\n",
       "      <td>0.844010</td>\n",
       "    </tr>\n",
       "  </tbody>\n",
       "</table>\n",
       "</div>"
      ],
      "text/plain": [
       "               $R^2$     $RMS$\n",
       "Regressões                    \n",
       "MÉDIA       0.000002  0.001363\n",
       "KNN         0.436151  0.660418\n",
       "LINEAR      0.746610  0.864066\n",
       "TREE        0.502708  0.709019\n",
       "FOREST      0.712353  0.844010"
      ]
     },
     "execution_count": 59,
     "metadata": {},
     "output_type": "execute_result"
    }
   ],
   "source": [
    "#Trasformando nosso dicionario em uma tebela:\n",
    "tabela = pd.DataFrame.from_dict(TABELA)\n",
    "tabela.set_index(\"Regressões\", inplace=True)\n",
    "#Vamos visualizar nossos resultados:\n",
    "tabela"
   ]
  },
  {
   "cell_type": "markdown",
   "metadata": {},
   "source": [
    "___\n",
    "## 4. Conclusão"
   ]
  },
  {
   "cell_type": "markdown",
   "metadata": {},
   "source": [
    "Devido a análise exploratória, foi observado que o preço apresenta correlações positivas significativas com características como accommodates, bathrooms, beds, e bedrooms. Estes resultados indicam que à medida que essas características específicas aumentam, há uma tendência correspondente de aumento nos preços de aluguel registrados. \n",
    "\n",
    "Ainda, após concluir cada previsão, foram calculados os indicadores cruciais na escolha do melhor modelo preditivo. Destacando a regressão linear como a opção preferencial, apresentando valores de $R^2$ e $RMS$ de 0,75 e 0,86, respectivamente. Este modelo, de acordo com a análise do dataframe, considera de maneira mais abrangente as variáveis que impactam o problema.\n",
    "\n",
    "Os demais modelos exibem valores de $R^2$ e $RMS$ inferiores à regressão linear. O modelo baseado na média é identificado como o menos eficaz, com indicadores próximos de zero, pois não considera nenhuma variável além do próprio preço. Os modelos de previsão da árvore de regressão e do random forest são similares e confiáveis, apresentando $R^2$ e $RMS$ próximos aos da regressão, embora ligeiramente prejudicados pela falta de uma regra exata nos dados do dataframe. O modelo dos k vizinhos é aceitável, mas menos preciso devido ao aumento do número de variáveis, resultando em cálculos excessivos dos vetores usados pelo modelo e dificultando a identificação de padrões relevantes nos dados."
   ]
  },
  {
   "cell_type": "markdown",
   "metadata": {},
   "source": [
    "___\n",
    "## 5. Referências bibliográficas\n",
    "\n",
    "- https://www.mldata.io/tutorials/scikit_knn/\n",
    "- https://www.kaggle.com/pratsiuk/valueerror-unknown-label-type-continuous\n",
    "- https://jakevdp.github.io/PythonDataScienceHandbook/04.14-visualization-with-seaborn.html"
   ]
  }
 ],
 "metadata": {
  "anaconda-cloud": {},
  "kernelspec": {
   "display_name": "Python 3 (ipykernel)",
   "language": "python",
   "name": "python3"
  },
  "language_info": {
   "codemirror_mode": {
    "name": "ipython",
    "version": 3
   },
   "file_extension": ".py",
   "mimetype": "text/x-python",
   "name": "python",
   "nbconvert_exporter": "python",
   "pygments_lexer": "ipython3",
   "version": "3.9.7"
  }
 },
 "nbformat": 4,
 "nbformat_minor": 1
}

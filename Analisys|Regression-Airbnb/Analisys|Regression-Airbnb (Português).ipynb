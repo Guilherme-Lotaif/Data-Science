{
 "cells": [
  {
   "cell_type": "markdown",
   "metadata": {},
   "source": [
    "\n",
    "#### ____\n",
    "<h1 align=\"center\">Análise Airbnb - Data Science</h1>\n",
    "<h3 align=\"center\">Guilherme Tamer Lotaif</h3>\n",
    "\n",
    "<br>"
   ]
  },
  {
   "cell_type": "markdown",
   "metadata": {},
   "source": [
    "\n",
    "## 1. Introdução"
   ]
  },
  {
   "cell_type": "markdown",
   "metadata": {},
   "source": [
    "&nbsp;&nbsp;&nbsp;&nbsp;&nbsp;   Neste estudo, aprofundaremos uma investigação nos dados do Airbnb nos Estados Unidos, focalizando em aspectos que sejam relevantes. Com base nesses dados, empregaremos diversas **técnicas de predição** para estimar os preços de aluguel, considerando as características específicas fornecidas. A variedade de métodos utilizados permitirá uma análise comparativa dos resultados obtidos.\n",
    "\n",
    "**Airbnb**: É uma plataforma global de aluguel de casas e apartamentos, oferece uma ampla gama de opções em 192 países. Nos Estados Unidos sozinhos, existem aproximadamente 600.000 locais potenciais para aluguel, destacando a extensão e a diversidade da plataforma. Diante de tantas opções, a decisão dos usuários sobre onde se hospedar é influenciada pelas informações fornecidas pelos proprietários, que variam desde detalhes como o número de banheiros até a disponibilidade de uma rede Wi-Fi. \n",
    "\n",
    "**1<sup>a</sup> parte**: Procura desvendar padrões e insights por meio da análise desses dados, possibilitando uma compreensão mais aprofundada do mercado de locação do Airbnb nos Estados Unidos.\n",
    "\n",
    "**2<sup>a</sup> parte**: Tem como objetivo comparar a eficacea de diferentes modelos de regressão com base dados de tamanhos diferentes, para descobrir o preço de locação de Airbnb. Assim chegando no modelo mais adequado para o problema."
   ]
  },
  {
   "cell_type": "markdown",
   "metadata": {},
   "source": [
    "**Fonte do dataset:** www.kaggle.com/rudymizrahi/airbnb-listings-in-major-us-cities-deloitte-ml"
   ]
  },
  {
   "cell_type": "markdown",
   "metadata": {},
   "source": [
    "___\n",
    "## 2. Minerando a base de dados"
   ]
  },
  {
   "cell_type": "markdown",
   "metadata": {},
   "source": [
    "O dataset que vamos utilizar nesse projeto possui diversas colunas com informações dos Airbnb nos Estados Unidos, com variáveis qualitativas e quantitativas, portanto temos que percorrer todas essas colunas para fazer uma limpeza, e deixar somente as informações que serão pertinentes a nossa análise."
   ]
  },
  {
   "cell_type": "code",
   "execution_count": 1,
   "metadata": {},
   "outputs": [],
   "source": [
    "#Importando bibliotecas:\n",
    "import os\n",
    "import sys\n",
    "import warnings\n",
    "import numpy as np\n",
    "import pandas as pd\n",
    "import seaborn as sns\n",
    "import matplotlib.pyplot as plt\n",
    "from scipy.stats import norm, probplot\n",
    "from IPython.display import Markdown, display\n",
    "from sklearn.model_selection import train_test_split\n",
    "from sklearn.metrics import accuracy_score, r2_score\n",
    "from statsmodels.formula.api import ols\n",
    "\n",
    "plt.style.use('ggplot')"
   ]
  },
  {
   "cell_type": "code",
   "execution_count": 2,
   "metadata": {},
   "outputs": [],
   "source": [
    "#Vamos remover os avisos para manter a exibição mais limpa:\n",
    "warnings.filterwarnings(\"ignore\")"
   ]
  },
  {
   "cell_type": "markdown",
   "metadata": {},
   "source": [
    "___\n",
    "\n",
    "### 2.1 Base de dados\n",
    "\n",
    "Para que possamos trabalhar com os dados que obtidos a partir do site: www.kaggle.com, primeiro precisamos abrir o arquivo. No caso estaremos abrindo somente o arquivo de treino (que no futuro será dividido em treino e teste), uma vez que ele ja tem uma quantidade de dados suficiente para que façamos nosso trabalho."
   ]
  },
  {
   "cell_type": "code",
   "execution_count": 3,
   "metadata": {},
   "outputs": [],
   "source": [
    "#Importado o arquivo de treinamento:\n",
    "df = pd.read_csv('Data/train.csv')"
   ]
  },
  {
   "cell_type": "code",
   "execution_count": 4,
   "metadata": {},
   "outputs": [
    {
     "name": "stdout",
     "output_type": "stream",
     "text": [
      "O Dataframe possui 74111 linhas por 29 colunas\n"
     ]
    }
   ],
   "source": [
    "#Análisando o tamanho do dataframe de treino:\n",
    "linhas, colunas = df.shape\n",
    "print(\"O Dataframe possui {0} linhas por {1} colunas\".format(linhas, colunas))"
   ]
  },
  {
   "cell_type": "markdown",
   "metadata": {},
   "source": [
    "...\n",
    "\n",
    "#### Limpando o dataframe para ser análisado:\n",
    "Esta etapa consiste em uma preparação do dataframe para facilitar a análise do mesmo, assim evitando ocorrências de complicações ou erros que possam atrapalhar o desempenho dos nosssos classificadores no futuro. Portanto iremos: limpar os epaços dos títulos de cada coluna; remover os valores nulos de cada categoria, assim como deletar colunas que julgarmos desnecessárias para o nosso trabalho."
   ]
  },
  {
   "cell_type": "code",
   "execution_count": 5,
   "metadata": {},
   "outputs": [],
   "source": [
    "#Removendo os espaços em branco dos títulos das colunas:\n",
    "df.columns = [espaços.strip() for espaços in df.columns.tolist()]"
   ]
  },
  {
   "cell_type": "code",
   "execution_count": 6,
   "metadata": {},
   "outputs": [],
   "source": [
    "#Convertendo uma string de porcentagem para float:\n",
    "df['host_response_rate'] = df['host_response_rate'].str.rstrip('%').astype('float')"
   ]
  },
  {
   "cell_type": "code",
   "execution_count": 7,
   "metadata": {},
   "outputs": [],
   "source": [
    "#Removendo colunas que não são pertinentes ao estudo:\n",
    "df = df.drop([\"latitude\",\"longitude\",\"name\",\"thumbnail_url\",\"id\",\"description\",\"amenities\",\"zipcode\",\n",
    "              \"host_since\",\"first_review\",\"last_review\"],axis=1);"
   ]
  },
  {
   "cell_type": "code",
   "execution_count": 8,
   "metadata": {},
   "outputs": [],
   "source": [
    "#Apagando valores nulos que podem causar problemas posteriores:\n",
    "df = df.dropna(axis=0, subset=['log_price', 'property_type', 'room_type', 'accommodates', 'bathrooms','bed_type',\n",
    "                               'cancellation_policy', 'cleaning_fee', 'city', 'host_has_profile_pic', 'beds', \n",
    "                               'host_identity_verified','host_response_rate', 'instant_bookable', 'neighbourhood',\n",
    "                               'review_scores_rating','bedrooms'])"
   ]
  },
  {
   "cell_type": "code",
   "execution_count": 9,
   "metadata": {},
   "outputs": [],
   "source": [
    "#Corrigindo simplificação no arquivo:\n",
    "df.loc[(df[\"instant_bookable\"] == \"f\"),\"instant_bookable\"] = \"False\"\n",
    "df.loc[(df[\"instant_bookable\"] == \"t\"),\"instant_bookable\"] = \"True\"\n",
    "\n",
    "df.loc[(df[\"host_has_profile_pic\"] == \"f\"),\"host_has_profile_pic\"] = \"False\"\n",
    "df.loc[(df[\"host_has_profile_pic\"] == \"t\"),\"host_has_profile_pic\"] = \"True\"\n",
    "\n",
    "df.loc[(df[\"host_identity_verified\"] == \"f\"),\"host_identity_verified\"] = \"False\"\n",
    "df.loc[(df[\"host_identity_verified\"] == \"t\"),\"host_identity_verified\"] = \"True\""
   ]
  },
  {
   "cell_type": "code",
   "execution_count": 10,
   "metadata": {},
   "outputs": [
    {
     "data": {
      "text/html": [
       "<div>\n",
       "<style scoped>\n",
       "    .dataframe tbody tr th:only-of-type {\n",
       "        vertical-align: middle;\n",
       "    }\n",
       "\n",
       "    .dataframe tbody tr th {\n",
       "        vertical-align: top;\n",
       "    }\n",
       "\n",
       "    .dataframe thead th {\n",
       "        text-align: right;\n",
       "    }\n",
       "</style>\n",
       "<table border=\"1\" class=\"dataframe\">\n",
       "  <thead>\n",
       "    <tr style=\"text-align: right;\">\n",
       "      <th></th>\n",
       "      <th>log_price</th>\n",
       "      <th>property_type</th>\n",
       "      <th>room_type</th>\n",
       "      <th>accommodates</th>\n",
       "      <th>bathrooms</th>\n",
       "      <th>bed_type</th>\n",
       "      <th>cancellation_policy</th>\n",
       "      <th>cleaning_fee</th>\n",
       "      <th>city</th>\n",
       "      <th>host_has_profile_pic</th>\n",
       "      <th>host_identity_verified</th>\n",
       "      <th>host_response_rate</th>\n",
       "      <th>instant_bookable</th>\n",
       "      <th>neighbourhood</th>\n",
       "      <th>number_of_reviews</th>\n",
       "      <th>review_scores_rating</th>\n",
       "      <th>bedrooms</th>\n",
       "      <th>beds</th>\n",
       "    </tr>\n",
       "  </thead>\n",
       "  <tbody>\n",
       "    <tr>\n",
       "      <th>61063</th>\n",
       "      <td>4.744932</td>\n",
       "      <td>Apartment</td>\n",
       "      <td>Entire home/apt</td>\n",
       "      <td>8</td>\n",
       "      <td>1.0</td>\n",
       "      <td>Real Bed</td>\n",
       "      <td>moderate</td>\n",
       "      <td>False</td>\n",
       "      <td>Chicago</td>\n",
       "      <td>True</td>\n",
       "      <td>True</td>\n",
       "      <td>100.0</td>\n",
       "      <td>True</td>\n",
       "      <td>Humboldt Park</td>\n",
       "      <td>23</td>\n",
       "      <td>95.0</td>\n",
       "      <td>3.0</td>\n",
       "      <td>5.0</td>\n",
       "    </tr>\n",
       "    <tr>\n",
       "      <th>40639</th>\n",
       "      <td>4.094345</td>\n",
       "      <td>Apartment</td>\n",
       "      <td>Private room</td>\n",
       "      <td>2</td>\n",
       "      <td>1.5</td>\n",
       "      <td>Real Bed</td>\n",
       "      <td>moderate</td>\n",
       "      <td>True</td>\n",
       "      <td>LA</td>\n",
       "      <td>True</td>\n",
       "      <td>True</td>\n",
       "      <td>80.0</td>\n",
       "      <td>False</td>\n",
       "      <td>Redondo Beach</td>\n",
       "      <td>19</td>\n",
       "      <td>97.0</td>\n",
       "      <td>1.0</td>\n",
       "      <td>1.0</td>\n",
       "    </tr>\n",
       "  </tbody>\n",
       "</table>\n",
       "</div>"
      ],
      "text/plain": [
       "       log_price property_type        room_type  accommodates  bathrooms  \\\n",
       "61063   4.744932     Apartment  Entire home/apt             8        1.0   \n",
       "40639   4.094345     Apartment     Private room             2        1.5   \n",
       "\n",
       "       bed_type cancellation_policy  cleaning_fee     city  \\\n",
       "61063  Real Bed            moderate         False  Chicago   \n",
       "40639  Real Bed            moderate          True       LA   \n",
       "\n",
       "      host_has_profile_pic host_identity_verified  host_response_rate  \\\n",
       "61063                 True                   True               100.0   \n",
       "40639                 True                   True                80.0   \n",
       "\n",
       "      instant_bookable  neighbourhood  number_of_reviews  \\\n",
       "61063             True  Humboldt Park                 23   \n",
       "40639            False  Redondo Beach                 19   \n",
       "\n",
       "       review_scores_rating  bedrooms  beds  \n",
       "61063                  95.0       3.0   5.0  \n",
       "40639                  97.0       1.0   1.0  "
      ]
     },
     "execution_count": 10,
     "metadata": {},
     "output_type": "execute_result"
    }
   ],
   "source": [
    "df.sample(2)"
   ]
  },
  {
   "cell_type": "code",
   "execution_count": 11,
   "metadata": {},
   "outputs": [
    {
     "name": "stdout",
     "output_type": "stream",
     "text": [
      "Após a limpeza do Dataframe, ele possui 41.9% linhas a menos e 37.9% colunas a menos\n"
     ]
    }
   ],
   "source": [
    "#Análisando o tamanho do dataframe de treino:\n",
    "linhas_limpas, colunas_limpas = df.shape\n",
    "print(\"Após a limpeza do Dataframe, ele possui {0:.1f}% linhas a menos e {1:.1f}% colunas a menos\".format(((linhas-linhas_limpas)/linhas)*100, ((colunas-colunas_limpas)/colunas)*100))"
   ]
  },
  {
   "cell_type": "markdown",
   "metadata": {},
   "source": [
    "...\n",
    "\n",
    "\n",
    "#### Transformando categorias qualiativas em quantitativas:\n",
    "Como os nosso modelos preditivos necessitam de variáveis quantitativas, é necessário que uma conversão seja efetuada para possibilitar o funcionamento das ferramentas.<br>\n",
    "O método usado para efetuar essa conversão é chamado de **One Hot Encoding**, que transforma variáveis categóricas em vetores binários. Tal método transforma todas as variáveis em 0 menos quando o item(coluna) analisado tiver resposta positiva, desse modo, podemos dizer que estamos transofrpermitindo a realização de análises em cima desse dados.\n",
    "<br>\n",
    "<br>"
   ]
  },
  {
   "cell_type": "code",
   "execution_count": 12,
   "metadata": {},
   "outputs": [],
   "source": [
    "#Função para chamar o get_dummies e remover a coluna base:\n",
    "def dummify(data, column_name):\n",
    "    df1 = data.copy()\n",
    "    df2 = pd.concat([df1.drop(column_name, axis=1), pd.get_dummies(data[column_name], prefix=column_name)], axis=1)\n",
    "    return df2\n",
    "\n",
    "#Fazendo as conversões das nossas colunas:\n",
    "df_modelos = dummify( df, \"property_type\")\n",
    "df_modelos = dummify( df_modelos, \"room_type\")\n",
    "df_modelos = dummify( df_modelos, \"bed_type\")\n",
    "df_modelos = dummify( df_modelos, \"cancellation_policy\")\n",
    "df_modelos = dummify( df_modelos, \"cleaning_fee\")\n",
    "df_modelos = dummify( df_modelos, \"city\")\n",
    "df_modelos = dummify( df_modelos, \"host_has_profile_pic\")\n",
    "df_modelos = dummify( df_modelos, \"host_identity_verified\")\n",
    "df_modelos = dummify( df_modelos, \"instant_bookable\")\n",
    "df_modelos = dummify( df_modelos, \"neighbourhood\")"
   ]
  },
  {
   "cell_type": "markdown",
   "metadata": {},
   "source": [
    " Agora, possuímos um `df` que usaremos para a análise descritiva, que é composto por tanto as variáveis qualitativas quanto pelas quantitativas. Também temos o `df_modelos` que será usado para nossos modelos de regressão. "
   ]
  },
  {
   "cell_type": "markdown",
   "metadata": {},
   "source": [
    "...\n",
    "<br>\n",
    "\n",
    "### 2.2 Análise exploratória"
   ]
  },
  {
   "cell_type": "markdown",
   "metadata": {},
   "source": [
    "Visando aprofundar a compreensão dos fatores que impactam os preços de locação, este estudo se propõe a investigar a correlação entre diversas variáveis e os valores de aluguel. A análise abrangerá um conjunto de atributos específicos, proporcionando insights sobre a influência dessas variáveis nos preços de locação das propriedades.\n"
   ]
  },
  {
   "cell_type": "markdown",
   "metadata": {},
   "source": [
    "#### Vamos analisar os tipos de quarto:\n",
    "\n",
    "Primeiro vamos descobrir quais são os tipos mais recorrentes de quarto e em seguida o valor médio em log da locação de cada tipo. "
   ]
  },
  {
   "cell_type": "code",
   "execution_count": 13,
   "metadata": {},
   "outputs": [],
   "source": [
    "#Vamos descobrir a quantidade de cada tipo de quarto existe nos dados:\n",
    "Tipo_quarto = df.room_type.value_counts()"
   ]
  },
  {
   "cell_type": "code",
   "execution_count": 14,
   "metadata": {},
   "outputs": [],
   "source": [
    "#Criando listas vazias para cada tipo de quarto:\n",
    "entire, private, shared = [],[],[]\n",
    "\n",
    "#Vamos usar um loop para percorrer nosso dataframe:\n",
    "for tipo, preco in zip(df['room_type'],df['log_price']):\n",
    "    if tipo == \"Entire home/apt\":\n",
    "        entire.append(preco)\n",
    "    elif tipo == \"Private room\":\n",
    "        private.append(preco)\n",
    "    elif tipo == \"Shared room\":\n",
    "        shared.append(preco)"
   ]
  },
  {
   "cell_type": "code",
   "execution_count": 15,
   "metadata": {},
   "outputs": [],
   "source": [
    "colors = sns.color_palette('gist_heat')"
   ]
  },
  {
   "cell_type": "code",
   "execution_count": 16,
   "metadata": {},
   "outputs": [
    {
     "data": {
      "image/png": "[encoded data removed]",
      "text/plain": [
       "<Figure size 720x432 with 1 Axes>"
      ]
     },
     "metadata": {},
     "output_type": "display_data"
    }
   ],
   "source": [
    "#Criando um gráfico com os dados:\n",
    "plot = Tipo_quarto.plot(kind ='barh', figsize = (10, 6), color = colors, alpha = 0.8, align ='center')\n",
    "plt.title(\"\\nTipos de quarto mais frequentes de Airbnb\\n\", fontsize=18)\n",
    "plt.xlabel('Quantidade')\n",
    "plt.tight_layout()\n",
    "\n",
    "#Criando a tabela de informações ao lado do gráfico:\n",
    "plt.figtext(1.01, 0.8, \"Preços médios (log):\", fontsize=16, va='center', ha='left')\n",
    "plt.figtext(1.01, 0.7, \"Shared room: {:.2f}\".format(np.mean(shared)), fontsize=14, va='center', ha='left')\n",
    "plt.figtext(1.01, 0.6, \"Private room: {:.2f}\".format(np.mean(private)), fontsize=14, va='center', ha='left')\n",
    "plt.figtext(1.01, 0.5, \"Entire room: {:.2f}\".format(np.mean(entire)), fontsize=14, va='center', ha='left')\n",
    "plt.show()"
   ]
  },
  {
   "cell_type": "markdown",
   "metadata": {},
   "source": [
    "Percebemos que a quantidade disponível de cada tipo de quarto está relacionada com o preço médio, de forma que, quanto maior for o preço médio maior a quantidade de Airbnb."
   ]
  },
  {
   "cell_type": "markdown",
   "metadata": {},
   "source": [
    "...<br>\n",
    "\n",
    "\n",
    "#### Vamos análisar nos tipos de propriedade:\n",
    "\n",
    "Assim como no item anterior, será estudado os tipos mais frequentes e seus valores médios de locação."
   ]
  },
  {
   "cell_type": "code",
   "execution_count": 17,
   "metadata": {},
   "outputs": [],
   "source": [
    "#Criando listas vazias para cada tipo de propriedade:\n",
    "apartment, house, condominium, townhouse, loft = [],[],[],[],[]\n",
    "#Criando Variáveis nulas para cada tipo de propriedade:\n",
    "apartment_contador, house_contador, condominium_contador, townhouse_contador, loft_contador = 0,0,0,0,0\n",
    "\n",
    "#Vamos usar um loop para percorrer nosso dataframe:\n",
    "for tipo, preco in zip(df['property_type'],df['log_price']):\n",
    "    if tipo == \"Apartment\":\n",
    "        apartment.append(preco)\n",
    "        apartment_contador+=1\n",
    "    elif tipo == \"House\":\n",
    "        house.append(preco)\n",
    "        house_contador+=1\n",
    "    elif tipo == \"Condominium\":\n",
    "        condominium.append(preco)\n",
    "        condominium_contador+=1\n",
    "    elif tipo == \"Townhouse\":\n",
    "        townhouse.append(preco)\n",
    "        townhouse_contador+=1\n",
    "    elif tipo == \"Loft\":\n",
    "        loft.append(preco)\n",
    "        loft_contador+=1\n",
    "        \n",
    "#Criando uma variável para atribuir o valor de total dentre os 5 tipos mais recorrentes:\n",
    "Total_propriedades = apartment_contador + house_contador + condominium_contador + townhouse_contador + loft_contador"
   ]
  },
  {
   "cell_type": "code",
   "execution_count": 18,
   "metadata": {
    "scrolled": true
   },
   "outputs": [
    {
     "data": {
      "text/markdown": [
       "### Preços médios de cada tipo (log):"
      ],
      "text/plain": [
       "<IPython.core.display.Markdown object>"
      ]
     },
     "metadata": {},
     "output_type": "display_data"
    },
    {
     "name": "stdout",
     "output_type": "stream",
     "text": [
      " Apartment:  4.76\n",
      " House:      4.77\n",
      " Condominium:4.96\n",
      " Townhouse:  4.81\n",
      " Loft:       5.00\n"
     ]
    },
    {
     "data": {
      "text/markdown": [
       "### Porcentagem dos 5 tipos mais comuns:"
      ],
      "text/plain": [
       "<IPython.core.display.Markdown object>"
      ]
     },
     "metadata": {},
     "output_type": "display_data"
    },
    {
     "name": "stdout",
     "output_type": "stream",
     "text": [
      " Apartment:  67.6%\n",
      " House:      24.1%\n",
      " Condominium:3.8%\n",
      " Townhouse:  2.6%\n",
      " Loft:       1.9%\n"
     ]
    }
   ],
   "source": [
    "#Vamos imprimir os preços médios:\n",
    "markdown_text = \"### Preços médios de cada tipo (log):\"\n",
    "display(Markdown(markdown_text))\n",
    "print(\" Apartment:  {:.2f}\\n\".format(np.mean(apartment)),\n",
    "      \"House:      {:.2f}\\n\".format(np.mean(house)),\n",
    "      \"Condominium:{:.2f}\\n\".format(np.mean(condominium)),\n",
    "      \"Townhouse:  {:.2f}\\n\".format(np.mean(townhouse)),\n",
    "      \"Loft:       {:.2f}\".format(np.mean(loft)))\n",
    "\n",
    "#Vamos imprimir a porcentagem de cada tipo:\n",
    "markdown_text = \"### Porcentagem dos 5 tipos mais comuns:\"\n",
    "display(Markdown(markdown_text))\n",
    "print(\" Apartment:  {0:.1f}%\\n\".format((apartment_contador/Total_propriedades)*100),\n",
    "      \"House:      {0:.1f}%\\n\".format((house_contador/Total_propriedades)*100),\n",
    "      \"Condominium:{0:.1f}%\\n\".format((condominium_contador/Total_propriedades)*100),\n",
    "      \"Townhouse:  {0:.1f}%\\n\".format((townhouse_contador/Total_propriedades)*100),\n",
    "      \"Loft:       {0:.1f}%\".format((loft_contador/Total_propriedades)*100))"
   ]
  },
  {
   "cell_type": "markdown",
   "metadata": {},
   "source": [
    "Desse modo, é possível identificar os 5 tipos de propriedade mais comuns, também que quanto maior a quantidade de Airbnbs de cada tipo de propriedade, menor vai ser o preço médio."
   ]
  },
  {
   "cell_type": "markdown",
   "metadata": {},
   "source": [
    "...\n",
    "\n",
    "#### Vamos analisar se as cidades com mais Airbnb tem disparidade de preço:\n",
    "\n",
    "O código a seguir já pressupõe a execução de um método `value_counts()` para identificar as cinco cidades com maior oferta."
   ]
  },
  {
   "cell_type": "code",
   "execution_count": 19,
   "metadata": {},
   "outputs": [],
   "source": [
    "#Criando listas vazias para cada  cidade:\n",
    "city_nyc, city_la, city_sf, city_dc, city_chicago = [],[],[],[],[]\n",
    "\n",
    "#Vamos usar um loop para percorrer nosso dataframe:\n",
    "for city, price in zip(df['city'],df['log_price']):\n",
    "    if city == \"NYC\":\n",
    "        city_nyc.append(price)\n",
    "    elif city == \"LA\":\n",
    "        city_la.append(price)\n",
    "    elif city == \"SF\":\n",
    "        city_sf.append(price)\n",
    "    elif city == \"DC\":\n",
    "        city_dc.append(price)\n",
    "    elif city == \"Chicago\":\n",
    "        city_chicago.append(price)"
   ]
  },
  {
   "cell_type": "code",
   "execution_count": 20,
   "metadata": {
    "scrolled": false
   },
   "outputs": [
    {
     "data": {
      "image/png": "[encoded data removed]",
      "text/plain": [
       "<Figure size 720x432 with 1 Axes>"
      ]
     },
     "metadata": {},
     "output_type": "display_data"
    }
   ],
   "source": [
    "#Criando um gráfico com os dados:\n",
    "fig, ax = plt.subplots(figsize=(10, 6))\n",
    "sns.kdeplot(data=[city_nyc, city_la, city_sf, city_dc, city_chicago], fill=True, ax=ax,\n",
    "            palette=[colors[0], colors[1], colors[2], colors[3], colors[4]], multiple='stack')\n",
    "ax.set_xlim(2, 8)\n",
    "plt.title(\"\\nPreços nas cidades com mais Airbnb\\n\", fontsize=18)\n",
    "plt.ylabel('Densidade')\n",
    "plt.xlabel('Preço (log)')\n",
    "ax.legend(['CHI', 'DC', 'SF', 'LA', 'NYC'])\n",
    "plt.tight_layout()\n",
    "\n",
    "#Criando a tabela de informações ao lado do gráfico:\n",
    "plt.figtext(1.01, 0.8, \"Number of Airbnbs:\", fontsize=16, va='center', ha='left')\n",
    "plt.figtext(1.01, 0.7, \"NYC: {:.0f}\".format(df.city.value_counts()[0]), fontsize=14, va='center', ha='left')\n",
    "plt.figtext(1.01, 0.6, \"LA: {:.0f}\".format(df.city.value_counts()[1]), fontsize=14, va='center', ha='left')\n",
    "plt.figtext(1.01, 0.5, \"SF: {:.0f}\".format(df.city.value_counts()[2]), fontsize=14, va='center', ha='left')\n",
    "plt.figtext(1.01, 0.4, \"DC: {:.0f}\".format(df.city.value_counts()[3]), fontsize=14, va='center', ha='left')\n",
    "plt.figtext(1.01, 0.3, \"CHI: {:.0f}\".format(df.city.value_counts()[4]), fontsize=14, va='center', ha='left')\n",
    "plt.show()"
   ]
  },
  {
   "cell_type": "markdown",
   "metadata": {},
   "source": [
    "Nesta análise comparativa das cinco cidades com maior presença de Airbnbs, observamos que existe uma diferença notável de densidade de locais da plataforma de hospedagem. Ao estudar as distribuições, é possíivel afirmar que a quarta e quinta cidades apresentam maior simetria, ja as três primeiras tem uma leve assimetria a esquerda, mas ainda bastante simetricas.\n",
    "\n",
    "Além disso, o número expressivo de Airbnbs em uma determinada cidade não necessariamente implica uma variação substancial nos valores de locação. Este achado desafia expectativas e destaca a complexidade dos fatores que influenciam os preços de aluguel, indo além da simples oferta e demanda."
   ]
  },
  {
   "cell_type": "markdown",
   "metadata": {},
   "source": [
    "...\n",
    "\n",
    "\n",
    "#### Vamos analisar o se as reviews tem influência no preço:"
   ]
  },
  {
   "cell_type": "code",
   "execution_count": 21,
   "metadata": {},
   "outputs": [],
   "source": [
    "#Criando 5 listas para as reviews:\n",
    "review1, review2, review3, review4, review5 = [],[],[],[],[]\n",
    "rcount1, rcount2, rcount3, rcount4, rcount5 = 0,0,0,0,0\n",
    "\n",
    "#Vamos usar um loop para percorrer nosso dataframe:\n",
    "for r, price in zip(df['review_scores_rating'],df['log_price']):\n",
    "    if r <= 20:\n",
    "        review1.append(price)\n",
    "        rcount1 += 1\n",
    "    elif r > 20 and r <= 40:\n",
    "        review2.append(price)\n",
    "        rcount2 += 1\n",
    "    elif r > 40 and r <= 60:\n",
    "        review3.append(price)\n",
    "        rcount3 += 1\n",
    "    elif r > 60 and r <= 80:\n",
    "        review4.append(price)\n",
    "        rcount4 += 1\n",
    "    elif r > 80 and r <= 100:\n",
    "        review5.append(price)\n",
    "        rcount5 += 1"
   ]
  },
  {
   "cell_type": "code",
   "execution_count": 22,
   "metadata": {},
   "outputs": [
    {
     "data": {
      "image/png": "[encoded data removed]",
      "text/plain": [
       "<Figure size 720x432 with 1 Axes>"
      ]
     },
     "metadata": {},
     "output_type": "display_data"
    }
   ],
   "source": [
    "#Criando uma lista para atribuir os preços em cada categoria:\n",
    "reviews = [review1, review2, review3, review4, review5]\n",
    "#Criando uma lista com a quantidade de reviews em cada categoria:\n",
    "rcounts = [rcount1, rcount2, rcount3, rcount4, rcount5]\n",
    "#Criando uma lista com as labels:\n",
    "stars = [\"1 Star\", \"2 Stars\", \"3 Stars\", \"4 Stars\", \"5 Stars\"]\n",
    "\n",
    "#Criando um gráfico com os dados:\n",
    "plt.figure(figsize=(10, 6))\n",
    "sns.boxplot(data=reviews, orient=\"h\", palette='gist_heat')\n",
    "plt.yticks(ticks=range(5), labels=stars)\n",
    "plt.title('\\nBox Plot - Preço x Reviews\\n', fontsize=18)\n",
    "plt.xlabel(\"Preço (em log)\")\n",
    "plt.tight_layout()\n",
    "\n",
    "#Criando a tabela de informações ao lado do gráfico:\n",
    "plt.figtext(1.01, 0.8, \"Preços médios (log):\", fontsize=16, va='center', ha='left')\n",
    "plt.figtext(1.01, 0.7, \"1 Star: {:.2f}\".format(np.mean(review1)), fontsize=14, va='center', ha='left')\n",
    "plt.figtext(1.01, 0.6, \"2 Star: {:.2f}\".format(np.mean(review2)), fontsize=14, va='center', ha='left')\n",
    "plt.figtext(1.01, 0.5, \"3 Star: {:.2f}\".format(np.mean(review3)), fontsize=14, va='center', ha='left')\n",
    "plt.figtext(1.01, 0.4, \"4 Star: {:.2f}\".format(np.mean(review4)), fontsize=14, va='center', ha='left')\n",
    "plt.figtext(1.01, 0.3, \"5 Star: {:.2f}\".format(np.mean(review5)), fontsize=14, va='center', ha='left')\n",
    "plt.show()"
   ]
  },
  {
   "cell_type": "markdown",
   "metadata": {},
   "source": [
    "Nesta análise por meio de boxplots, foram explorados os preços relacionados às avaliações correspondentes de 1 a 5 estrelas. Notavelmente, observa-se uma relativa uniformidade nos valores apresentados pelos boxplots, indicando uma variação limitada nos preços associados a diferentes classificações. Essa consistência sugere que a pontuação das avaliações não é um fator determinante significativo nos preços de locação.\n",
    "\n",
    "Além disso, ao analisar o preço médio das locações e as avaliações, observamos que não há uma relação clara entre esses dois aspectos."
   ]
  },
  {
   "cell_type": "markdown",
   "metadata": {},
   "source": [
    "...<br>\n",
    "\n",
    "\n",
    "#### Vamos descobrir algumas correlações:"
   ]
  },
  {
   "cell_type": "code",
   "execution_count": 23,
   "metadata": {},
   "outputs": [
    {
     "data": {
      "image/png": "[encoded data removed]",
      "text/plain": [
       "<Figure size 432x288 with 2 Axes>"
      ]
     },
     "metadata": {},
     "output_type": "display_data"
    }
   ],
   "source": [
    "#Fazendo a correlação:\n",
    "corr = df.corr()\n",
    "#Vamos usar o seaborn para analisar as correlações mais uma vez:\n",
    "sns.heatmap(corr, xticklabels=corr.columns.values, yticklabels=corr.columns.values, cmap = 'RdBu_r', center=0);"
   ]
  },
  {
   "cell_type": "code",
   "execution_count": 24,
   "metadata": {},
   "outputs": [
    {
     "data": {
      "text/html": [
       "<div>\n",
       "<style scoped>\n",
       "    .dataframe tbody tr th:only-of-type {\n",
       "        vertical-align: middle;\n",
       "    }\n",
       "\n",
       "    .dataframe tbody tr th {\n",
       "        vertical-align: top;\n",
       "    }\n",
       "\n",
       "    .dataframe thead th {\n",
       "        text-align: right;\n",
       "    }\n",
       "</style>\n",
       "<table border=\"1\" class=\"dataframe\">\n",
       "  <thead>\n",
       "    <tr style=\"text-align: right;\">\n",
       "      <th></th>\n",
       "      <th>log_price</th>\n",
       "      <th>accommodates</th>\n",
       "      <th>bathrooms</th>\n",
       "      <th>cleaning_fee</th>\n",
       "      <th>beds</th>\n",
       "      <th>host_response_rate</th>\n",
       "      <th>bedrooms</th>\n",
       "    </tr>\n",
       "  </thead>\n",
       "  <tbody>\n",
       "    <tr>\n",
       "      <th>log_price</th>\n",
       "      <td>1.0</td>\n",
       "      <td>0.594578</td>\n",
       "      <td>0.345265</td>\n",
       "      <td>0.170305</td>\n",
       "      <td>0.462411</td>\n",
       "      <td>0.002971</td>\n",
       "      <td>0.502518</td>\n",
       "    </tr>\n",
       "  </tbody>\n",
       "</table>\n",
       "</div>"
      ],
      "text/plain": [
       "           log_price  accommodates  bathrooms  cleaning_fee      beds  \\\n",
       "log_price        1.0      0.594578   0.345265      0.170305  0.462411   \n",
       "\n",
       "           host_response_rate  bedrooms  \n",
       "log_price            0.002971  0.502518  "
      ]
     },
     "execution_count": 24,
     "metadata": {},
     "output_type": "execute_result"
    }
   ],
   "source": [
    "#Criando um datafreame com nossas variáveis quantitativas para calcular a correlação entre elas:\n",
    "corr_log = df[['log_price', 'accommodates', 'bathrooms', 'cleaning_fee', 'beds','host_response_rate','bedrooms']]\n",
    "#Calculando a correlação:\n",
    "corr_log.corr().head(1)"
   ]
  },
  {
   "cell_type": "markdown",
   "metadata": {},
   "source": [
    "<br>\n",
    "\n",
    "A tabela acima revela correlações moderadas entre o preço e variáveis como a quantidade de camas, a quantidade de banheiros e a capacidade de acomodação. Esses são as variaveis mais importantes, pois exercem influência direta sobre os preços. Em contraste, outras correlações apresentam-se pouco relevantes como dos reviews realizados, conforme evidenciado no boxplot anterior."
   ]
  },
  {
   "cell_type": "markdown",
   "metadata": {},
   "source": [
    "...\n",
    "\n",
    "\n",
    "### 2.3 Análise pelo Sweetviz:\n",
    "\n",
    "Normalmente usada para realizar uma análise exploratória mais completa de maneira rápida e intuitiva, criando uma análise dos dados do DataFrame através do Pandas. Em seguida é aberta como uma nova aba do navegador.\n",
    "\n",
    "A ferramenta requer uma intalação:"
   ]
  },
  {
   "cell_type": "markdown",
   "metadata": {},
   "source": [
    "**PIP INSTALL**<br>\n",
    "Para instalar através do PIP, descomente o comando:\n"
   ]
  },
  {
   "cell_type": "code",
   "execution_count": 25,
   "metadata": {},
   "outputs": [],
   "source": [
    "#pip install sweetviz"
   ]
  },
  {
   "cell_type": "markdown",
   "metadata": {},
   "source": [
    "#### Para acessar a análise da ferramente descomente as linhas a seguir:"
   ]
  },
  {
   "cell_type": "code",
   "execution_count": 26,
   "metadata": {},
   "outputs": [],
   "source": [
    "#import sweetviz as sv\n",
    "\n",
    "#my_report = sv.analyze(df)\n",
    "#my_report.show_notebook()"
   ]
  },
  {
   "cell_type": "markdown",
   "metadata": {},
   "source": [
    "___\n",
    "## 3. Modelos de predição"
   ]
  },
  {
   "cell_type": "markdown",
   "metadata": {},
   "source": [
    "Adequando nosso dataframe para as predições:"
   ]
  },
  {
   "cell_type": "code",
   "execution_count": 27,
   "metadata": {},
   "outputs": [],
   "source": [
    "#Tirando colunas que não vamos precisar:\n",
    "df_pred = df_modelos.drop([\"log_price\"],axis=1)"
   ]
  },
  {
   "cell_type": "code",
   "execution_count": 28,
   "metadata": {},
   "outputs": [],
   "source": [
    "#Importando bibliotecas para usar no statsmodel:\n",
    "from sklearn.linear_model import LinearRegression\n",
    "with warnings.catch_warnings():\n",
    "    warnings.simplefilter('ignore')\n",
    "    import statsmodels.api as sm\n",
    "\n",
    "#Estabelecendo variável random_seed:\n",
    "RANDOM_SEED = 10\n",
    "np.random.seed(RANDOM_SEED)"
   ]
  },
  {
   "cell_type": "code",
   "execution_count": 29,
   "metadata": {},
   "outputs": [],
   "source": [
    "#Dividindo os dados do dataframe em teste e treino:\n",
    "X_train, X_test, y_train, y_test = train_test_split(df_pred, df_modelos.log_price, test_size = 0.33,random_state = RANDOM_SEED)"
   ]
  },
  {
   "cell_type": "markdown",
   "metadata": {
    "collapsed": true
   },
   "source": [
    "<br>\n",
    "<br>\n",
    "\n",
    "- **`MODELO DE PREDIÇÃO PELA MÉDIA`**` (Sem uso de variável explicativa)`"
   ]
  },
  {
   "cell_type": "code",
   "execution_count": 30,
   "metadata": {},
   "outputs": [],
   "source": [
    "#Precisamos separar uma vez específica a nossa base de dados em treino e teste, porque precisamos que todos tenham o preço:\n",
    "X_train_2, X_test_2, y_train_2, y_test_2 = train_test_split(df, df, test_size = 0.33,random_state = RANDOM_SEED)\n",
    "#Criando uma função para calcular o r_squared:\n",
    "def r_2(y_test, y_train):\n",
    "    a = 0\n",
    "    b = 0\n",
    "    #Vamos usar um loop para atribuir os valores nas variáveis:\n",
    "    for i in y_train[\"log_price\"]:\n",
    "        a += (i - np.mean(y_train[\"log_price\"]))**2\n",
    "        b += (i - np.mean(y_test[\"log_price\"]))**2\n",
    "    #Retornando o valor do r squared:\n",
    "    return 1-(a/b)"
   ]
  },
  {
   "cell_type": "code",
   "execution_count": 31,
   "metadata": {},
   "outputs": [
    {
     "name": "stdout",
     "output_type": "stream",
     "text": [
      "R2: 0.0000019\n",
      "RMS: 0.0014\n"
     ]
    }
   ],
   "source": [
    "#Vamos usar a função para calcular o r squared:\n",
    "R2_MEAN = r_2(y_test_2,y_train_2)\n",
    "#A partir do nosso r squared vamos calcular o rms:\n",
    "RMS_Mean = np.sqrt(R2_MEAN)\n",
    "#Descobrindo a qualidade do modelo de predição:\n",
    "print(\"R2: {:.7f}\".format(R2_MEAN))\n",
    "\n",
    "print(\"RMS: {:.4f}\".format(RMS_Mean))"
   ]
  },
  {
   "cell_type": "markdown",
   "metadata": {
    "collapsed": true
   },
   "source": [
    "<br>\n",
    "<br>\n",
    "\n",
    "- **`MODELO DOS K VIZINHOS MAIS PRÓXIMOS`**` (K-Nearest Neighbors Regression)`"
   ]
  },
  {
   "cell_type": "code",
   "execution_count": 32,
   "metadata": {},
   "outputs": [],
   "source": [
    "#Importando as bibliotecas necessárias para esse modelo:\n",
    "from sklearn.neighbors import KNeighborsRegressor"
   ]
  },
  {
   "cell_type": "code",
   "execution_count": 33,
   "metadata": {
    "scrolled": true
   },
   "outputs": [],
   "source": [
    "# Chamando o classificador:\n",
    "knn = KNeighborsRegressor(n_neighbors=3)\n",
    "\n",
    "#Fazendo um fit nos dados de treino(treinando o algoritmo):\n",
    "knn.fit(X_train, y_train)\n",
    "\n",
    "knn_pred = knn.predict(X_test)"
   ]
  },
  {
   "cell_type": "code",
   "execution_count": 34,
   "metadata": {},
   "outputs": [
    {
     "name": "stdout",
     "output_type": "stream",
     "text": [
      "R2: 0.44\n",
      "RMS: 0.66\n"
     ]
    }
   ],
   "source": [
    "#Descobrindo a qualidade do modelo de predição:\n",
    "knn_test = r2_score(y_test, knn_pred)\n",
    "print('R2: {:.2f}'.format(knn_test))\n",
    "\n",
    "\n",
    "RMS_K_Nearest = np.sqrt(np.mean(knn_test))\n",
    "print(\"RMS: {:.2f}\".format(RMS_K_Nearest))"
   ]
  },
  {
   "cell_type": "markdown",
   "metadata": {
    "collapsed": true
   },
   "source": [
    "<br>\n",
    "<br>\n",
    "\n",
    "- **`MODELO DE REGRESSÃO LINEAR`**` (Multiple Linear Regression)`"
   ]
  },
  {
   "cell_type": "code",
   "execution_count": 35,
   "metadata": {},
   "outputs": [],
   "source": [
    "#Importando as bibliotecas necessárias para esse modelo:\n",
    "from sklearn.linear_model import LinearRegression"
   ]
  },
  {
   "cell_type": "code",
   "execution_count": 36,
   "metadata": {},
   "outputs": [],
   "source": [
    "#Chamando o classificador com o statsmodel:\n",
    "linear = LinearRegression()\n",
    "Xc = sm.add_constant(X_test)\n",
    "model = sm.OLS(y_test,Xc)\n",
    "results = model.fit()\n",
    "\n",
    "linear_test=results.rsquared\n",
    "\n",
    "#results.summary()"
   ]
  },
  {
   "cell_type": "code",
   "execution_count": 37,
   "metadata": {},
   "outputs": [
    {
     "name": "stdout",
     "output_type": "stream",
     "text": [
      "R2: 0.75\n",
      "RMS: 0.86\n"
     ]
    }
   ],
   "source": [
    "#Descobrindo a qualidade do modelo de predição:\n",
    "print(\"R2: {:.2f}\".format(results.rsquared))\n",
    "\n",
    "RMS_Linear_Regression = np.sqrt(np.mean(results.rsquared))\n",
    "print(\"RMS: {:.2f}\".format(RMS_Linear_Regression))"
   ]
  },
  {
   "cell_type": "markdown",
   "metadata": {
    "collapsed": true
   },
   "source": [
    "<br>\n",
    "<br>\n",
    "\n",
    "- **`MODELO DE ÁRVORES DE REGRESSÃO`**` (Decision Tree Regression)`"
   ]
  },
  {
   "cell_type": "code",
   "execution_count": 38,
   "metadata": {},
   "outputs": [],
   "source": [
    "#Importando as bibliotecas necessárias para esse modelo:\n",
    "from sklearn.tree import DecisionTreeRegressor"
   ]
  },
  {
   "cell_type": "code",
   "execution_count": 39,
   "metadata": {
    "scrolled": true
   },
   "outputs": [],
   "source": [
    "#Chamando o classificador:\n",
    "tree = DecisionTreeRegressor()\n",
    "\n",
    "#Fazendo um fit nos dados de treino:\n",
    "tree.fit(X_train, y_train)   \n",
    "\n",
    "tree_pred = tree.predict(X_test)"
   ]
  },
  {
   "cell_type": "code",
   "execution_count": 40,
   "metadata": {},
   "outputs": [
    {
     "name": "stdout",
     "output_type": "stream",
     "text": [
      "R2: 0.50\n",
      "RMS: 0.71\n"
     ]
    }
   ],
   "source": [
    "#Descobrindo a qualidade do modelo de predição:\n",
    "tree_test = r2_score(y_test, tree_pred)\n",
    "print(\"R2: {:.2f}\".format(tree_test))\n",
    "\n",
    "\n",
    "RMS_Tree_Regression = np.sqrt(np.mean(tree_test))\n",
    "print(\"RMS: {:.2f}\".format(RMS_Tree_Regression))"
   ]
  },
  {
   "cell_type": "markdown",
   "metadata": {},
   "source": [
    "<br>\n",
    "<br>\n",
    "\n",
    "- **`MODELO RANDOM FOREST`**"
   ]
  },
  {
   "cell_type": "code",
   "execution_count": 41,
   "metadata": {},
   "outputs": [],
   "source": [
    "#Importando as bibliotecas necessárias para esse modelo:\n",
    "from sklearn.ensemble import RandomForestRegressor"
   ]
  },
  {
   "cell_type": "code",
   "execution_count": 42,
   "metadata": {},
   "outputs": [],
   "source": [
    "#Chamando o RandomForestClassifier:\n",
    "model = RandomForestRegressor()\n",
    "\n",
    "#Fazendo um fit nos dados de treino:\n",
    "model.fit(X_train, y_train)\n",
    "\n",
    "random_pred = model.predict(X_test)"
   ]
  },
  {
   "cell_type": "code",
   "execution_count": 43,
   "metadata": {},
   "outputs": [
    {
     "name": "stdout",
     "output_type": "stream",
     "text": [
      "R2: 0.71\n",
      "RMS: 0.84\n"
     ]
    }
   ],
   "source": [
    "#Descobrindo a qualidade do modelo de predição:\n",
    "random_test = r2_score(y_test, random_pred)\n",
    "print('R2: {:.2f}'.format(random_test))\n",
    "\n",
    "\n",
    "RMS_RANDOM_FOREST = np.sqrt(np.mean(random_test))\n",
    "print(\"RMS: {:.2f}\".format(RMS_RANDOM_FOREST))"
   ]
  },
  {
   "cell_type": "markdown",
   "metadata": {},
   "source": [
    "### 3.1 Comparação dos modelos\n",
    "\n",
    "Esta seção é dedicada à comparação dos modelos de regressão, com o objetivo de facilitar a avaliação e analisae do desempenho de diferentes algoritmos de regressão para determinar qual oferece a melhor solução para o problema em questão."
   ]
  },
  {
   "cell_type": "code",
   "execution_count": 44,
   "metadata": {},
   "outputs": [],
   "source": [
    "#Atribuindo os valores em listas para plotarmos uma tabela mais tarde:\n",
    "Valores_r2 = [R2_MEAN, knn_test,linear_test,tree_test,random_test]\n",
    "Valores_rms = [RMS_Mean, RMS_K_Nearest,RMS_Linear_Regression,RMS_Tree_Regression,RMS_RANDOM_FOREST]"
   ]
  },
  {
   "cell_type": "code",
   "execution_count": 45,
   "metadata": {},
   "outputs": [],
   "source": [
    "#Criando um dicionario com a nossa tabela:\n",
    "TABELA = {\"Regressões\":[\"MÉDIA\",\"KNN\",\"LINEAR\",\"TREE\",\"FOREST\"],'$R^2$':Valores_r2,\"$RMS$\":Valores_rms}"
   ]
  },
  {
   "cell_type": "code",
   "execution_count": 46,
   "metadata": {},
   "outputs": [
    {
     "data": {
      "text/html": [
       "<div>\n",
       "<style scoped>\n",
       "    .dataframe tbody tr th:only-of-type {\n",
       "        vertical-align: middle;\n",
       "    }\n",
       "\n",
       "    .dataframe tbody tr th {\n",
       "        vertical-align: top;\n",
       "    }\n",
       "\n",
       "    .dataframe thead th {\n",
       "        text-align: right;\n",
       "    }\n",
       "</style>\n",
       "<table border=\"1\" class=\"dataframe\">\n",
       "  <thead>\n",
       "    <tr style=\"text-align: right;\">\n",
       "      <th></th>\n",
       "      <th>$R^2$</th>\n",
       "      <th>$RMS$</th>\n",
       "    </tr>\n",
       "    <tr>\n",
       "      <th>Regressões</th>\n",
       "      <th></th>\n",
       "      <th></th>\n",
       "    </tr>\n",
       "  </thead>\n",
       "  <tbody>\n",
       "    <tr>\n",
       "      <th>MÉDIA</th>\n",
       "      <td>0.000002</td>\n",
       "      <td>0.001363</td>\n",
       "    </tr>\n",
       "    <tr>\n",
       "      <th>KNN</th>\n",
       "      <td>0.436151</td>\n",
       "      <td>0.660418</td>\n",
       "    </tr>\n",
       "    <tr>\n",
       "      <th>LINEAR</th>\n",
       "      <td>0.746610</td>\n",
       "      <td>0.864066</td>\n",
       "    </tr>\n",
       "    <tr>\n",
       "      <th>TREE</th>\n",
       "      <td>0.502708</td>\n",
       "      <td>0.709019</td>\n",
       "    </tr>\n",
       "    <tr>\n",
       "      <th>FOREST</th>\n",
       "      <td>0.712353</td>\n",
       "      <td>0.844010</td>\n",
       "    </tr>\n",
       "  </tbody>\n",
       "</table>\n",
       "</div>"
      ],
      "text/plain": [
       "               $R^2$     $RMS$\n",
       "Regressões                    \n",
       "MÉDIA       0.000002  0.001363\n",
       "KNN         0.436151  0.660418\n",
       "LINEAR      0.746610  0.864066\n",
       "TREE        0.502708  0.709019\n",
       "FOREST      0.712353  0.844010"
      ]
     },
     "execution_count": 46,
     "metadata": {},
     "output_type": "execute_result"
    }
   ],
   "source": [
    "#Trasformando nosso dicionario em uma tebela:\n",
    "tabela = pd.DataFrame.from_dict(TABELA)\n",
    "tabela.set_index(\"Regressões\", inplace=True)\n",
    "#Vamos visualizar nossos resultados:\n",
    "tabela"
   ]
  },
  {
   "cell_type": "markdown",
   "metadata": {},
   "source": [
    "___\n",
    "## 4. Conclusão"
   ]
  },
  {
   "cell_type": "markdown",
   "metadata": {},
   "source": [
    "Devido a análise exploratória, foi observado que o preço apresenta correlações positivas significativas com características como accommodates, bathrooms, beds, e bedrooms. Estes resultados indicam que à medida que essas características específicas aumentam, há uma tendência correspondente de aumento nos preços de aluguel registrados. \n",
    "\n",
    "Ainda, após concluir cada previsão, foram calculados os indicadores cruciais na escolha do melhor modelo preditivo. Destacando a regressão linear como a opção preferencial, apresentando valores de $R^2$ e $RMS$ de 0,75 e 0,86, respectivamente. Este modelo, de acordo com a análise do dataframe, considera de maneira mais abrangente as variáveis que impactam o problema.\n",
    "\n",
    "Os demais modelos exibem valores de $R^2$ e $RMS$ inferiores à regressão linear. O modelo baseado na média é identificado como o menos eficaz, com indicadores próximos de zero, pois não considera nenhuma variável além do próprio preço. Os modelos de previsão da árvore de regressão e do random forest são similares e confiáveis, apresentando $R^2$ e $RMS$ próximos aos da regressão, embora ligeiramente prejudicados pela falta de uma regra exata nos dados do dataframe. O modelo dos k vizinhos é aceitável, mas menos preciso devido ao aumento do número de variáveis, resultando em cálculos excessivos dos vetores usados pelo modelo e dificultando a identificação de padrões relevantes nos dados."
   ]
  },
  {
   "cell_type": "markdown",
   "metadata": {},
   "source": [
    "___\n",
    "## 5. Referências bibliográficas\n",
    "\n",
    "- https://www.mldata.io/tutorials/scikit_knn/\n",
    "- https://www.kaggle.com/pratsiuk/valueerror-unknown-label-type-continuous\n",
    "- https://jakevdp.github.io/PythonDataScienceHandbook/04.14-visualization-with-seaborn.html"
   ]
  }
 ],
 "metadata": {
  "anaconda-cloud": {},
  "kernelspec": {
   "display_name": "Python 3 (ipykernel)",
   "language": "python",
   "name": "python3"
  },
  "language_info": {
   "codemirror_mode": {
    "name": "ipython",
    "version": 3
   },
   "file_extension": ".py",
   "mimetype": "text/x-python",
   "name": "python",
   "nbconvert_exporter": "python",
   "pygments_lexer": "ipython3",
   "version": "3.9.7"
  }
 },
 "nbformat": 4,
 "nbformat_minor": 1
}

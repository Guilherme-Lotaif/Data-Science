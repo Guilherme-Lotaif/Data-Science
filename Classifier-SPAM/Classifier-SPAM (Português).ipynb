{
 "cells": [
  {
   "cell_type": "markdown",
   "metadata": {},
   "source": [
    "\n",
    "#### ____\n",
    "\n",
    "# &nbsp;&nbsp;&nbsp;&nbsp;&nbsp;&nbsp;&nbsp;&nbsp;&nbsp;&nbsp;&nbsp;&nbsp;&nbsp;&nbsp;&nbsp;&nbsp;&nbsp;&nbsp;&nbsp;&nbsp;&nbsp;&nbsp;&nbsp;&nbsp;&nbsp;&nbsp;&nbsp;&nbsp;&nbsp;&nbsp;&nbsp;&nbsp;&nbsp; &nbsp;                        SPAM Classifier - Data Science\n",
    "### &nbsp;&nbsp;&nbsp;&nbsp;&nbsp;&nbsp;&nbsp;&nbsp;&nbsp;&nbsp;&nbsp;&nbsp;&nbsp;&nbsp;&nbsp;&nbsp;&nbsp;&nbsp;&nbsp;&nbsp;&nbsp;&nbsp;&nbsp;&nbsp;&nbsp;&nbsp;&nbsp;&nbsp;&nbsp;&nbsp;&nbsp;&nbsp;&nbsp;&nbsp;&nbsp;&nbsp;&nbsp;&nbsp;&nbsp;&nbsp;&nbsp;&nbsp;&nbsp;&nbsp;&nbsp;&nbsp;&nbsp;&nbsp;&nbsp;&nbsp;&nbsp;&nbsp;&nbsp;&nbsp;&nbsp;&nbsp;&nbsp;&nbsp;&nbsp;&nbsp;&nbsp;&nbsp;&nbsp;&nbsp;&nbsp;&nbsp; Guilherme Tamer Lotaif\n",
    "\n",
    "<br>\n"
   ]
  },
  {
   "cell_type": "markdown",
   "metadata": {},
   "source": [
    "\n",
    "\n",
    "## Introdução\n",
    "\n",
    "Neste projeto,será feita a implementação de um **Classificador Naive-Bayes** para filtragem de e-mails. O objetivo é criar um modelo capaz de analisar o conteúdo de uma mensagem e calcular as probabilidades condicionais de ser SPAM ou HAM. Isso permitirá a classificação automática das mensagens, contribuindo para a eficiência e organização das caixas de entrada.\n",
    "\n",
    "O teorema de Bayes fornece a base matemática para calcular probabilidades condicionais, permitindo-nos estimar a probabilidade de um evento com base em informações prévias. Quando aplicado à classificação de texto, o Classificador Naive-Bayes assume que as palavras em uma mensagem são independentes, uma simplificação que, surpreendentemente, demonstra ser eficaz na prática.\n"
   ]
  },
  {
   "cell_type": "markdown",
   "metadata": {},
   "source": [
    "___\n",
    "\n",
    "### Bibliotecas:"
   ]
  },
  {
   "cell_type": "code",
   "execution_count": 1,
   "metadata": {},
   "outputs": [],
   "source": [
    "#Importando as bibliotecas necessárias:\n",
    "from sklearn.model_selection import train_test_split\n",
    "import matplotlib.pyplot as plt\n",
    "import pandas as pd\n",
    "import numpy as np\n",
    "import sys\n",
    "import os\n",
    "import warnings"
   ]
  },
  {
   "cell_type": "markdown",
   "metadata": {},
   "source": [
    "___\n",
    "## 1. Importação e limpeza dos Arquivos\n",
    "\n",
    "Para obter uma maior performance do algoritimo de previsão temos que: remover alguns caratcteres que não vão ajudar a fazer as previsões, pelo contrário, não remove-los só prejudica a ação do classificador, e outro método de limpeza utilizado é a transformção de todas palavras para letra minúscula, assim eliminando a existência da mesma palavra de diferentes maneiras."
   ]
  },
  {
   "cell_type": "code",
   "execution_count": 2,
   "metadata": {},
   "outputs": [],
   "source": [
    "#Abrindo o arquivo com os emails:\n",
    "df = pd.read_excel('Data/spamham2019.xlsx')"
   ]
  },
  {
   "cell_type": "code",
   "execution_count": 3,
   "metadata": {},
   "outputs": [
    {
     "data": {
      "text/html": [
       "<div>\n",
       "<style scoped>\n",
       "    .dataframe tbody tr th:only-of-type {\n",
       "        vertical-align: middle;\n",
       "    }\n",
       "\n",
       "    .dataframe tbody tr th {\n",
       "        vertical-align: top;\n",
       "    }\n",
       "\n",
       "    .dataframe thead th {\n",
       "        text-align: right;\n",
       "    }\n",
       "</style>\n",
       "<table border=\"1\" class=\"dataframe\">\n",
       "  <thead>\n",
       "    <tr style=\"text-align: right;\">\n",
       "      <th></th>\n",
       "      <th>Email</th>\n",
       "      <th>Class</th>\n",
       "    </tr>\n",
       "  </thead>\n",
       "  <tbody>\n",
       "    <tr>\n",
       "      <th>100</th>\n",
       "      <td>Okay name ur price as long as its legal! Wen c...</td>\n",
       "      <td>ham</td>\n",
       "    </tr>\n",
       "    <tr>\n",
       "      <th>2438</th>\n",
       "      <td>Rightio. 11.48 it is then. Well arent we all u...</td>\n",
       "      <td>ham</td>\n",
       "    </tr>\n",
       "  </tbody>\n",
       "</table>\n",
       "</div>"
      ],
      "text/plain": [
       "                                                  Email Class\n",
       "100   Okay name ur price as long as its legal! Wen c...   ham\n",
       "2438  Rightio. 11.48 it is then. Well arent we all u...   ham"
      ]
     },
     "execution_count": 3,
     "metadata": {},
     "output_type": "execute_result"
    }
   ],
   "source": [
    "#Dataframe do arquivo importado:\n",
    "df.sample(2)"
   ]
  },
  {
   "cell_type": "markdown",
   "metadata": {},
   "source": [
    "...\n",
    "\n",
    "#### implementação daa função destinada à limpeza: \n",
    "Com o propósito de assegurar a integridade e coerência dos dados."
   ]
  },
  {
   "cell_type": "code",
   "execution_count": 4,
   "metadata": {},
   "outputs": [],
   "source": [
    "#Criando a função para remover os caracteres que atrapalham o classificador:\n",
    "def Replacer (emails):\n",
    "    #vamos subtituir cada caractere indesejado por um espaço:\n",
    "    emails = emails.replace(\"*\",\"\")\n",
    "    emails = emails.replace(\"!\",\"\")\n",
    "    emails = emails.replace(\"@\",\"\")\n",
    "    emails = emails.replace(\"#\",\"\")\n",
    "    emails = emails.replace(\"$\",\"\")\n",
    "    emails = emails.replace(\"%\",\"\")\n",
    "    emails = emails.replace(\"&\",\"\")\n",
    "    emails = emails.replace(\"-\",\"\")\n",
    "    emails = emails.replace(\"_\",\"\")\n",
    "    emails = emails.replace(\"+\",\"\")\n",
    "    emails = emails.replace(\"=\",\"\")\n",
    "    emails = emails.replace(\"'\",\"\")\n",
    "    emails = emails.replace(\"?\",\"\")\n",
    "    emails = emails.replace(\";\",\"\")\n",
    "    emails = emails.replace(\",\",\"\")\n",
    "    emails = emails.replace(\".\",\"\")\n",
    "    emails = emails.replace(\":\",\"\")\n",
    "    emails = emails.replace(\")\",\"\")\n",
    "    emails = emails.replace(\"(\",\"\")\n",
    "    emails = emails.replace(\"/\",\"\")\n",
    "    emails = emails.replace('\"',\"\")\n",
    "    emails = emails.replace(\"[\",\"\")\n",
    "    emails = emails.replace(']',\"\")\n",
    "    emails = emails.replace(\"\\ \",\"\")\n",
    "    \n",
    "    #Vamos deixar todas as caracteres em letra minúscula:\n",
    "    emails = emails.lower()\n",
    "    #Vamos separar as palavras de cada email:\n",
    "    emails = emails.split()\n",
    "\n",
    "    return emails"
   ]
  },
  {
   "cell_type": "markdown",
   "metadata": {},
   "source": [
    "___\n",
    "## 2. Separação da base de dados em Treinamento e Teste\n",
    "\n",
    "A base de dados deve ser separada em duas partes, aleatoriamente, considerando: \n",
    "    \n",
    "   - 75% dos dados para a parte Treinamento;\n",
    "   - 25% dos dados para a parte Teste."
   ]
  },
  {
   "cell_type": "code",
   "execution_count": 5,
   "metadata": {},
   "outputs": [],
   "source": [
    "#Particionando o dataframe, com 25% do total para testes:\n",
    "treinamento, teste = train_test_split(df, test_size=0.25) "
   ]
  },
  {
   "cell_type": "code",
   "execution_count": 6,
   "metadata": {
    "scrolled": true
   },
   "outputs": [
    {
     "name": "stdout",
     "output_type": "stream",
     "text": [
      "O dataframe de treinamento possui:\n",
      " HAM: 3620 emails\n",
      " SPAM: 559 emails\n",
      " \n",
      "TOTAL: 4179\n"
     ]
    }
   ],
   "source": [
    "#Analisando quantos emails ham e spam existem no dataframe de treinamento:\n",
    "ham, spam = (treinamento[\"Class\"]).value_counts()\n",
    "total_treino = treinamento[\"Class\"].value_counts().sum()\n",
    "print(\"O dataframe de treinamento possui:\\n\",\"HAM: {0} emails\\n\".format(ham)\n",
    "                                            ,\"SPAM: {0} emails\\n\".format(spam),\"\\nTOTAL: {0}\".format(ham+spam))"
   ]
  },
  {
   "cell_type": "markdown",
   "metadata": {},
   "source": [
    "...\n",
    "#### Separando emails SPAM:"
   ]
  },
  {
   "cell_type": "code",
   "execution_count": 7,
   "metadata": {},
   "outputs": [],
   "source": [
    "#Criando uma lista para as palavras dos emails SPAM:\n",
    "dic_SPAM = {}\n",
    "#Criando a variável contador para o total de palavras SPAM:\n",
    "contador_SPAM = 0\n",
    "\n",
    "#Criando um loop para atribuir os emails SPAM a uma variável:\n",
    "for email in treinamento.Email[treinamento.Class == \"spam\"]:\n",
    "    lista_SPAM = Replacer(email)\n",
    "    #Criando um loop para alocar as palavras de SPAM no dicionário:\n",
    "    for palavra in lista_SPAM:\n",
    "        if palavra not in dic_SPAM:\n",
    "            dic_SPAM[palavra] = 1\n",
    "            contador_SPAM += 1\n",
    "        else:\n",
    "            dic_SPAM[palavra] += 1\n",
    "            contador_SPAM += 1"
   ]
  },
  {
   "cell_type": "code",
   "execution_count": 8,
   "metadata": {},
   "outputs": [
    {
     "name": "stdout",
     "output_type": "stream",
     "text": [
      "Palavras sem repetição: 2611 \n",
      "Total de palavras: 13206\n"
     ]
    }
   ],
   "source": [
    "print(\"Palavras sem repetição: {0}\".format(len(dic_SPAM)),\n",
    "      \"\\nTotal de palavras: {0}\".format(contador_SPAM))"
   ]
  },
  {
   "cell_type": "markdown",
   "metadata": {},
   "source": [
    "#### Separando emails HAM:"
   ]
  },
  {
   "cell_type": "code",
   "execution_count": 9,
   "metadata": {},
   "outputs": [],
   "source": [
    "#Criando uma lista para as palavras dos emails HAM:\n",
    "dic_HAM = {}\n",
    "#Criando a variável contador para o total de palavras HAM:\n",
    "contador_HAM = 0\n",
    "\n",
    "#Criando um loop para atribuir os emails HAM a uma variável:\n",
    "for email in treinamento.Email[treinamento.Class == \"ham\"]:\n",
    "    lista_HAM = Replacer(email)\n",
    "    #Criando um loop para alocar as palavras de HAM no dicionário:\n",
    "    for palavra in lista_HAM:\n",
    "        if palavra not in dic_HAM:\n",
    "            dic_HAM[palavra] = 1\n",
    "            contador_HAM += 1\n",
    "        else:\n",
    "            dic_HAM[palavra] += 1\n",
    "            contador_HAM += 1\n"
   ]
  },
  {
   "cell_type": "code",
   "execution_count": 10,
   "metadata": {},
   "outputs": [
    {
     "name": "stdout",
     "output_type": "stream",
     "text": [
      "Palavras sem repetição: 6494 \n",
      "Total de palavras: 50507\n"
     ]
    }
   ],
   "source": [
    "print(\"Palavras sem repetição: {0}\".format(len(dic_HAM)),\n",
    "      \"\\nTotal de palavras: {0}\".format(contador_HAM))"
   ]
  },
  {
   "cell_type": "markdown",
   "metadata": {},
   "source": [
    "É possivel perceber que por ter uma quantidade muito superior de emails HAM, o seu número de palavras é bem maior, e repetição também é superior do que a dos emails SPAM."
   ]
  },
  {
   "cell_type": "markdown",
   "metadata": {},
   "source": [
    "...\n",
    "\n",
    "**Quantidade total de palavras:**"
   ]
  },
  {
   "cell_type": "code",
   "execution_count": 11,
   "metadata": {},
   "outputs": [
    {
     "name": "stdout",
     "output_type": "stream",
     "text": [
      "Total: 63713 Palavras\n"
     ]
    }
   ],
   "source": [
    "#Vamos contar a quantidade total de palavras:\n",
    "Total_palavras = contador_SPAM + contador_HAM\n",
    "print(\"Total: {0} Palavras\".format(Total_palavras))"
   ]
  },
  {
   "cell_type": "markdown",
   "metadata": {},
   "source": [
    "___\n",
    "## 3. Classificador Naive-Bayes\n",
    "\n",
    "O algoritmo Naive-Bayes é um classificador probabilístico baseado no \"Teorema de Bayes\". Ele usa os dados fornecidos para criar uma partição de treinamento e uma de teste, a partir da partição de treinamento o algoritmo analisa os dados , que por sua vez é feita de maneira independente, ou seja, para o algoritmo não existe uma relação de dependecia dos fatores."
   ]
  },
  {
   "cell_type": "markdown",
   "metadata": {},
   "source": [
    "...\n",
    "\n",
    "**Antes de usar o classificador, vamos descobrir algumas probabilidades:**\n",
    "\n",
    "- A probabilidade de uma mensagem ser SPAM, ou seja:<br>\n",
    "\n",
    "    $P(SPAM)$"
   ]
  },
  {
   "cell_type": "code",
   "execution_count": 12,
   "metadata": {},
   "outputs": [
    {
     "name": "stdout",
     "output_type": "stream",
     "text": [
      "13.38%\n"
     ]
    }
   ],
   "source": [
    "#Descobrindo a probabilidade a partir do total de emails SPAM, e do total geral:\n",
    "Pspam = spam/len(treinamento.Email)\n",
    "print(\"{:.2f}%\".format(Pspam*100))"
   ]
  },
  {
   "cell_type": "markdown",
   "metadata": {},
   "source": [
    "- A probabilidade de uma mensagem ser HAM, ou seja:\n",
    "\n",
    "    $P(HAM)$"
   ]
  },
  {
   "cell_type": "code",
   "execution_count": 13,
   "metadata": {},
   "outputs": [
    {
     "name": "stdout",
     "output_type": "stream",
     "text": [
      "86.62%\n"
     ]
    }
   ],
   "source": [
    "#Descobrindo a probabilidade a partir do total de emails HAM, e do total geral:\n",
    "Pham = ham/len(treinamento.Email)\n",
    "print(\"{:.2f}%\".format(Pham*100))"
   ]
  },
  {
   "cell_type": "markdown",
   "metadata": {},
   "source": [
    "- A probabilidade de uma palavra acontecer se a mensagem na base treinamento é considerada SPAM:\n",
    "\n",
    "    $P(Palavra|SPAM)$"
   ]
  },
  {
   "cell_type": "code",
   "execution_count": 14,
   "metadata": {},
   "outputs": [],
   "source": [
    "#Criando a função para descobrir a probabilidade da palavra acontecer dado que a memsagem é SPAM:\n",
    "def P_palavra_spam(palavra):\n",
    "    probabilidade = dic_SPAM[palavra]/contador_SPAM\n",
    "    return probabilidade"
   ]
  },
  {
   "cell_type": "markdown",
   "metadata": {},
   "source": [
    "- A probabilidade de uma palavra acontecer se a mensagem na base treinamento é considerada HAM:\n",
    "\n",
    "    $P(Palavra|HAM)$"
   ]
  },
  {
   "cell_type": "code",
   "execution_count": 15,
   "metadata": {},
   "outputs": [],
   "source": [
    "#Criando a função para descobrir a probabilidade da palavra acontecer dado que a memsagem é HAM:\n",
    "def P_palavra_ham(palavra):\n",
    "    probabilidade = dic_HAM[palavra]/contador_HAM\n",
    "    return probabilidade"
   ]
  },
  {
   "cell_type": "markdown",
   "metadata": {},
   "source": [
    "...\n",
    "\n",
    "**O classificador:** \n",
    "\n",
    "Quando estudamos o que o modelo usa para fazer sua previsão, vemos que ele parte das informações recebidas apriori e da possibilidade, que ele descobre atraves da analise dos dados de treinamento e com isso ele faz sua previsão.<br>\n",
    "Por exemplo:\n",
    "\n",
    "$$P(A|B) = \\frac{P(B|A) \\cdot P(A)}{P(B)}$$\n",
    "\n",
    "Portanto, podemos dizer que:\n",
    "\n",
    "$$P(SPAM|mensagem)=\\frac{P(mensagem|SPAM)\\cdot P(SPAM)}{P(mensagem)}$$\n",
    "<br>\n",
    "\n",
    "Logo, como queremos saber se o email é considerado SPAM ou HAM, podemos dividir um pelo outro.<br>\n",
    "<br>\n",
    "\n",
    "$$\\frac {P(SPAM|mensagem)}{P(HAM|mensagem)}=\\frac {P(mensagem|SPAM)\\cdot P(SPAM)}{P(mensagem|HAM)\\cdot P(SPAM)}$$"
   ]
  },
  {
   "cell_type": "markdown",
   "metadata": {},
   "source": [
    "<br>\n",
    "\n",
    "**Implementando este modelo:**<br>\n",
    "\n",
    "**1)** Primeiro temos que criar uma função para calcular a probabilidade do email ser SPAM ou HAM, a partir dos dados obtidos da base de treinamento."
   ]
  },
  {
   "cell_type": "code",
   "execution_count": 16,
   "metadata": {},
   "outputs": [],
   "source": [
    "#Criando a função para calcular a probabilidade do email ser SPAM ou HAM:\n",
    "def Calculador_de_probabilidade(Dicionario, numero_palavras, mensagem, probabilidade_priori):\n",
    "    email_limpo = Replacer(mensagem)\n",
    "    probabilidade = np.log(probabilidade_priori)\n",
    "    #Criando um loop para analisar as palavras do email, e quantas vezes ela aparece nos dicionários:\n",
    "    for palavra in email_limpo:\n",
    "        Quantidade = 1 #Inicialize a quantidade com 1 para suavização de Laplace\n",
    "        if palavra in Dicionario:\n",
    "            Quantidade += Dicionario[palavra]\n",
    "            #Atribuindo o valor da probabilidade de SPAM ou HAM, a variável \"probabilidade\":\n",
    "        probabilidade += np.log(Quantidade/(numero_palavras + len(Dicionario)))\n",
    "    return probabilidade"
   ]
  },
  {
   "cell_type": "markdown",
   "metadata": {},
   "source": [
    "\n",
    "\n",
    "**2)** Uma vez que ja temos as probabilidades do email ser SPAM ou HAM, a partir da analise de suas palavras pelo algoritmo de bayes, temos que fazer uma comparação entre os dois, para isso vamos criar uma função que a partir das probabilidades calculadas pela função anterior, nos retorna a categoria mais provável do email estar."
   ]
  },
  {
   "cell_type": "code",
   "execution_count": 17,
   "metadata": {},
   "outputs": [],
   "source": [
    "#Criando a função para comparar as probabilidades do email ser SPAM ou HAM, e retornar a mais provável:\n",
    "def Comparador_de_probabilidade(Probabilidade_SPAM, Probabilidade_HAM):\n",
    "    if Probabilidade_SPAM > Probabilidade_HAM:\n",
    "        #Quando a probabilidade de ser SPAM é superior, retorna SPAM:\n",
    "        return \"spam\"\n",
    "    elif Probabilidade_SPAM < Probabilidade_HAM:\n",
    "        #Quando a probabilidade de ser HAM é superior, retorna HAM:\n",
    "        return \"ham\"\n",
    "    else:\n",
    "        #Quando a probabilidade de ser SPAM é igaul a de ser HAM, retorna \"igual\":\n",
    "        return \"=\""
   ]
  },
  {
   "cell_type": "markdown",
   "metadata": {},
   "source": [
    "\n",
    "**3)** Vamos usar as funções montadas anteriormente para analisar e classificar um email:"
   ]
  },
  {
   "cell_type": "code",
   "execution_count": 18,
   "metadata": {},
   "outputs": [
    {
     "name": "stdout",
     "output_type": "stream",
     "text": [
      "Type an email: hello friend\n"
     ]
    }
   ],
   "source": [
    "#Input para o usuário declarar um email para a analise:\n",
    "mensagem = input('Type an email: ')\n",
    "#Utilizando a função para calcular a probablidade de ser SPAM:\n",
    "Probabilidade_SPAM = Calculador_de_probabilidade(dic_SPAM, contador_SPAM, mensagem, Pspam)\n",
    "#Utilizando a função para calcular a probablidade de ser HAM:\n",
    "Probabilidade_HAM = Calculador_de_probabilidade(dic_HAM, contador_HAM, mensagem, Pham)\n",
    "#Utilizando a função para comparar as duas probabilidades, e retornar com o resultado:\n",
    "Resultado = Comparador_de_probabilidade(Probabilidade_SPAM, Probabilidade_HAM)"
   ]
  },
  {
   "cell_type": "code",
   "execution_count": 19,
   "metadata": {},
   "outputs": [
    {
     "name": "stdout",
     "output_type": "stream",
     "text": [
      "['hello', 'friend']\n",
      "\n",
      "Este email é: HAM\n"
     ]
    }
   ],
   "source": [
    "print(Replacer(mensagem))\n",
    "print(\"\\nEste email é: {0}\".format(Resultado.upper()))"
   ]
  },
  {
   "cell_type": "markdown",
   "metadata": {},
   "source": [
    "...\n",
    "\n",
    "**Vamos testar o classificador:**\n",
    "\n",
    "Agora que ja vimos o algoritmo em funcionamento vamos testa-lo com a base de testes que separamos préviamente. Para isso vamos criar uma coluna nova no dataframe com os resultados do classificador."
   ]
  },
  {
   "cell_type": "code",
   "execution_count": 20,
   "metadata": {},
   "outputs": [],
   "source": [
    "#Suprimindo o aviso de copia de dataframe:\n",
    "pd.set_option('chained_assignment',None)"
   ]
  },
  {
   "cell_type": "code",
   "execution_count": 21,
   "metadata": {},
   "outputs": [],
   "source": [
    "#Criando uma lista para guardar os resultados do classificador Naive Bayes:\n",
    "coluna_Resultado = []\n",
    "#Criando um loop para checar o email da base de testes:\n",
    "for mensagem_teste in teste[\"Class\"]:\n",
    "    #Utilizando a função para calcular a probablidade de ser SPAM:\n",
    "    Probabilidade_SPAM_teste = Calculador_de_probabilidade(dic_SPAM, contador_SPAM, mensagem_teste, Pspam)\n",
    "    #Utilizando a função para calcular a probablidade de ser HAM:\n",
    "    Probabilidade_HAM_teste = Calculador_de_probabilidade(dic_HAM, contador_HAM, mensagem_teste, Pham)\n",
    "    #Adicionando na lista os resltados do algoritmo:\n",
    "    coluna_Resultado.append(Comparador_de_probabilidade(Probabilidade_SPAM_teste, Probabilidade_HAM_teste))\n",
    "#Atribuindo todos os reslutados a uma coluna nova no dataframe de testes:\n",
    "teste['Expected'] = coluna_Resultado"
   ]
  },
  {
   "cell_type": "code",
   "execution_count": 22,
   "metadata": {},
   "outputs": [
    {
     "data": {
      "text/html": [
       "<div>\n",
       "<style scoped>\n",
       "    .dataframe tbody tr th:only-of-type {\n",
       "        vertical-align: middle;\n",
       "    }\n",
       "\n",
       "    .dataframe tbody tr th {\n",
       "        vertical-align: top;\n",
       "    }\n",
       "\n",
       "    .dataframe thead th {\n",
       "        text-align: right;\n",
       "    }\n",
       "</style>\n",
       "<table border=\"1\" class=\"dataframe\">\n",
       "  <thead>\n",
       "    <tr style=\"text-align: right;\">\n",
       "      <th></th>\n",
       "      <th>Email</th>\n",
       "      <th>Class</th>\n",
       "      <th>Expected</th>\n",
       "    </tr>\n",
       "  </thead>\n",
       "  <tbody>\n",
       "    <tr>\n",
       "      <th>1068</th>\n",
       "      <td>Someone U know has asked our dating service 2 ...</td>\n",
       "      <td>spam</td>\n",
       "      <td>spam</td>\n",
       "    </tr>\n",
       "    <tr>\n",
       "      <th>1788</th>\n",
       "      <td>Takin a shower now but yeah I'll leave when I'...</td>\n",
       "      <td>ham</td>\n",
       "      <td>ham</td>\n",
       "    </tr>\n",
       "  </tbody>\n",
       "</table>\n",
       "</div>"
      ],
      "text/plain": [
       "                                                  Email Class Expected\n",
       "1068  Someone U know has asked our dating service 2 ...  spam     spam\n",
       "1788  Takin a shower now but yeah I'll leave when I'...   ham      ham"
      ]
     },
     "execution_count": 22,
     "metadata": {},
     "output_type": "execute_result"
    }
   ],
   "source": [
    "teste.sample(2)"
   ]
  },
  {
   "cell_type": "code",
   "execution_count": 23,
   "metadata": {},
   "outputs": [
    {
     "name": "stdout",
     "output_type": "stream",
     "text": [
      "O dataframe possui:\n",
      " - HAM: 1205 Emails\n",
      " - SPAM: 188 Emails\n",
      " \n",
      "TOTAL: 1393\n",
      "\n",
      "O algoritmo retorna:\n",
      " - HAM: 1205 Emails\n",
      " - SPAM 188 Emails\n",
      " \n",
      "TOTAL: 1393\n"
     ]
    }
   ],
   "source": [
    "#Analisando quantos emails ham e spam existem no dataframe de teste:\n",
    "ham_teste, spam_teste = (teste[\"Class\"]).value_counts()\n",
    "total_treino = teste[\"Class\"].value_counts().sum()\n",
    "\n",
    "#Descobrindo os itens de teste:\n",
    "expected_counts = teste[\"Expected\"].value_counts()\n",
    "\n",
    "#Adquirindo os value_counts:\n",
    "ham_expected = expected_counts.get(\"ham\", 0)\n",
    "spam_expected = expected_counts.get(\"spam\", 0)\n",
    "\n",
    "print(\"O dataframe possui:\\n\",\"- HAM: {0} Emails\\n\".format(ham_teste)\n",
    "     ,\"- SPAM: {0} Emails\\n\".format(spam_teste),\"\\nTOTAL: {0}\".format(ham_teste+spam_teste))\n",
    "\n",
    "print(\"\\nO algoritmo retorna:\\n - HAM: {0} Emails\\n\".format(ham_expected)\n",
    "     ,\"- SPAM {0} Emails\\n\".format(spam_expected),\"\\nTOTAL: {0}\".format(ham_expected+spam_expected))"
   ]
  },
  {
   "cell_type": "markdown",
   "metadata": {},
   "source": [
    "Com base em numerosas execuções do código, observa-se que, em casos nos quais o resultado não é correto, é devido ao código considerar todos os emails como HAM. No caso de tal ocorrência, recomenda-se reexecutar o código e comparar os resultados obtidos."
   ]
  },
  {
   "cell_type": "markdown",
   "metadata": {},
   "source": [
    "...\n",
    "\n",
    "**Avaliação de sucessos:**"
   ]
  },
  {
   "cell_type": "code",
   "execution_count": 24,
   "metadata": {},
   "outputs": [],
   "source": [
    "#Criando contadores para o classificador:\n",
    "Falsos_positivos, Positivos_verdadeiros, Falsos_negativos, Negativos_verdadeiros = 0,0,0,0\n",
    "\n",
    "#Criando um loop para comparar os resultados do classificador com a classificação pré-definida:\n",
    "for Class_teste, Expected_teste in zip(teste[\"Class\"], teste[\"Expected\"]):\n",
    "    if Class_teste == \"spam\" and Expected_teste == \"spam\":\n",
    "        Positivos_verdadeiros += 1\n",
    "    elif Class_teste == \"ham\" and Expected_teste == \"spam\":\n",
    "        Falsos_positivos += 1\n",
    "    elif Class_teste == \"spam\" and Expected_teste == \"ham\":\n",
    "        Falsos_negativos += 1\n",
    "    else:\n",
    "        Negativos_verdadeiros += 1"
   ]
  },
  {
   "cell_type": "markdown",
   "metadata": {},
   "source": [
    "<br>\n",
    "\n",
    "- **%** de falsos positivos:"
   ]
  },
  {
   "cell_type": "code",
   "execution_count": 25,
   "metadata": {},
   "outputs": [
    {
     "name": "stdout",
     "output_type": "stream",
     "text": [
      "0.00%\n"
     ]
    }
   ],
   "source": [
    "#Quando o classificador afirma ser SPAM mas deveria ser HAM:\n",
    "print(\"{:.2f}%\".format((Falsos_positivos/len(teste))*100))"
   ]
  },
  {
   "cell_type": "markdown",
   "metadata": {},
   "source": [
    "- **%** de positivos verdadeiros:"
   ]
  },
  {
   "cell_type": "code",
   "execution_count": 26,
   "metadata": {},
   "outputs": [
    {
     "name": "stdout",
     "output_type": "stream",
     "text": [
      "13.50%\n"
     ]
    }
   ],
   "source": [
    "#Quando o classificador afirma ser SPAM de maneira correta:\n",
    "print(\"{:.2f}%\".format((Positivos_verdadeiros/len(teste))*100))"
   ]
  },
  {
   "cell_type": "markdown",
   "metadata": {},
   "source": [
    "- **%** de falsos negativos:"
   ]
  },
  {
   "cell_type": "code",
   "execution_count": 27,
   "metadata": {},
   "outputs": [
    {
     "name": "stdout",
     "output_type": "stream",
     "text": [
      "0.00%\n"
     ]
    }
   ],
   "source": [
    "#Quando o classificador afirma ser HAM mas deveria ser SPAM:\n",
    "print(\"{:.2f}%\".format((Falsos_negativos/len(teste))*100))"
   ]
  },
  {
   "cell_type": "markdown",
   "metadata": {},
   "source": [
    "- **%** de negativos verdadeiros:"
   ]
  },
  {
   "cell_type": "code",
   "execution_count": 28,
   "metadata": {},
   "outputs": [
    {
     "name": "stdout",
     "output_type": "stream",
     "text": [
      "86.50%\n"
     ]
    }
   ],
   "source": [
    "#Quando o classificador afirma ser HAM de maneira correta:\n",
    "print(\"{:.2f}%\".format(((Negativos_verdadeiros/len(teste))*100)))"
   ]
  },
  {
   "cell_type": "markdown",
   "metadata": {},
   "source": [
    "<br>\n",
    "\n",
    "**Será que sua Acurácia esta satisfatória?**<br>\n",
    "Para avaliar a acurácia do algoritmo iremos analisar a quantidade de previsões corretas que o nosso classificador fez, e dividir pela quantidade total das previsões."
   ]
  },
  {
   "cell_type": "code",
   "execution_count": 29,
   "metadata": {},
   "outputs": [],
   "source": [
    "#Criando uma variável para somar a quantidade de previsões corretas:\n",
    "Corretos = 0\n",
    "#Criando um loop para comparar a previsão com a classificação ja existente:\n",
    "for resultado_class, resultado_expected in zip(teste[\"Class\"],teste[\"Expected\"]):\n",
    "    if resultado_class == resultado_expected:\n",
    "        Corretos += 1"
   ]
  },
  {
   "cell_type": "code",
   "execution_count": 30,
   "metadata": {},
   "outputs": [
    {
     "name": "stdout",
     "output_type": "stream",
     "text": [
      "Porcentagem de Acerto: 100.00%\n"
     ]
    }
   ],
   "source": [
    "print(\"Porcentagem de Acerto: {:.2f}%\".format(100*Corretos/len(teste)))"
   ]
  },
  {
   "cell_type": "markdown",
   "metadata": {},
   "source": [
    "### Aptidão do classificador:\n",
    "\n",
    "O código montado para o algoritmo classificador Naive bayes aparenta estar funcionando com exito. Quando testamos a partir da base de teste, vemos pelo dataframe que realmente as previsões estão batendo na maioria dos casos. Porém com a mudança da base de testes a cada vez que rodamos o codigo, ele muda sua acurácia."
   ]
  },
  {
   "cell_type": "markdown",
   "metadata": {},
   "source": [
    "___\n",
    "## 4. Qualidade do Classificador alterando a base de treinamento<br>\n",
    "Essa fase está sendo conduzida com o propósito de investigar se uma modificação na base de treinamento influencia a qualidade do classificador. Neste contexto, estamos reproduzindo as mesmas etapas já executadas até o momento, repetindo o processo de forma iterativa por 10.000 vezes. O objetivo é obter uma quantidade substancial de informações que permita concluir se há, de fato, alguma alteração significativa decorrente dessa mudança."
   ]
  },
  {
   "cell_type": "code",
   "execution_count": 31,
   "metadata": {},
   "outputs": [],
   "source": [
    "#Criando uma lista para atribuir as taxas de acerto cada vez que a base de treinamento e teste forem trocadas:\n",
    "Lista_acertos = []\n",
    "#Criando um loop para rodar todas as etapas necessarias para o classificador funcionar por 10.000 vezes:\n",
    "for e in range(10000):\n",
    "    #Particionando o dataframe, com 25% do total para testes:\n",
    "    treinamento_qualidade, teste_qualidade = train_test_split(df, test_size=0.25) \n",
    "    \n",
    "    #Analisando quantos emails ham e spam existem no dataframe de treinamento:\n",
    "    ham_qualidade, spam_qualidade = (treinamento_qualidade[\"Class\"]).value_counts()\n",
    "    \n",
    "    #Criando uma lista para as palavras dos emails SPAM:\n",
    "    dic_SPAM_2 = {}\n",
    "    #Criando a variável contador para o total de palavras SPAM:\n",
    "    contador_SPAM_2 = 0\n",
    "    \n",
    "    #Criando um loop para atribuir os emails SPAM a uma variável:\n",
    "    for email_treinamento_2 in treinamento_qualidade.Email[treinamento_qualidade.Class == \"spam\"]:\n",
    "        lista_SPAM_2 = Replacer(email_treinamento_2)\n",
    "        \n",
    "        #Criando um loop para alocar as palavras de SPAM no dicionário:\n",
    "        for palavra in lista_SPAM_2:\n",
    "            if palavra not in dic_SPAM_2:\n",
    "                dic_SPAM_2[palavra] =1\n",
    "                contador_SPAM_2 +=1\n",
    "            else:\n",
    "                dic_SPAM_2[palavra] +=1\n",
    "                contador_SPAM_2 +=1\n",
    "                \n",
    "    #Criando uma lista para as palavras dos emails HAM:\n",
    "    dic_HAM_2 = {}\n",
    "    #Criando a variável contador para o total de palavras HAM:\n",
    "    contador_HAM_2 = 0\n",
    "\n",
    "    #Criando um loop para atribuir os emails HAM a uma variável:\n",
    "    for email_treinamento_2 in treinamento_qualidade.Email[treinamento_qualidade.Class == \"ham\"]:\n",
    "        lista_HAM_2 = Replacer(email_treinamento_2)\n",
    "        #Criando um loop para alocar as palavras de HAM no dicionário:\n",
    "        for palavra in lista_HAM_2:\n",
    "            if palavra not in dic_HAM_2:\n",
    "                dic_HAM_2[palavra] =1\n",
    "                contador_HAM_2 +=1\n",
    "            else:\n",
    "                dic_HAM_2[palavra] +=1\n",
    "                contador_HAM_2 +=1\n",
    "    \n",
    "    #Descobrindo a probabilidade a partir do total de emails SPAM, e do total geral:\n",
    "    Pspam_2 = spam_qualidade/len(treinamento_qualidade.Email)\n",
    "    \n",
    "    #Descobrindo a probabilidade a partir do total de emails HAM, e do total geral:\n",
    "    Pham_2 = ham_qualidade/len(treinamento_qualidade.Email)\n",
    "    \n",
    "    #Criando uma lista para guardar os resultados do classificador Naive Bayes:\n",
    "    coluna_Resultado_2 = []\n",
    "    #Criando um loop para checar o email da base de testes: \n",
    "    \n",
    "    for mensagem_2 in teste_qualidade[\"Class\"]:  \n",
    "        #Utilizando a função para calcular a probablidade de ser SPAM:\n",
    "        Probabilidade_SPAM_2 = Calculador_de_probabilidade(dic_SPAM_2, contador_SPAM_2, mensagem_2, Pspam_2)\n",
    "        #Utilizando a função para calcular a probablidade de ser SPAM:\n",
    "        Probabilidade_HAM_2 = Calculador_de_probabilidade(dic_HAM_2, contador_HAM_2, mensagem_2, Pham_2)\n",
    "        #Adicionando na lista os resltados do algoritmo:\n",
    "        coluna_Resultado_2.append(Comparador_de_probabilidade(Probabilidade_SPAM_2, Probabilidade_HAM_2))\n",
    "    #Atribuindo todos os reslutados a uma coluna nova no dataframe de testes:\n",
    "    teste_qualidade['Expected'] = coluna_Resultado_2\n",
    "    \n",
    "    #Criando contadores para as quantidades de acertos do classificador:\n",
    "    Positivos_verdadeiros_2, Negativos_verdadeiros_2 = 0,0\n",
    "\n",
    "    #Criando um loop para comparar os resultados do classificador com a classificação pré-definida:\n",
    "    for Class_teste_2, Expected_teste_2 in zip(teste_qualidade[\"Class\"], teste_qualidade[\"Expected\"]):\n",
    "        if Class_teste_2 == \"spam\" and Expected_teste_2 == \"spam\":\n",
    "            Positivos_verdadeiros_2 += 1\n",
    "        elif Class_teste_2 == \"ham\" and Expected_teste_2 == \"ham\":\n",
    "            Negativos_verdadeiros_2 += 1\n",
    "    #Alocando a taxa de acerto do classificador de cada vez que o loop rodar:\n",
    "    Lista_acertos.append((100*(Positivos_verdadeiros_2+Negativos_verdadeiros_2))/len(teste))"
   ]
  },
  {
   "cell_type": "markdown",
   "metadata": {},
   "source": [
    "...\n",
    "\n",
    "### 4.1 Analise dos resultados:\n",
    "\n",
    "Dado que o código anterior executa o classificador em 10.000 conjuntos de dados distintos, esta seção é dedicada a uma análise de sua eficácia."
   ]
  },
  {
   "cell_type": "code",
   "execution_count": 32,
   "metadata": {},
   "outputs": [],
   "source": [
    "#Crinado uma lista para os valores diferentes de 100%:\n",
    "lista_1 = []\n",
    "\n",
    "#Criando um loop para atribuir os valores diferntes de 100% a lista:\n",
    "for index in range(len(Lista_acertos)):\n",
    "    if Lista_acertos[index] != 100:\n",
    "        lista_1.append(Lista_acertos[index])"
   ]
  },
  {
   "cell_type": "code",
   "execution_count": 33,
   "metadata": {},
   "outputs": [
    {
     "name": "stdout",
     "output_type": "stream",
     "text": [
      "Porcentagem de vezes que o classificador da menos de 100%:\n",
      "- 24.93%\n"
     ]
    }
   ],
   "source": [
    "#Criando contador de 100% de acertos:\n",
    "lista_100 = 0\n",
    "#Criando contador das demais quantidades de acertos:\n",
    "lista_resto = 0\n",
    "#Loop para fazer as contagens:\n",
    "for n in Lista_acertos:\n",
    "    if n == 100:\n",
    "        lista_100 += 1\n",
    "    else:\n",
    "        lista_resto += 1\n",
    "#Descobrindo a porcentagem de vezes que não da 100%:\n",
    "lista_resto_porcentagem = (lista_resto / (lista_100 + lista_resto)) * 100\n",
    "print(\"Porcentagem de vezes que o classificador da menos de 100%:\\n- {:.2f}%\".format(lista_resto_porcentagem))"
   ]
  },
  {
   "cell_type": "markdown",
   "metadata": {},
   "source": [
    "\n",
    "\n",
    "#### Gerando o histograma da distribuição de frequência quando não se atinge 100%:"
   ]
  },
  {
   "cell_type": "code",
   "execution_count": 34,
   "metadata": {},
   "outputs": [
    {
     "data": {
      "image/png": "[encoded data removed]",
      "text/plain": [
       "<Figure size 432x288 with 1 Axes>"
      ]
     },
     "metadata": {
      "needs_background": "light"
     },
     "output_type": "display_data"
    }
   ],
   "source": [
    "#Plotando o histograma da porcentagem de acerto dos classificadores:\n",
    "plt.hist(lista_1, bins = 200, density = True);\n",
    "plt.title(\"\\nDistribuição de Frequência quando não se atinge 100%\")\n",
    "plt.xlabel(\"Porcentagem\")\n",
    "plt.ylabel(\"Densidade\")\n",
    "plt.show()"
   ]
  },
  {
   "cell_type": "markdown",
   "metadata": {},
   "source": [
    "### 4.2 Conclusão:"
   ]
  },
  {
   "cell_type": "markdown",
   "metadata": {},
   "source": [
    "Após a execução do classificador 10.000 vezes, destacam-se resultados que evidenciam uma notável eficácia do modelo, alcançando uma acurácia de 100% em aproximadamente 75% das instâncias. Além disso, nos casos em que a acurácia não atinge o máximo, observa-se uma consistência em torno de 86/87%.\n",
    "\n",
    "Ao focar na variabilidade nos resultados, fica evidenciado uma influência marcante da modificação na base de treinamento sobre o desempenho do classificador. Essa observação reforça a importância da seleção e qualidade dos dados de treinamento, destacando seu papel determinante na capacidade preditiva do modelo."
   ]
  }
 ],
 "metadata": {
  "anaconda-cloud": {},
  "kernelspec": {
   "display_name": "Python 3 (ipykernel)",
   "language": "python",
   "name": "python3"
  },
  "language_info": {
   "codemirror_mode": {
    "name": "ipython",
    "version": 3
   },
   "file_extension": ".py",
   "mimetype": "text/x-python",
   "name": "python",
   "nbconvert_exporter": "python",
   "pygments_lexer": "ipython3",
   "version": "3.9.7"
  }
 },
 "nbformat": 4,
 "nbformat_minor": 1
}
